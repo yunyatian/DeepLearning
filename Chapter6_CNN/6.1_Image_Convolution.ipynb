{
 "nbformat": 4,
 "nbformat_minor": 0,
 "metadata": {
  "colab": {
   "provenance": [],
   "authorship_tag": "ABX9TyNjK4852WmMpJxhmCt+dumc"
  },
  "kernelspec": {
   "name": "python3",
   "display_name": "Python 3"
  },
  "language_info": {
   "name": "python"
  },
  "accelerator": "GPU",
  "gpuClass": "standard"
 },
 "cells": [
  {
   "cell_type": "code",
   "execution_count": 1,
   "metadata": {
    "id": "DKC2p0EgyeUm",
    "executionInfo": {
     "status": "ok",
     "timestamp": 1679295833202,
     "user_tz": -480,
     "elapsed": 4204,
     "user": {
      "displayName": "yatian yun",
      "userId": "14499165712729714688"
     }
    },
    "pycharm": {
     "name": "#%%\n"
    }
   },
   "outputs": [],
   "source": [
    "import torch\n",
    "from torch import nn\n",
    "from d2l import limutorch as d2l\n",
    "\n",
    "\"\"\"互相关运算\"\"\"\n",
    "def corr2d(X, K):\n",
    "  \"\"\"计算二维相关运算\"\"\"\n",
    "  h, w = K.shape\n",
    "  Y = torch.zeros((X.shape[0] - h + 1, X.shape[1] - w + 1))\n",
    "  for i in range(Y.shape[0]):\n",
    "    for j in range(Y.shape[1]):\n",
    "      Y[i, j] = (X[i:i+h, j:j+w] * K).sum()\n",
    "  return Y"
   ]
  },
  {
   "cell_type": "code",
   "source": [
    "\"\"\"验证上述二维互相关运算的输出\"\"\"\n",
    "X = torch.tensor([[0.0, 1.0, 2.0], [3.0, 4.0, 5.0], [6.0, 7.0, 8.0]])\n",
    "K = torch.tensor([[0.0, 1.0], [2.0, 3.0]])\n",
    "corr2d(X, K)"
   ],
   "metadata": {
    "colab": {
     "base_uri": "https://localhost:8080/"
    },
    "id": "bkUeGq8e0nvz",
    "executionInfo": {
     "status": "ok",
     "timestamp": 1679295836417,
     "user_tz": -480,
     "elapsed": 3,
     "user": {
      "displayName": "yatian yun",
      "userId": "14499165712729714688"
     }
    },
    "outputId": "33a990df-4d37-4333-bf38-454f0f2bc1ff",
    "pycharm": {
     "name": "#%%\n"
    }
   },
   "execution_count": 4,
   "outputs": [
    {
     "output_type": "execute_result",
     "data": {
      "text/plain": [
       "tensor([[19., 25.],\n",
       "        [37., 43.]])"
      ]
     },
     "metadata": {},
     "execution_count": 4
    }
   ]
  },
  {
   "cell_type": "code",
   "source": [
    "\"\"\"实现二维卷积层\"\"\"\n",
    "class Conv2D(nn.Module):\n",
    "  def __init__(self, kernel_size):\n",
    "    super().__init__()\n",
    "    self.weight = nn.Parameter(torch.rand(kernel_size))\n",
    "    self.bias = nn.Parameter(torch.zeros(1))\n",
    "\n",
    "  def forward(self, x):\n",
    "    return corr2d(x, self.weight) + self.bias"
   ],
   "metadata": {
    "id": "lmB8fTzg1R-Y",
    "pycharm": {
     "name": "#%%\n"
    }
   },
   "execution_count": null,
   "outputs": []
  },
  {
   "cell_type": "code",
   "source": [
    "\"\"\"卷积层的一个简单应用：检测图像中不同颜色的边缘\"\"\"\n",
    "X = torch.ones((6,8))\n",
    "X [:, 2:6] = 0\n",
    "X"
   ],
   "metadata": {
    "colab": {
     "base_uri": "https://localhost:8080/"
    },
    "id": "I3YwaM2O2gPE",
    "executionInfo": {
     "status": "ok",
     "timestamp": 1679296244102,
     "user_tz": -480,
     "elapsed": 4,
     "user": {
      "displayName": "yatian yun",
      "userId": "14499165712729714688"
     }
    },
    "outputId": "8cbcd7cc-4375-453d-9899-2c46b4eda820",
    "pycharm": {
     "name": "#%%\n"
    }
   },
   "execution_count": 5,
   "outputs": [
    {
     "output_type": "execute_result",
     "data": {
      "text/plain": [
       "tensor([[1., 1., 0., 0., 0., 0., 1., 1.],\n",
       "        [1., 1., 0., 0., 0., 0., 1., 1.],\n",
       "        [1., 1., 0., 0., 0., 0., 1., 1.],\n",
       "        [1., 1., 0., 0., 0., 0., 1., 1.],\n",
       "        [1., 1., 0., 0., 0., 0., 1., 1.],\n",
       "        [1., 1., 0., 0., 0., 0., 1., 1.]])"
      ]
     },
     "metadata": {},
     "execution_count": 5
    }
   ]
  },
  {
   "cell_type": "code",
   "source": [
    "K = torch.tensor([[1.0, -1.0]])"
   ],
   "metadata": {
    "id": "G_Dz3P8Q2045",
    "executionInfo": {
     "status": "ok",
     "timestamp": 1679296537034,
     "user_tz": -480,
     "elapsed": 850,
     "user": {
      "displayName": "yatian yun",
      "userId": "14499165712729714688"
     }
    },
    "pycharm": {
     "name": "#%%\n"
    }
   },
   "execution_count": 8,
   "outputs": []
  },
  {
   "cell_type": "code",
   "source": [
    "\"\"\"输出Y中1代表从白色到黑色边缘，-1代表从黑色到白色边缘\"\"\"\n",
    "Y = corr2d(X, K)\n",
    "Y"
   ],
   "metadata": {
    "colab": {
     "base_uri": "https://localhost:8080/"
    },
    "id": "tP4yRA-O3WHT",
    "executionInfo": {
     "status": "ok",
     "timestamp": 1679296545543,
     "user_tz": -480,
     "elapsed": 3,
     "user": {
      "displayName": "yatian yun",
      "userId": "14499165712729714688"
     }
    },
    "outputId": "295e6f66-32cf-4195-b692-8fec44775118",
    "pycharm": {
     "name": "#%%\n"
    }
   },
   "execution_count": 9,
   "outputs": [
    {
     "output_type": "execute_result",
     "data": {
      "text/plain": [
       "tensor([[ 0.,  1.,  0.,  0.,  0., -1.,  0.],\n",
       "        [ 0.,  1.,  0.,  0.,  0., -1.,  0.],\n",
       "        [ 0.,  1.,  0.,  0.,  0., -1.,  0.],\n",
       "        [ 0.,  1.,  0.,  0.,  0., -1.,  0.],\n",
       "        [ 0.,  1.,  0.,  0.,  0., -1.,  0.],\n",
       "        [ 0.,  1.,  0.,  0.,  0., -1.,  0.]])"
      ]
     },
     "metadata": {},
     "execution_count": 9
    }
   ]
  },
  {
   "cell_type": "code",
   "source": [
    "\"\"\"[1.0, -1.0]卷积核只能检测垂直边缘，不能检测水平边缘\"\"\"\n",
    "corr2d(X.t(), K)"
   ],
   "metadata": {
    "colab": {
     "base_uri": "https://localhost:8080/"
    },
    "id": "mq3xRqRN4ODK",
    "executionInfo": {
     "status": "ok",
     "timestamp": 1679296692943,
     "user_tz": -480,
     "elapsed": 4,
     "user": {
      "displayName": "yatian yun",
      "userId": "14499165712729714688"
     }
    },
    "outputId": "18d09d4e-1b92-4c87-efc8-9a901ce23843",
    "pycharm": {
     "name": "#%%\n"
    }
   },
   "execution_count": 10,
   "outputs": [
    {
     "output_type": "execute_result",
     "data": {
      "text/plain": [
       "tensor([[0., 0., 0., 0., 0.],\n",
       "        [0., 0., 0., 0., 0.],\n",
       "        [0., 0., 0., 0., 0.],\n",
       "        [0., 0., 0., 0., 0.],\n",
       "        [0., 0., 0., 0., 0.],\n",
       "        [0., 0., 0., 0., 0.],\n",
       "        [0., 0., 0., 0., 0.],\n",
       "        [0., 0., 0., 0., 0.]])"
      ]
     },
     "metadata": {},
     "execution_count": 10
    }
   ]
  },
  {
   "cell_type": "code",
   "source": [
    "\"\"\"学习由X生成Y的卷积核\"\"\"\n",
    "conv2d = nn.Conv2d(1, 1, kernel_size=(1, 2), bias=False)\n",
    "\n",
    "X = X.reshape((1, 1, 6, 8)) ## [x, y, m ,n] x是批量大小， y是通道数， [m, n]表示输入元素尺寸\n",
    "Y = Y.reshape((1, 1, 6, 7))\n",
    "\n",
    "for i in range(10):\n",
    "  Y_hat = conv2d(X)\n",
    "  l = (Y_hat - Y) ** 2\n",
    "  conv2d.zero_grad()\n",
    "  l.sum().backward()\n",
    "  conv2d.weight.data[:] -= 3e-2 * conv2d.weight.grad\n",
    "  if (i + 1)% 2 == 0:\n",
    "    print(f'batch{i+1}, loss{l.sum():.3f}')"
   ],
   "metadata": {
    "colab": {
     "base_uri": "https://localhost:8080/"
    },
    "id": "imtR8LIO4njy",
    "executionInfo": {
     "status": "ok",
     "timestamp": 1679297175512,
     "user_tz": -480,
     "elapsed": 665,
     "user": {
      "displayName": "yatian yun",
      "userId": "14499165712729714688"
     }
    },
    "outputId": "c1438db3-08e4-49dc-ea69-c7c3d80578bf",
    "pycharm": {
     "name": "#%%\n"
    }
   },
   "execution_count": 11,
   "outputs": [
    {
     "output_type": "stream",
     "name": "stdout",
     "text": [
      "batch2, loss10.878\n",
      "batch4, loss2.446\n",
      "batch6, loss0.664\n",
      "batch8, loss0.216\n",
      "batch10, loss0.079\n"
     ]
    }
   ]
  },
  {
   "cell_type": "code",
   "source": [
    "\"\"\"所学卷积核的权重张量\"\"\"\n",
    "conv2d.weight.data, conv2d.weight.data.reshape((1,2))"
   ],
   "metadata": {
    "colab": {
     "base_uri": "https://localhost:8080/"
    },
    "id": "vToCWbFu7IN0",
    "executionInfo": {
     "status": "ok",
     "timestamp": 1679297467276,
     "user_tz": -480,
     "elapsed": 2,
     "user": {
      "displayName": "yatian yun",
      "userId": "14499165712729714688"
     }
    },
    "outputId": "23c362b1-d3f4-447b-fabc-adbd851ef878",
    "pycharm": {
     "name": "#%%\n"
    }
   },
   "execution_count": 14,
   "outputs": [
    {
     "output_type": "execute_result",
     "data": {
      "text/plain": [
       "(tensor([[[[ 1.0128, -0.9573]]]]), tensor([[ 1.0128, -0.9573]]))"
      ]
     },
     "metadata": {},
     "execution_count": 14
    }
   ]
  }
 ]
}