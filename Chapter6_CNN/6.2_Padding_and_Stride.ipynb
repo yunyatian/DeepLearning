{
 "cells": [
  {
   "cell_type": "markdown",
   "source": [
    "### 填充\n",
    "> * 填充$p_h$行和$p_h$列，输出形状为：$(n_h-k_h+p_h+1)\\times(n_w-k_w+p_w+1)$\n",
    "> * 通常取$p_h=k_h-1$,$p_w=k_w-1$\n",
    ">> * 当$k_h$为奇数：在上下两侧填充$p_h/2$\n",
    ">> * 当$k_h$为偶数：在上侧填充 $\\ulcorner p_h/2\\urcorner$，在下侧填充$\\llcorner p_h/2\\lrcorner$\n",
    "#### <font color='red'>填充是为了当层数过大时，不至于使得输入大小被卷积缩小到无法进行卷积的地步</font>"
   ],
   "metadata": {
    "collapsed": false,
    "pycharm": {
     "name": "#%% md\n"
    }
   }
  },
  {
   "cell_type": "markdown",
   "source": [
    "### 步幅\n",
    "> * 给定高度$s_h$和宽度$s_w$的步幅，输出形状为$\\llcorner(n_h-k_h+p_h+s_h)/s_h\\lrcorner \\times \\llcorner(n_w-k_w+p_w+s_w)/s_w\\lrcorner$\n",
    "> * 如果$p_h=k_h-1,p_w=k_w-1,\\llcorner(b_h+s_h-1)/s_h\\lrcorner \\times \\llcorner (n_w+s_w-1)/s_w\\lrcorner$\n",
    "> * 如果输入高度和宽度可以被步幅整除，$(n_h/s_h)\\times(n_w/s_w)$\n",
    "#### <font color='red'>步幅是为了当输入尺寸过大，卷积难以使用较小层数使得输入大小变小</font>"
   ],
   "metadata": {
    "collapsed": false,
    "pycharm": {
     "name": "#%% md\n"
    }
   }
  },
  {
   "cell_type": "markdown",
   "source": [
    "### 总结\n",
    "> * 填充和步幅是卷积层的超参数\n",
    "> * 填充在输入周围添加额外的行/列，来控制输出形状的减少量\n",
    "> * 步幅是每次滑动核窗口的行/列的步长，可以成倍的减少输出形状"
   ],
   "metadata": {
    "collapsed": false,
    "pycharm": {
     "name": "#%% md\n"
    }
   }
  },
  {
   "cell_type": "code",
   "execution_count": 1,
   "outputs": [
    {
     "data": {
      "text/plain": "torch.Size([8, 8])"
     },
     "execution_count": 1,
     "metadata": {},
     "output_type": "execute_result"
    }
   ],
   "source": [
    "import torch\n",
    "from torch import nn\n",
    "\n",
    "\"\"\"在所有侧边填充1个像素\"\"\"\n",
    "def comp_conv2d(conv2d, X):\n",
    "    X = X.reshape((1, 1) + X.shape) ## 将X尺寸变为[1, 1, X.shape[0],X.shape[1]]\n",
    "    Y = conv2d(X)\n",
    "    return Y.reshape(Y.shape[2:])\n",
    "\n",
    "conv2d = nn.Conv2d(1, 1, kernel_size=3, padding=1) ## padding=1表示在上下左右个填充1行，所以一共填充了2行，所以输出形状为：8-3+2+1=8\n",
    "X = torch.rand(size=(8, 8))\n",
    "comp_conv2d(conv2d, X).shape"
   ],
   "metadata": {
    "collapsed": false,
    "pycharm": {
     "name": "#%%\n"
    }
   }
  },
  {
   "cell_type": "code",
   "execution_count": 2,
   "outputs": [
    {
     "data": {
      "text/plain": "torch.Size([8, 8])"
     },
     "execution_count": 2,
     "metadata": {},
     "output_type": "execute_result"
    }
   ],
   "source": [
    "\"\"\"填充不同的高度和宽度\"\"\"\n",
    "conv2d = nn.Conv2d(1, 1, kernel_size=(5, 3), padding=(2, 1)) ##padding=(2,1)表示在上下填充2行，左右填充1行\n",
    "comp_conv2d(conv2d, X).shape"
   ],
   "metadata": {
    "collapsed": false,
    "pycharm": {
     "name": "#%%\n"
    }
   }
  },
  {
   "cell_type": "code",
   "execution_count": 3,
   "outputs": [
    {
     "data": {
      "text/plain": "torch.Size([4, 4])"
     },
     "execution_count": 3,
     "metadata": {},
     "output_type": "execute_result"
    }
   ],
   "source": [
    "\"\"\"将步幅的高宽设为2\"\"\"\n",
    "conv2d = nn.Conv2d(1, 1, kernel_size=3, padding=1, stride=2)\n",
    "comp_conv2d(conv2d, X).shape"
   ],
   "metadata": {
    "collapsed": false,
    "pycharm": {
     "name": "#%%\n"
    }
   }
  },
  {
   "cell_type": "code",
   "execution_count": null,
   "outputs": [],
   "source": [
    "\"\"\"一个稍微复杂的例子\"\"\"\n",
    "conv2d = nn.Conv2d(1, 1, kernel_size=(3, 5), padding=(0,  1), stride=(3, 4))\n",
    "comp_conv2d(conv2d, X).shape"
   ],
   "metadata": {
    "collapsed": false,
    "pycharm": {
     "name": "#%%\n"
    }
   }
  },
  {
   "cell_type": "markdown",
   "source": [
    "#### 卷积的超参数：<font color='red'>核大小， 填充， 步幅<font>"
   ],
   "metadata": {
    "collapsed": false,
    "pycharm": {
     "name": "#%% md\n"
    }
   }
  },
  {
   "cell_type": "code",
   "execution_count": null,
   "outputs": [],
   "source": [],
   "metadata": {
    "collapsed": false,
    "pycharm": {
     "name": "#%%\n"
    }
   }
  }
 ],
 "metadata": {
  "kernelspec": {
   "display_name": "Python 3",
   "language": "python",
   "name": "python3"
  },
  "language_info": {
   "codemirror_mode": {
    "name": "ipython",
    "version": 2
   },
   "file_extension": ".py",
   "mimetype": "text/x-python",
   "name": "python",
   "nbconvert_exporter": "python",
   "pygments_lexer": "ipython2",
   "version": "2.7.6"
  }
 },
 "nbformat": 4,
 "nbformat_minor": 0
}