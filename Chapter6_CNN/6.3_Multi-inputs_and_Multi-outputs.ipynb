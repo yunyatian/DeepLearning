{
 "cells": [
  {
   "cell_type": "markdown",
   "source": [
    "### 多个输入通道\n",
    "> * 每个通道都有一个卷积核，结果是所有通道卷积结果的和\n",
    "![](../images/Multi-Inputs.png)\n",
    "> * 输入X：$c_i\\times n_h\\times n_w$\n",
    "> * 核W：$c_i\\times k_h \\times k_w$\n",
    "> * 输出Y：$m_h \\times m_w$\n",
    "> * <font color = 'red'>$Y=\\sum^{c_i}_{i=0}X_{i,:,:}\\star W_{i,:,:}$</font>"
   ],
   "metadata": {
    "collapsed": false,
    "pycharm": {
     "name": "#%% md\n"
    }
   }
  },
  {
   "cell_type": "markdown",
   "source": [
    "### 多输出通道\n",
    "> * 无论有多少输入通道，到目前为止只用到单输入通道\n",
    "> * 可以有多个三维卷积核，每个核生成一个输出通道\n",
    "> * 输入X：$c_i\\times n_h\\times n_w$\n",
    "> * 核W：$c_o\\times c_i\\times k_h\\times k_w$\n",
    "> * 输出Y：$c_o\\times m_h\\times m_w$\n",
    "> * $Y_{i,:,:}=X\\star W_{i,:,:,:}$   for$i=1,...,c_o$"
   ],
   "metadata": {
    "collapsed": false,
    "pycharm": {
     "name": "#%% md\n"
    }
   }
  },
  {
   "cell_type": "markdown",
   "source": [
    "### 多个输入和输出通道\n",
    "> * 每个输出通道可以识别特定模式\n",
    "> * 输出通道核识别并组合输入中的模式"
   ],
   "metadata": {
    "collapsed": false,
    "pycharm": {
     "name": "#%% md\n"
    }
   }
  },
  {
   "cell_type": "markdown",
   "source": [
    "### $1\\times 1$卷积层\n",
    "> $k_h=k_w=1$是一个受欢迎的选择，他不识别空间模式，只是融合通道\n",
    "\n",
    "![](../images/1x1Conv.png)\n",
    "相当于输入形状为$n_h n_w\\times c_i$，权重为$c_o\\times c_i$的全连接层"
   ],
   "metadata": {
    "collapsed": false,
    "pycharm": {
     "name": "#%% md\n"
    }
   }
  },
  {
   "cell_type": "markdown",
   "source": [
    "### 二维卷积层\n",
    "> * 输入X：$c_i\\times n_h\\times n_w$\n",
    "> * 核W：$c_o\\times c_i\\times k_h\\times k_w$\n",
    "> * 偏差B：$c_o\\times c_i$\n",
    "> * 输出Y：$c_o\\times m_h\\times m_w$\n",
    "> * $Y=X\\star W+B$\n",
    "> * 计算复杂度（浮点计算数FLOP）$O(c_i c_o k_h k_w m_h m_w)$"
   ],
   "metadata": {
    "collapsed": false,
    "pycharm": {
     "name": "#%% md\n"
    }
   }
  },
  {
   "cell_type": "markdown",
   "source": [
    "### 总结\n",
    "> * 输出通道数时卷积层的超参数\n",
    "> * 每个输入通道有独立的二维卷积核，所有通道结果相加得到一个输出通道结果\n",
    "> * 每个输出通道有独立的三维卷积核"
   ],
   "metadata": {
    "collapsed": false,
    "pycharm": {
     "name": "#%% md\n"
    }
   }
  },
  {
   "cell_type": "code",
   "execution_count": 1,
   "outputs": [],
   "source": [
    "\"\"\"实现一下多输入通道互相关运算\"\"\"\n",
    "import torch\n",
    "from d2l import limutorch as d2l\n",
    "\n",
    "def corr2d_multi_in(X, K):\n",
    "    return sum(d2l.corr2d(x, k) for x,k in zip(X, K))"
   ],
   "metadata": {
    "collapsed": false,
    "pycharm": {
     "name": "#%%\n"
    }
   }
  },
  {
   "cell_type": "code",
   "execution_count": 11,
   "outputs": [
    {
     "data": {
      "text/plain": "tensor([[ 56.,  72.],\n        [104., 120.]])"
     },
     "execution_count": 11,
     "metadata": {},
     "output_type": "execute_result"
    }
   ],
   "source": [
    "X = torch.tensor([[[0.0, 1.0, 2.0],[3.0, 4.0, 5.0],[6.0, 7.0, 8.0]],\n",
    "                  [[1.0, 2.0, 3.0],[4.0, 5.0, 6.0],[7.0, 8.0, 9.0]]])\n",
    "K = torch.tensor([[[0.0, 1.0],[2.0, 3.0]],[[1.0, 2.0], [3.0, 4.0]]])\n",
    "\n",
    "corr2d_multi_in(X, K)"
   ],
   "metadata": {
    "collapsed": false,
    "pycharm": {
     "name": "#%%\n"
    }
   }
  },
  {
   "cell_type": "code",
   "execution_count": 12,
   "outputs": [
    {
     "data": {
      "text/plain": "torch.Size([3, 2, 2, 2])"
     },
     "execution_count": 12,
     "metadata": {},
     "output_type": "execute_result"
    }
   ],
   "source": [
    "\"\"\"计算多个通道的输出的互相关函数\"\"\"\n",
    "def corr2d_multi_in_out(X, K):\n",
    "    return torch.stack([corr2d_multi_in(X, k) for k in K], 0) ##torch.stack是对内容进行拼接，与torch.cat差不多，torch.cat保持维度不变，torch.stack维度会发生变化\n",
    "\n",
    "K = torch.stack((K, K+1, K+2), 0)\n",
    "K.shape"
   ],
   "metadata": {
    "collapsed": false,
    "pycharm": {
     "name": "#%%\n"
    }
   }
  },
  {
   "cell_type": "code",
   "execution_count": 13,
   "outputs": [
    {
     "data": {
      "text/plain": "tensor([[[ 56.,  72.],\n         [104., 120.]],\n\n        [[ 76., 100.],\n         [148., 172.]],\n\n        [[ 96., 128.],\n         [192., 224.]]])"
     },
     "execution_count": 13,
     "metadata": {},
     "output_type": "execute_result"
    }
   ],
   "source": [
    "corr2d_multi_in_out(X, K)"
   ],
   "metadata": {
    "collapsed": false,
    "pycharm": {
     "name": "#%%\n"
    }
   }
  },
  {
   "cell_type": "code",
   "execution_count": 14,
   "outputs": [],
   "source": [
    "\"\"\"1x1卷积\"\"\"\n",
    "def corr2d_multi_in_out_1x1(X, K):\n",
    "    c_i, h, w = X.c_i, h, w = X.shape\n",
    "    c_o = K.shape[0]\n",
    "    X = X.reshape((c_i, h*w))\n",
    "    K = K.reshape((c_o, c_i))\n",
    "    Y = torch.matmul(K, X) ## torch.matmul是矩阵乘法，卷积进行的二维相关运算，全连接层进行的是矩阵乘法，所以这里相当于进行的是全连接层运算\n",
    "    return Y.reshape((c_o, h, w))\n",
    "\n",
    "X = torch.normal(0, 1, (3, 3, 3))\n",
    "K = torch.normal(0, 1, (2, 3, 1, 1))\n",
    "\n",
    "Y1 = corr2d_multi_in_out_1x1(X, K)\n",
    "Y2 = corr2d_multi_in_out(X, K)\n",
    "assert float(torch.abs(Y1 - Y2).sum()) < 1e-6"
   ],
   "metadata": {
    "collapsed": false,
    "pycharm": {
     "name": "#%%\n"
    }
   }
  },
  {
   "cell_type": "code",
   "execution_count": null,
   "outputs": [],
   "source": [],
   "metadata": {
    "collapsed": false,
    "pycharm": {
     "name": "#%%\n"
    }
   }
  }
 ],
 "metadata": {
  "kernelspec": {
   "display_name": "Python 3",
   "language": "python",
   "name": "python3"
  },
  "language_info": {
   "codemirror_mode": {
    "name": "ipython",
    "version": 2
   },
   "file_extension": ".py",
   "mimetype": "text/x-python",
   "name": "python",
   "nbconvert_exporter": "python",
   "pygments_lexer": "ipython2",
   "version": "2.7.6"
  }
 },
 "nbformat": 4,
 "nbformat_minor": 0
}