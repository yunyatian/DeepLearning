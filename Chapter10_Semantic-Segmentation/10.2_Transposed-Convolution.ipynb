{
 "cells": [
  {
   "cell_type": "markdown",
   "source": [
    "### 转置卷积\n",
    "> * 普通卷积不会增大输入的高宽，通常要么高宽不变，要么减半\n",
    "> * 转置卷积则可以用来增大输入高宽\n",
    "![](../images/Transposed-Convolution.png)\n",
    "> * 从基本的转置卷积开始，设步幅为1且不设填充。假设有一个$n_h\\times n_w$的输入张量和一个$k_h\\times k_w$的卷积核。以步幅为1滑动卷积核窗口，每行$n_w$次，每列$n_h$次，共产生$n_h n_w$个中间结果。每个中间结果都是一个$(n_h+k_h-1)\\times (n_w+k_w-1)$的张量，初始化为0。<font color='red'>为了计算每个中间张量，输入张量中的每个元素都要乘以卷积核，从而使得$k_h\\times k_w$张量替换中间张量的一部分。请注意，每个张量被替换部分的位置与输入张量中元素的位置相对应。</font>最后，所有中间结果相加以获得最终结果。\n",
    "> * 输出为$Y[i:i+h, j:j+w] += X[i,j]\\cdot K$"
   ],
   "metadata": {
    "collapsed": false,
    "pycharm": {
     "name": "#%% md\n"
    }
   }
  },
  {
   "cell_type": "markdown",
   "source": [
    "#### 为什么称之为转置\n",
    "> * 对于卷积$Y=X\\bigstar W$\n",
    ">> * 可以对$W$构造一个V，使得卷积等价于矩阵乘法$Y^\\prime=VX^\\prime$\n",
    ">> * 这里$Y^\\prime,X^\\prime$是Y,X对应的向量版本\n",
    "> * 转置卷积则等价于$Y^\\prime=V^TX^\\prime$\n",
    "> * 如果卷积将输入从$(h,w)$变成了$(h^\\prime,w^\\prime)$\n",
    ">> * 同样超参数的转置卷积则从$(h^\\prime,w^\\prime)$变成了$(h,w)$"
   ],
   "metadata": {
    "collapsed": false,
    "pycharm": {
     "name": "#%% md\n"
    }
   }
  },
  {
   "cell_type": "code",
   "execution_count": 2,
   "outputs": [],
   "source": [
    "import torch\n",
    "from torch import nn\n",
    "from d2l import limutorch as d2l"
   ],
   "metadata": {
    "collapsed": false,
    "pycharm": {
     "name": "#%%\n"
    }
   }
  },
  {
   "cell_type": "code",
   "execution_count": 3,
   "outputs": [],
   "source": [
    "\"\"\"实现基本的转置卷积运算\"\"\"\n",
    "def trans_conv(X, K):\n",
    "    h, w = K.shape\n",
    "    Y = torch.zeros((X.shape[0] + h - 1, X.shape[1] + w - 1))\n",
    "    for i in range(X.shape[0]):\n",
    "        for j in range(X.shape[1]):\n",
    "            Y[i:i+h, j:j+w] += X[i, j] * K\n",
    "    return Y"
   ],
   "metadata": {
    "collapsed": false,
    "pycharm": {
     "name": "#%%\n"
    }
   }
  },
  {
   "cell_type": "code",
   "execution_count": 5,
   "outputs": [
    {
     "data": {
      "text/plain": "tensor([[ 0.,  0.,  1.],\n        [ 0.,  4.,  6.],\n        [ 4., 12.,  9.]])"
     },
     "execution_count": 5,
     "metadata": {},
     "output_type": "execute_result"
    }
   ],
   "source": [
    "X = torch.tensor([[0.0, 1.0], [2.0, 3.0]])\n",
    "K = torch.tensor([[0.0, 1.0], [2.0, 3.0]])\n",
    "trans_conv(X, K)"
   ],
   "metadata": {
    "collapsed": false,
    "pycharm": {
     "name": "#%%\n"
    }
   }
  },
  {
   "cell_type": "code",
   "execution_count": 6,
   "outputs": [
    {
     "data": {
      "text/plain": "tensor([[[[ 0.,  0.,  1.],\n          [ 0.,  4.,  6.],\n          [ 4., 12.,  9.]]]], grad_fn=<ConvolutionBackward0>)"
     },
     "execution_count": 6,
     "metadata": {},
     "output_type": "execute_result"
    }
   ],
   "source": [
    "\"\"\"使用高级API获得相同的结果\"\"\"\n",
    "X, K = X.reshape(1, 1, 2, 2), K.reshape(1, 1, 2, 2)\n",
    "tconv = nn.ConvTranspose2d(1, 1, kernel_size=2, bias=False)\n",
    "tconv.weight.data = K\n",
    "tconv(X)"
   ],
   "metadata": {
    "collapsed": false,
    "pycharm": {
     "name": "#%%\n"
    }
   }
  },
  {
   "cell_type": "markdown",
   "source": [
    "#### 转置卷积的填充\n",
    "与常规卷积不同，在转置卷积中，填充被应用于输出中（常规卷积将填充应用于输出中）。例如，<font color='red'>当将宽和高两侧的填充数指定为1时，转置卷积的输出中将删除第一和最后的行列</font>。加了填充会将输出变小。"
   ],
   "metadata": {
    "collapsed": false,
    "pycharm": {
     "name": "#%% md\n"
    }
   }
  },
  {
   "cell_type": "code",
   "execution_count": 7,
   "outputs": [
    {
     "data": {
      "text/plain": "tensor([[[[4.]]]], grad_fn=<ConvolutionBackward0>)"
     },
     "execution_count": 7,
     "metadata": {},
     "output_type": "execute_result"
    }
   ],
   "source": [
    "\"\"\"填充，步幅和多通道\"\"\"\n",
    "tconv = nn.ConvTranspose2d(1, 1, kernel_size=2, padding=1, bias=False)\n",
    "tconv.weight.data = K\n",
    "tconv(X)"
   ],
   "metadata": {
    "collapsed": false,
    "pycharm": {
     "name": "#%%\n"
    }
   }
  },
  {
   "cell_type": "markdown",
   "source": [
    "#### 转置卷积的步幅\n",
    "在转置卷积中，步幅被指定为中间结果（输出），而不是输入。下图是将步幅从1变为2增加的中间变量的高和权重。\n",
    "![](../images/Stride-of-Transposed-Convolution.png)"
   ],
   "metadata": {
    "collapsed": false,
    "pycharm": {
     "name": "#%% md\n"
    }
   }
  },
  {
   "cell_type": "code",
   "execution_count": 8,
   "outputs": [
    {
     "data": {
      "text/plain": "tensor([[[[0., 0., 0., 1.],\n          [0., 0., 2., 3.],\n          [0., 2., 0., 3.],\n          [4., 6., 6., 9.]]]], grad_fn=<ConvolutionBackward0>)"
     },
     "execution_count": 8,
     "metadata": {},
     "output_type": "execute_result"
    }
   ],
   "source": [
    "tconv = nn.ConvTranspose2d(1, 1, kernel_size=2, stride=2, bias=False)\n",
    "tconv.weight.data = K\n",
    "tconv(X)"
   ],
   "metadata": {
    "collapsed": false,
    "pycharm": {
     "name": "#%%\n"
    }
   }
  },
  {
   "cell_type": "code",
   "execution_count": 9,
   "outputs": [
    {
     "data": {
      "text/plain": "True"
     },
     "execution_count": 9,
     "metadata": {},
     "output_type": "execute_result"
    }
   ],
   "source": [
    "X = torch.rand(size=(1, 10, 16, 16))\n",
    "conv = nn.Conv2d(10, 20, kernel_size=5, padding=2, stride=3)\n",
    "tconv = nn.ConvTranspose2d(20, 10, kernel_size=5, padding=2, stride=3)\n",
    "tconv(conv(X)).shape == X.shape"
   ],
   "metadata": {
    "collapsed": false,
    "pycharm": {
     "name": "#%%\n"
    }
   }
  },
  {
   "cell_type": "code",
   "execution_count": 10,
   "outputs": [
    {
     "data": {
      "text/plain": "tensor([[27., 37.],\n        [57., 67.]])"
     },
     "execution_count": 10,
     "metadata": {},
     "output_type": "execute_result"
    }
   ],
   "source": [
    "\"\"\"与矩阵变换的联系\"\"\"\n",
    "X = torch.arange(9.0).reshape(3, 3)\n",
    "K = torch.tensor([[1.0, 2.0], [3.0, 4.0]])\n",
    "Y = d2l.corr2d(X, K)\n",
    "Y"
   ],
   "metadata": {
    "collapsed": false,
    "pycharm": {
     "name": "#%%\n"
    }
   }
  },
  {
   "cell_type": "code",
   "execution_count": 11,
   "outputs": [
    {
     "data": {
      "text/plain": "tensor([[1., 2., 0., 3., 4., 0., 0., 0., 0.],\n        [0., 1., 2., 0., 3., 4., 0., 0., 0.],\n        [0., 0., 0., 1., 2., 0., 3., 4., 0.],\n        [0., 0., 0., 0., 1., 2., 0., 3., 4.]])"
     },
     "execution_count": 11,
     "metadata": {},
     "output_type": "execute_result"
    }
   ],
   "source": [
    "def kernel2matrix(K):\n",
    "    k, W = torch.zeros(5), torch.zeros((4, 9))\n",
    "    k[:2], k[3:5] = K[0, :], K[1, :]\n",
    "    W[0, :5], W[1, 1:6], W[2, 3:8], W[3, 4:] = k, k, k, k\n",
    "    return W\n",
    "W = kernel2matrix(K)\n",
    "W"
   ],
   "metadata": {
    "collapsed": false,
    "pycharm": {
     "name": "#%%\n"
    }
   }
  },
  {
   "cell_type": "code",
   "execution_count": 12,
   "outputs": [
    {
     "data": {
      "text/plain": "tensor([[True, True],\n        [True, True]])"
     },
     "execution_count": 12,
     "metadata": {},
     "output_type": "execute_result"
    }
   ],
   "source": [
    "Y == torch.matmul(W, X.reshape(-1)).reshape(2, 2)"
   ],
   "metadata": {
    "collapsed": false,
    "pycharm": {
     "name": "#%%\n"
    }
   }
  },
  {
   "cell_type": "code",
   "execution_count": 15,
   "outputs": [
    {
     "data": {
      "text/plain": "(tensor([[True, True, True],\n         [True, True, True],\n         [True, True, True]]),\n tensor([[ 27.,  91.,  74.],\n         [138., 400., 282.],\n         [171., 429., 268.]]))"
     },
     "execution_count": 15,
     "metadata": {},
     "output_type": "execute_result"
    }
   ],
   "source": [
    "Z = trans_conv(Y, K)\n",
    "Z == torch.matmul(W.T, Y.reshape(-1)).reshape(3, 3), Z"
   ],
   "metadata": {
    "collapsed": false,
    "pycharm": {
     "name": "#%%\n"
    }
   }
  },
  {
   "cell_type": "markdown",
   "source": [
    "#### 重新排列输入和核\n",
    "> * 当填充为0步幅为1时\n",
    ">> * 将输入填充k-1（k是核窗口）\n",
    ">> * 将核矩阵上下，左右翻转\n",
    ">> * 然后做正常卷积（填充0， 步幅1）\n",
    "![](../images/Rearrange1.png)\n",
    "> * 当填充为p，步幅为1时\n",
    ">> * 将输入填充$k-p-1$（k是核窗口）\n",
    ">> * 将和举证上下，左右翻转\n",
    ">> * 然后做正常卷积（填充0，步幅1）\n",
    "![](../images/Rearrange2.png)\n",
    "> * 当填充为p步幅为s时\n",
    ">> * 在行和列之间插入$s-1$行或列\n",
    ">> * 将输入填充$k-p-1$（k是核窗口）\n",
    ">> * 将核矩阵上下，左右翻转\n",
    ">> * 然后正常卷积（填充0，步幅1）\n",
    "![](../images/Rearrange3.png)"
   ],
   "metadata": {
    "collapsed": false,
    "pycharm": {
     "name": "#%% md\n"
    }
   }
  },
  {
   "cell_type": "markdown",
   "source": [
    "#### 形状换算\n",
    "> * 输入高（宽）为n，核k，填充p，步幅s\n",
    "> * 转置卷积形状，高宽皆为：$n^\\prime = sn+k-p-s$\n",
    ">> * 卷积形状，高宽皆为：$n^\\prime=\\llcorner(n-k+p+s)/s\\lrcorner$$\\rightarrow n\\geqslant sn^\\prime+k-p-s$,即原始图像形状大小大于等于转置卷积后的形状大小\n",
    "> * 如果让高宽成倍增加，那么$k=p+s$\n",
    "> * <font color='red'>在实际运算过程，p的大小为设置值的两倍，因为p=k，意味着上下左右各加k行，总计添加2k行</font>"
   ],
   "metadata": {
    "collapsed": false,
    "pycharm": {
     "name": "#%% md\n"
    }
   }
  },
  {
   "cell_type": "markdown",
   "source": [
    "#### 转置卷积和反卷积的关系\n",
    "> * 数学上的反卷积是指卷积的逆运算\n",
    ">> * 如果Y=conv(X,K),那么X=deconv(Y,K)m\n",
    "> * 反卷积很少用在深度学习中\n",
    ">> * 反卷积神经网络指用了转置卷积的神经网络\n",
    "> * <font color='red'>转置卷积只是获得卷积前相同的形状，而反卷积在获得相同形状的同时，也获得相同的数据</font>"
   ],
   "metadata": {
    "collapsed": false,
    "pycharm": {
     "name": "#%% md\n"
    }
   }
  },
  {
   "cell_type": "markdown",
   "source": [
    "### 总结\n",
    "> * 转置卷积是一种变化了输入和核的卷积，来达到上采样的目的\n",
    "> * 转置卷积不等同于数学上的反卷积操作"
   ],
   "metadata": {
    "collapsed": false,
    "pycharm": {
     "name": "#%% md\n"
    }
   }
  },
  {
   "cell_type": "code",
   "execution_count": null,
   "outputs": [],
   "source": [],
   "metadata": {
    "collapsed": false,
    "pycharm": {
     "name": "#%%\n"
    }
   }
  }
 ],
 "metadata": {
  "kernelspec": {
   "display_name": "Python 3",
   "language": "python",
   "name": "python3"
  },
  "language_info": {
   "codemirror_mode": {
    "name": "ipython",
    "version": 2
   },
   "file_extension": ".py",
   "mimetype": "text/x-python",
   "name": "python",
   "nbconvert_exporter": "python",
   "pygments_lexer": "ipython2",
   "version": "2.7.6"
  }
 },
 "nbformat": 4,
 "nbformat_minor": 0
}