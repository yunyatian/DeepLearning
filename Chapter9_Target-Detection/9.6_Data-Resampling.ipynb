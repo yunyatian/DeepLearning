{
 "cells": [
  {
   "cell_type": "markdown",
   "source": [
    "### 数据重采样\n",
    "> * 当有类别样本严重不足时，可以使用人工干预提升他们对模型的影响力\n",
    "> * 最简单的就是将不足的类别样本复制几次\n",
    "> * 在随机采样小批量时对每个类使用不同采样频率\n",
    "> * 在计算损失时增大不足类别的权重\n",
    "> * 可以考虑使用SMOTE（不见得正确）\n",
    ">> * 在不足类样本中选择相近对做插值（就是取两个样本值中间的值作为新的样本值插入）"
   ],
   "metadata": {
    "collapsed": false,
    "pycharm": {
     "name": "#%% md\n"
    }
   }
  },
  {
   "cell_type": "code",
   "execution_count": null,
   "outputs": [],
   "source": [],
   "metadata": {
    "collapsed": false,
    "pycharm": {
     "name": "#%%\n"
    }
   }
  }
 ],
 "metadata": {
  "kernelspec": {
   "display_name": "Python 3",
   "language": "python",
   "name": "python3"
  },
  "language_info": {
   "codemirror_mode": {
    "name": "ipython",
    "version": 2
   },
   "file_extension": ".py",
   "mimetype": "text/x-python",
   "name": "python",
   "nbconvert_exporter": "python",
   "pygments_lexer": "ipython2",
   "version": "2.7.6"
  }
 },
 "nbformat": 4,
 "nbformat_minor": 0
}