{
 "cells": [
  {
   "cell_type": "code",
   "execution_count": 1,
   "outputs": [],
   "source": [
    "import collections\n",
    "import math\n",
    "import os\n",
    "import shutil\n",
    "import pandas as pd\n",
    "import torch\n",
    "import torchvision\n",
    "from torch import nn\n",
    "from d2l import limutorch as d2l"
   ],
   "metadata": {
    "collapsed": false,
    "pycharm": {
     "name": "#%%\n"
    }
   }
  },
  {
   "cell_type": "code",
   "execution_count": 2,
   "outputs": [
    {
     "name": "stdout",
     "output_type": "stream",
     "text": [
      "Downloading ..\\data\\kaggle_cifar10_tiny.zip from http://d2l-data.s3-accelerate.amazonaws.com/kaggle_cifar10_tiny.zip...\n"
     ]
    }
   ],
   "source": [
    "d2l.DATA_HUB['cifar10-_tiny'] = (d2l.DATA_URL + 'kaggle_cifar10_tiny.zip',\n",
    "                                 '2068874e4b9a9f0fb07ebe0ad2b29754449ccacd')\n",
    "demo = True\n",
    "\n",
    "if demo:\n",
    "    data_dir = d2l.download_extract('cifar10_tiny')\n",
    "else:\n",
    "    data_dir = '../data/cifar-10/'"
   ],
   "metadata": {
    "collapsed": false,
    "pycharm": {
     "name": "#%%\n"
    }
   }
  },
  {
   "cell_type": "code",
   "execution_count": 3,
   "outputs": [
    {
     "data": {
      "text/plain": "{'1': 'frog',\n '2': 'truck',\n '3': 'truck',\n '4': 'deer',\n '5': 'automobile',\n '6': 'automobile',\n '7': 'bird',\n '8': 'horse',\n '9': 'ship',\n '10': 'cat',\n '11': 'deer',\n '12': 'horse',\n '13': 'horse',\n '14': 'bird',\n '15': 'truck',\n '16': 'truck',\n '17': 'truck',\n '18': 'cat',\n '19': 'bird',\n '20': 'frog',\n '21': 'deer',\n '22': 'cat',\n '23': 'frog',\n '24': 'frog',\n '25': 'bird',\n '26': 'frog',\n '27': 'cat',\n '28': 'dog',\n '29': 'deer',\n '30': 'airplane',\n '31': 'airplane',\n '32': 'truck',\n '33': 'automobile',\n '34': 'cat',\n '35': 'deer',\n '36': 'airplane',\n '37': 'cat',\n '38': 'horse',\n '39': 'cat',\n '40': 'cat',\n '41': 'dog',\n '42': 'bird',\n '43': 'bird',\n '44': 'horse',\n '45': 'automobile',\n '46': 'automobile',\n '47': 'automobile',\n '48': 'bird',\n '49': 'bird',\n '50': 'airplane',\n '51': 'truck',\n '52': 'dog',\n '53': 'horse',\n '54': 'truck',\n '55': 'bird',\n '56': 'bird',\n '57': 'dog',\n '58': 'bird',\n '59': 'deer',\n '60': 'cat',\n '61': 'automobile',\n '62': 'automobile',\n '63': 'ship',\n '64': 'bird',\n '65': 'automobile',\n '66': 'automobile',\n '67': 'deer',\n '68': 'truck',\n '69': 'horse',\n '70': 'ship',\n '71': 'dog',\n '72': 'truck',\n '73': 'frog',\n '74': 'horse',\n '75': 'cat',\n '76': 'automobile',\n '77': 'truck',\n '78': 'airplane',\n '79': 'cat',\n '80': 'automobile',\n '81': 'cat',\n '82': 'dog',\n '83': 'deer',\n '84': 'dog',\n '85': 'horse',\n '86': 'horse',\n '87': 'deer',\n '88': 'horse',\n '89': 'truck',\n '90': 'deer',\n '91': 'bird',\n '92': 'cat',\n '93': 'ship',\n '94': 'airplane',\n '95': 'automobile',\n '96': 'frog',\n '97': 'automobile',\n '98': 'automobile',\n '99': 'deer',\n '100': 'automobile',\n '101': 'ship',\n '102': 'cat',\n '103': 'truck',\n '104': 'frog',\n '105': 'frog',\n '106': 'automobile',\n '107': 'ship',\n '108': 'dog',\n '109': 'bird',\n '110': 'truck',\n '111': 'truck',\n '112': 'ship',\n '113': 'automobile',\n '114': 'horse',\n '115': 'horse',\n '116': 'airplane',\n '117': 'airplane',\n '118': 'frog',\n '119': 'truck',\n '120': 'automobile',\n '121': 'bird',\n '122': 'bird',\n '123': 'truck',\n '124': 'bird',\n '125': 'frog',\n '126': 'frog',\n '127': 'automobile',\n '128': 'truck',\n '129': 'dog',\n '130': 'airplane',\n '131': 'deer',\n '132': 'horse',\n '133': 'frog',\n '134': 'horse',\n '135': 'automobile',\n '136': 'ship',\n '137': 'automobile',\n '138': 'automobile',\n '139': 'bird',\n '140': 'ship',\n '141': 'automobile',\n '142': 'cat',\n '143': 'cat',\n '144': 'frog',\n '145': 'bird',\n '146': 'deer',\n '147': 'truck',\n '148': 'truck',\n '149': 'dog',\n '150': 'deer',\n '151': 'cat',\n '152': 'frog',\n '153': 'horse',\n '154': 'deer',\n '155': 'frog',\n '156': 'ship',\n '157': 'dog',\n '158': 'dog',\n '159': 'deer',\n '160': 'cat',\n '161': 'automobile',\n '162': 'ship',\n '163': 'deer',\n '164': 'horse',\n '165': 'frog',\n '166': 'airplane',\n '167': 'truck',\n '168': 'dog',\n '169': 'automobile',\n '170': 'cat',\n '171': 'ship',\n '172': 'bird',\n '173': 'horse',\n '174': 'dog',\n '175': 'cat',\n '176': 'deer',\n '177': 'automobile',\n '178': 'dog',\n '179': 'horse',\n '180': 'airplane',\n '181': 'deer',\n '182': 'horse',\n '183': 'dog',\n '184': 'dog',\n '185': 'automobile',\n '186': 'airplane',\n '187': 'truck',\n '188': 'frog',\n '189': 'truck',\n '190': 'airplane',\n '191': 'ship',\n '192': 'horse',\n '193': 'ship',\n '194': 'ship',\n '195': 'bird',\n '196': 'dog',\n '197': 'bird',\n '198': 'cat',\n '199': 'dog',\n '200': 'airplane',\n '201': 'frog',\n '202': 'automobile',\n '203': 'truck',\n '204': 'cat',\n '205': 'frog',\n '206': 'truck',\n '207': 'automobile',\n '208': 'cat',\n '209': 'truck',\n '210': 'frog',\n '211': 'frog',\n '212': 'horse',\n '213': 'automobile',\n '214': 'airplane',\n '215': 'truck',\n '216': 'dog',\n '217': 'ship',\n '218': 'dog',\n '219': 'bird',\n '220': 'truck',\n '221': 'airplane',\n '222': 'ship',\n '223': 'ship',\n '224': 'airplane',\n '225': 'frog',\n '226': 'truck',\n '227': 'automobile',\n '228': 'automobile',\n '229': 'frog',\n '230': 'cat',\n '231': 'horse',\n '232': 'frog',\n '233': 'frog',\n '234': 'airplane',\n '235': 'frog',\n '236': 'frog',\n '237': 'automobile',\n '238': 'horse',\n '239': 'automobile',\n '240': 'dog',\n '241': 'ship',\n '242': 'cat',\n '243': 'frog',\n '244': 'frog',\n '245': 'ship',\n '246': 'frog',\n '247': 'ship',\n '248': 'deer',\n '249': 'frog',\n '250': 'frog',\n '251': 'automobile',\n '252': 'cat',\n '253': 'ship',\n '254': 'cat',\n '255': 'deer',\n '256': 'automobile',\n '257': 'horse',\n '258': 'automobile',\n '259': 'cat',\n '260': 'ship',\n '261': 'dog',\n '262': 'automobile',\n '263': 'automobile',\n '264': 'deer',\n '265': 'airplane',\n '266': 'truck',\n '267': 'cat',\n '268': 'horse',\n '269': 'deer',\n '270': 'truck',\n '271': 'truck',\n '272': 'bird',\n '273': 'deer',\n '274': 'truck',\n '275': 'truck',\n '276': 'automobile',\n '277': 'airplane',\n '278': 'dog',\n '279': 'truck',\n '280': 'airplane',\n '281': 'ship',\n '282': 'bird',\n '283': 'automobile',\n '284': 'bird',\n '285': 'airplane',\n '286': 'dog',\n '287': 'frog',\n '288': 'cat',\n '289': 'bird',\n '290': 'horse',\n '291': 'ship',\n '292': 'ship',\n '293': 'frog',\n '294': 'airplane',\n '295': 'horse',\n '296': 'truck',\n '297': 'deer',\n '298': 'dog',\n '299': 'frog',\n '300': 'deer',\n '301': 'bird',\n '302': 'automobile',\n '303': 'automobile',\n '304': 'bird',\n '305': 'automobile',\n '306': 'dog',\n '307': 'truck',\n '308': 'truck',\n '309': 'airplane',\n '310': 'ship',\n '311': 'deer',\n '312': 'automobile',\n '313': 'automobile',\n '314': 'frog',\n '315': 'cat',\n '316': 'cat',\n '317': 'truck',\n '318': 'airplane',\n '319': 'horse',\n '320': 'truck',\n '321': 'horse',\n '322': 'horse',\n '323': 'truck',\n '324': 'automobile',\n '325': 'dog',\n '326': 'automobile',\n '327': 'frog',\n '328': 'frog',\n '329': 'ship',\n '330': 'horse',\n '331': 'automobile',\n '332': 'cat',\n '333': 'airplane',\n '334': 'cat',\n '335': 'cat',\n '336': 'bird',\n '337': 'deer',\n '338': 'dog',\n '339': 'horse',\n '340': 'dog',\n '341': 'truck',\n '342': 'airplane',\n '343': 'cat',\n '344': 'deer',\n '345': 'airplane',\n '346': 'deer',\n '347': 'deer',\n '348': 'frog',\n '349': 'airplane',\n '350': 'airplane',\n '351': 'frog',\n '352': 'frog',\n '353': 'airplane',\n '354': 'ship',\n '355': 'automobile',\n '356': 'frog',\n '357': 'bird',\n '358': 'truck',\n '359': 'bird',\n '360': 'dog',\n '361': 'truck',\n '362': 'frog',\n '363': 'horse',\n '364': 'deer',\n '365': 'automobile',\n '366': 'ship',\n '367': 'horse',\n '368': 'cat',\n '369': 'frog',\n '370': 'truck',\n '371': 'cat',\n '372': 'airplane',\n '373': 'deer',\n '374': 'airplane',\n '375': 'dog',\n '376': 'automobile',\n '377': 'airplane',\n '378': 'cat',\n '379': 'deer',\n '380': 'ship',\n '381': 'dog',\n '382': 'deer',\n '383': 'horse',\n '384': 'bird',\n '385': 'cat',\n '386': 'truck',\n '387': 'horse',\n '388': 'frog',\n '389': 'horse',\n '390': 'automobile',\n '391': 'deer',\n '392': 'horse',\n '393': 'airplane',\n '394': 'automobile',\n '395': 'horse',\n '396': 'cat',\n '397': 'automobile',\n '398': 'ship',\n '399': 'deer',\n '400': 'deer',\n '401': 'bird',\n '402': 'airplane',\n '403': 'bird',\n '404': 'bird',\n '405': 'airplane',\n '406': 'airplane',\n '407': 'truck',\n '408': 'airplane',\n '409': 'truck',\n '410': 'frog',\n '411': 'ship',\n '412': 'bird',\n '413': 'horse',\n '414': 'horse',\n '415': 'deer',\n '416': 'airplane',\n '417': 'cat',\n '418': 'airplane',\n '419': 'ship',\n '420': 'truck',\n '421': 'deer',\n '422': 'bird',\n '423': 'horse',\n '424': 'bird',\n '425': 'dog',\n '426': 'bird',\n '427': 'dog',\n '428': 'automobile',\n '429': 'truck',\n '430': 'deer',\n '431': 'ship',\n '432': 'dog',\n '433': 'automobile',\n '434': 'horse',\n '435': 'deer',\n '436': 'deer',\n '437': 'airplane',\n '438': 'frog',\n '439': 'truck',\n '440': 'airplane',\n '441': 'horse',\n '442': 'ship',\n '443': 'ship',\n '444': 'truck',\n '445': 'truck',\n '446': 'cat',\n '447': 'cat',\n '448': 'deer',\n '449': 'airplane',\n '450': 'deer',\n '451': 'dog',\n '452': 'frog',\n '453': 'frog',\n '454': 'airplane',\n '455': 'automobile',\n '456': 'airplane',\n '457': 'ship',\n '458': 'airplane',\n '459': 'deer',\n '460': 'ship',\n '461': 'ship',\n '462': 'automobile',\n '463': 'dog',\n '464': 'bird',\n '465': 'frog',\n '466': 'ship',\n '467': 'automobile',\n '468': 'airplane',\n '469': 'airplane',\n '470': 'horse',\n '471': 'horse',\n '472': 'dog',\n '473': 'truck',\n '474': 'frog',\n '475': 'bird',\n '476': 'ship',\n '477': 'cat',\n '478': 'deer',\n '479': 'horse',\n '480': 'cat',\n '481': 'truck',\n '482': 'airplane',\n '483': 'automobile',\n '484': 'bird',\n '485': 'deer',\n '486': 'ship',\n '487': 'automobile',\n '488': 'ship',\n '489': 'frog',\n '490': 'deer',\n '491': 'deer',\n '492': 'dog',\n '493': 'horse',\n '494': 'automobile',\n '495': 'cat',\n '496': 'truck',\n '497': 'ship',\n '498': 'airplane',\n '499': 'automobile',\n '500': 'horse',\n '501': 'dog',\n '502': 'ship',\n '503': 'bird',\n '504': 'ship',\n '505': 'airplane',\n '506': 'deer',\n '507': 'automobile',\n '508': 'ship',\n '509': 'truck',\n '510': 'ship',\n '511': 'bird',\n '512': 'truck',\n '513': 'truck',\n '514': 'bird',\n '515': 'horse',\n '516': 'dog',\n '517': 'horse',\n '518': 'cat',\n '519': 'ship',\n '520': 'ship',\n '521': 'deer',\n '522': 'deer',\n '523': 'bird',\n '524': 'horse',\n '525': 'automobile',\n '526': 'frog',\n '527': 'deer',\n '528': 'airplane',\n '529': 'deer',\n '530': 'frog',\n '531': 'truck',\n '532': 'horse',\n '533': 'frog',\n '534': 'bird',\n '535': 'dog',\n '536': 'dog',\n '537': 'automobile',\n '538': 'horse',\n '539': 'bird',\n '540': 'bird',\n '541': 'bird',\n '542': 'truck',\n '543': 'dog',\n '544': 'deer',\n '545': 'bird',\n '546': 'horse',\n '547': 'ship',\n '548': 'automobile',\n '549': 'cat',\n '550': 'deer',\n '551': 'cat',\n '552': 'horse',\n '553': 'frog',\n '554': 'truck',\n '555': 'ship',\n '556': 'airplane',\n '557': 'frog',\n '558': 'airplane',\n '559': 'bird',\n '560': 'bird',\n '561': 'bird',\n '562': 'automobile',\n '563': 'ship',\n '564': 'deer',\n '565': 'airplane',\n '566': 'automobile',\n '567': 'ship',\n '568': 'ship',\n '569': 'automobile',\n '570': 'dog',\n '571': 'horse',\n '572': 'frog',\n '573': 'deer',\n '574': 'dog',\n '575': 'ship',\n '576': 'horse',\n '577': 'automobile',\n '578': 'truck',\n '579': 'automobile',\n '580': 'truck',\n '581': 'ship',\n '582': 'deer',\n '583': 'horse',\n '584': 'cat',\n '585': 'ship',\n '586': 'ship',\n '587': 'bird',\n '588': 'frog',\n '589': 'frog',\n '590': 'horse',\n '591': 'automobile',\n '592': 'frog',\n '593': 'ship',\n '594': 'automobile',\n '595': 'truck',\n '596': 'horse',\n '597': 'ship',\n '598': 'cat',\n '599': 'airplane',\n '600': 'automobile',\n '601': 'airplane',\n '602': 'ship',\n '603': 'ship',\n '604': 'cat',\n '605': 'airplane',\n '606': 'airplane',\n '607': 'automobile',\n '608': 'dog',\n '609': 'airplane',\n '610': 'ship',\n '611': 'ship',\n '612': 'horse',\n '613': 'truck',\n '614': 'truck',\n '615': 'airplane',\n '616': 'truck',\n '617': 'deer',\n '618': 'automobile',\n '619': 'cat',\n '620': 'frog',\n '621': 'frog',\n '622': 'deer',\n '623': 'deer',\n '624': 'horse',\n '625': 'dog',\n '626': 'frog',\n '627': 'airplane',\n '628': 'ship',\n '629': 'airplane',\n '630': 'cat',\n '631': 'bird',\n '632': 'ship',\n '633': 'deer',\n '634': 'frog',\n '635': 'truck',\n '636': 'truck',\n '637': 'horse',\n '638': 'airplane',\n '639': 'cat',\n '640': 'cat',\n '641': 'frog',\n '642': 'horse',\n '643': 'deer',\n '644': 'truck',\n '645': 'automobile',\n '646': 'frog',\n '647': 'bird',\n '648': 'horse',\n '649': 'bird',\n '650': 'bird',\n '651': 'airplane',\n '652': 'frog',\n '653': 'horse',\n '654': 'dog',\n '655': 'horse',\n '656': 'frog',\n '657': 'ship',\n '658': 'truck',\n '659': 'airplane',\n '660': 'truck',\n '661': 'deer',\n '662': 'deer',\n '663': 'horse',\n '664': 'airplane',\n '665': 'truck',\n '666': 'deer',\n '667': 'truck',\n '668': 'frog',\n '669': 'truck',\n '670': 'deer',\n '671': 'dog',\n '672': 'horse',\n '673': 'truck',\n '674': 'bird',\n '675': 'deer',\n '676': 'dog',\n '677': 'automobile',\n '678': 'deer',\n '679': 'cat',\n '680': 'truck',\n '681': 'frog',\n '682': 'dog',\n '683': 'frog',\n '684': 'truck',\n '685': 'cat',\n '686': 'cat',\n '687': 'dog',\n '688': 'airplane',\n '689': 'horse',\n '690': 'bird',\n '691': 'automobile',\n '692': 'cat',\n '693': 'frog',\n '694': 'deer',\n '695': 'airplane',\n '696': 'airplane',\n '697': 'bird',\n '698': 'dog',\n '699': 'airplane',\n '700': 'automobile',\n '701': 'airplane',\n '702': 'bird',\n '703': 'cat',\n '704': 'truck',\n '705': 'ship',\n '706': 'deer',\n '707': 'truck',\n '708': 'ship',\n '709': 'airplane',\n '710': 'bird',\n '711': 'frog',\n '712': 'deer',\n '713': 'deer',\n '714': 'airplane',\n '715': 'automobile',\n '716': 'ship',\n '717': 'ship',\n '718': 'cat',\n '719': 'frog',\n '720': 'truck',\n '721': 'frog',\n '722': 'frog',\n '723': 'horse',\n '724': 'ship',\n '725': 'bird',\n '726': 'deer',\n '727': 'dog',\n '728': 'horse',\n '729': 'frog',\n '730': 'dog',\n '731': 'cat',\n '732': 'airplane',\n '733': 'dog',\n '734': 'airplane',\n '735': 'dog',\n '736': 'airplane',\n '737': 'ship',\n '738': 'bird',\n '739': 'frog',\n '740': 'horse',\n '741': 'cat',\n '742': 'ship',\n '743': 'bird',\n '744': 'automobile',\n '745': 'horse',\n '746': 'frog',\n '747': 'horse',\n '748': 'automobile',\n '749': 'airplane',\n '750': 'truck',\n '751': 'dog',\n '752': 'dog',\n '753': 'airplane',\n '754': 'automobile',\n '755': 'horse',\n '756': 'frog',\n '757': 'truck',\n '758': 'airplane',\n '759': 'deer',\n '760': 'horse',\n '761': 'horse',\n '762': 'automobile',\n '763': 'dog',\n '764': 'truck',\n '765': 'deer',\n '766': 'airplane',\n '767': 'ship',\n '768': 'dog',\n '769': 'truck',\n '770': 'truck',\n '771': 'frog',\n '772': 'horse',\n '773': 'automobile',\n '774': 'ship',\n '775': 'cat',\n '776': 'bird',\n '777': 'cat',\n '778': 'ship',\n '779': 'bird',\n '780': 'bird',\n '781': 'deer',\n '782': 'frog',\n '783': 'airplane',\n '784': 'airplane',\n '785': 'dog',\n '786': 'cat',\n '787': 'ship',\n '788': 'bird',\n '789': 'cat',\n '790': 'horse',\n '791': 'bird',\n '792': 'truck',\n '793': 'cat',\n '794': 'ship',\n '795': 'horse',\n '796': 'ship',\n '797': 'bird',\n '798': 'horse',\n '799': 'truck',\n '800': 'airplane',\n '801': 'bird',\n '802': 'cat',\n '803': 'bird',\n '804': 'bird',\n '805': 'bird',\n '806': 'cat',\n '807': 'cat',\n '808': 'frog',\n '809': 'bird',\n '810': 'cat',\n '811': 'bird',\n '812': 'ship',\n '813': 'airplane',\n '814': 'dog',\n '815': 'dog',\n '816': 'automobile',\n '817': 'deer',\n '818': 'dog',\n '819': 'frog',\n '820': 'frog',\n '821': 'bird',\n '822': 'horse',\n '823': 'airplane',\n '824': 'automobile',\n '825': 'horse',\n '826': 'horse',\n '827': 'ship',\n '828': 'bird',\n '829': 'truck',\n '830': 'bird',\n '831': 'bird',\n '832': 'deer',\n '833': 'bird',\n '834': 'automobile',\n '835': 'automobile',\n '836': 'automobile',\n '837': 'frog',\n '838': 'frog',\n '839': 'frog',\n '840': 'dog',\n '841': 'automobile',\n '842': 'automobile',\n '843': 'horse',\n '844': 'airplane',\n '845': 'deer',\n '846': 'cat',\n '847': 'cat',\n '848': 'horse',\n '849': 'automobile',\n '850': 'bird',\n '851': 'cat',\n '852': 'dog',\n '853': 'dog',\n '854': 'dog',\n '855': 'frog',\n '856': 'automobile',\n '857': 'deer',\n '858': 'cat',\n '859': 'horse',\n '860': 'ship',\n '861': 'ship',\n '862': 'cat',\n '863': 'frog',\n '864': 'frog',\n '865': 'bird',\n '866': 'cat',\n '867': 'airplane',\n '868': 'truck',\n '869': 'deer',\n '870': 'cat',\n '871': 'ship',\n '872': 'airplane',\n '873': 'airplane',\n '874': 'automobile',\n '875': 'automobile',\n '876': 'dog',\n '877': 'deer',\n '878': 'truck',\n '879': 'cat',\n '880': 'automobile',\n '881': 'ship',\n '882': 'truck',\n '883': 'cat',\n '884': 'truck',\n '885': 'truck',\n '886': 'bird',\n '887': 'truck',\n '888': 'deer',\n '889': 'ship',\n '890': 'bird',\n '891': 'truck',\n '892': 'ship',\n '893': 'ship',\n '894': 'automobile',\n '895': 'dog',\n '896': 'cat',\n '897': 'frog',\n '898': 'ship',\n '899': 'horse',\n '900': 'frog',\n '901': 'truck',\n '902': 'ship',\n '903': 'airplane',\n '904': 'frog',\n '905': 'deer',\n '906': 'airplane',\n '907': 'airplane',\n '908': 'bird',\n '909': 'dog',\n '910': 'ship',\n '911': 'bird',\n '912': 'airplane',\n '913': 'bird',\n '914': 'horse',\n '915': 'frog',\n '916': 'truck',\n '917': 'horse',\n '918': 'automobile',\n '919': 'dog',\n '920': 'dog',\n '921': 'frog',\n '922': 'frog',\n '923': 'cat',\n '924': 'frog',\n '925': 'bird',\n '926': 'deer',\n '927': 'horse',\n '928': 'airplane',\n '929': 'dog',\n '930': 'frog',\n '931': 'deer',\n '932': 'frog',\n '933': 'dog',\n '934': 'bird',\n '935': 'deer',\n '936': 'frog',\n '937': 'automobile',\n '938': 'frog',\n '939': 'airplane',\n '940': 'deer',\n '941': 'airplane',\n '942': 'cat',\n '943': 'automobile',\n '944': 'ship',\n '945': 'dog',\n '946': 'deer',\n '947': 'deer',\n '948': 'automobile',\n '949': 'horse',\n '950': 'cat',\n '951': 'truck',\n '952': 'deer',\n '953': 'horse',\n '954': 'truck',\n '955': 'horse',\n '956': 'cat',\n '957': 'horse',\n '958': 'bird',\n '959': 'ship',\n '960': 'deer',\n '961': 'frog',\n '962': 'frog',\n '963': 'automobile',\n '964': 'bird',\n '965': 'truck',\n '966': 'airplane',\n '967': 'deer',\n '968': 'ship',\n '969': 'horse',\n '970': 'cat',\n '971': 'truck',\n '972': 'ship',\n '973': 'horse',\n '974': 'horse',\n '975': 'airplane',\n '976': 'bird',\n '977': 'deer',\n '978': 'automobile',\n '979': 'automobile',\n '980': 'deer',\n '981': 'automobile',\n '982': 'dog',\n '983': 'deer',\n '984': 'airplane',\n '985': 'dog',\n '986': 'frog',\n '987': 'bird',\n '988': 'ship',\n '989': 'dog',\n '990': 'airplane',\n '991': 'bird',\n '992': 'automobile',\n '993': 'cat',\n '994': 'dog',\n '995': 'horse',\n '996': 'cat',\n '997': 'dog',\n '998': 'automobile',\n '999': 'cat',\n '1000': 'dog'}"
     },
     "execution_count": 3,
     "metadata": {},
     "output_type": "execute_result"
    }
   ],
   "source": [
    "\"\"\"整理数据集\"\"\"\n",
    "def read_csv_labels(fname):\n",
    "    \"\"\"读取‘fname’来给标签字典返回一个文件名\"\"\"\n",
    "    with open(fname, 'r') as f:\n",
    "        lines = f.readlines()[1:]\n",
    "    tokens = [l.rstrip().split(',') for l in lines]\n",
    "    return dict(((name, label) for name, label in tokens))\n",
    "\n",
    "labels = read_csv_labels(os.path.join(data_dir, 'trainLabels.csv'))\n",
    "labels"
   ],
   "metadata": {
    "collapsed": false,
    "pycharm": {
     "name": "#%%\n"
    }
   }
  },
  {
   "cell_type": "code",
   "execution_count": 5,
   "outputs": [],
   "source": [
    "\"\"\"将验证集从原始训练集上拆分出来\"\"\"\n",
    "def copyfile(filename, target_dir):\n",
    "    \"\"\"将文件复制到目标目录\"\"\"\n",
    "    os.makedirs(target_dir, exist_ok=True)\n",
    "    shutil.copy(filename, target_dir)\n",
    "\n",
    "def reorg_train_valid(data_dir, labels, valid_ratio):\n",
    "    ### 训练数据集中样本最少的类别中的样本数\n",
    "    n = collections.Counter(labels.values()).most_common()[-1][1]##collections.Counter.most_common会按照标签出现频率进行排序\n",
    "    n_valid_per_label = max (1, math.floor(n * valid_ratio)) ## math.floor()向下舍入最近的整数\n",
    "    label_count = {}\n",
    "    for train_file in os.listdir(os.path.join(data_dir, 'train')):\n",
    "        label = labels[train_file.split('.')[0]]\n",
    "        fname = os.path.join(data_dir, 'train', train_file)\n",
    "        copyfile(fname, os.path.join(data_dir, 'train_valid_test', 'train_valid', label))\n",
    "        if label not in label_count or label_count[label] < n_valid_per_label:\n",
    "            copyfile(fname, os.path.join(data_dir, 'train_valid_test', 'valid', label))\n",
    "            label_count[label] = label_count.get(label, 0) + 1\n",
    "        else:\n",
    "            copyfile(fname, os.path.join(data_dir, 'train_valid_test', 'train', label))\n",
    "\n",
    "    return n_valid_per_label"
   ],
   "metadata": {
    "collapsed": false,
    "pycharm": {
     "name": "#%%\n"
    }
   }
  },
  {
   "cell_type": "code",
   "execution_count": 8,
   "outputs": [],
   "source": [
    "\"\"\"在预测期间整理测试集，以方便读写\"\"\"\n",
    "def reorg_test(data_dir):\n",
    "    for test_file in os.listdir(os.path.join(data_dir, 'test')):\n",
    "        copyfile(os.path.join(data_dir, 'test', test_file),\n",
    "                 os.path.join(data_dir, 'train_valid_test', 'test', 'unknown'))"
   ],
   "metadata": {
    "collapsed": false,
    "pycharm": {
     "name": "#%%\n"
    }
   }
  },
  {
   "cell_type": "code",
   "execution_count": 9,
   "outputs": [],
   "source": [
    "def reorg_cifar10_data(data_dir, valid_ratio):\n",
    "    labels = read_csv_labels(os.path.join(data_dir, 'trainLabels.csv'))\n",
    "    reorg_train_valid(data_dir, labels, valid_ratio)\n",
    "    reorg_test(data_dir)\n",
    "\n",
    "batch_size = 32 if demo else 128\n",
    "valid_ratio = 0.1\n",
    "reorg_cifar10_data(data_dir, valid_ratio)"
   ],
   "metadata": {
    "collapsed": false,
    "pycharm": {
     "name": "#%%\n"
    }
   }
  },
  {
   "cell_type": "code",
   "execution_count": 10,
   "outputs": [],
   "source": [
    "\"\"\"数据增强\"\"\"\n",
    "transform_train = torchvision.transforms.Compose([\n",
    "    ### 在高度和宽度上将图像放大到均为40的像素正方形\n",
    "    torchvision.transforms.Resize(40),\n",
    "    ### 随机生成一个高度和宽度都为40的正方形图像\n",
    "    ### 生成一个面积为原始图像面积0.64~1倍的小正方形\n",
    "    ### 然后将其缩放到高宽为32的正方形\n",
    "    torchvision.transforms.RandomResizedCrop(32, scale=(0.64, 1.0), ratio=(1.0, 1.0)),\n",
    "    torchvision.transforms.RandomHorizontalFlip(),\n",
    "    torchvision.transforms.ToTensor(),\n",
    "    torchvision.transforms.Normalize(\n",
    "        [0.4914, 0.4822, 0.4465], [0.2023, 0.1994, 0.2010]\n",
    "    )\n",
    "])\n",
    "\n",
    "transform_test = torchvision.transforms.Compose([\n",
    "    torchvision.transforms.ToTensor(),\n",
    "    torchvision.transforms.Normalize(\n",
    "        [0.4914, 0.4822, 0.4465], [0.2023, 0.1994, 0.2010]\n",
    "    )\n",
    "])"
   ],
   "metadata": {
    "collapsed": false,
    "pycharm": {
     "name": "#%%\n"
    }
   }
  },
  {
   "cell_type": "code",
   "execution_count": 12,
   "outputs": [],
   "source": [
    "\"\"\"读取由原始图像组成的数据集\"\"\"\n",
    "train_ds, train_valid_ds = [\n",
    "    torchvision.datasets.ImageFolder(os.path.join(data_dir, 'train_valid_test', folder),\n",
    "                                     transform=transform_train)\n",
    "                                    for folder in ['train', 'train_valid']\n",
    "]\n",
    "\n",
    "valid_ds, test_ds = [\n",
    "    torchvision.datasets.ImageFolder(os.path.join(data_dir, 'train_valid_test', folder),\n",
    "                                     transform=transform_test)\n",
    "                                     for folder in ['valid', 'test']\n",
    "]"
   ],
   "metadata": {
    "collapsed": false,
    "pycharm": {
     "name": "#%%\n"
    }
   }
  },
  {
   "cell_type": "code",
   "execution_count": 13,
   "outputs": [],
   "source": [
    "train_iter, train_valid_iter = [\n",
    "    torch.utils.data.DataLoader(\n",
    "        dataset, batch_size, shuffle=True, drop_last=True\n",
    "    ) for dataset in (train_ds, train_valid_ds)\n",
    "] ### drop_last是在判断最后剩下的元素不足batch_size是是否丢弃\n",
    "### 对于最后一层不足batch_size有四种解决办法，分别是丢弃， 拿前面的元素补全， 改batch_szie大小, 不进行任何操作，直接返回\n",
    "\n",
    "valid_iter = torch.utils.data.DataLoader(valid_ds, batch_size, shuffle=False, drop_last=True)\n",
    "\n",
    "test_iter = torch.utils.data.DataLoader(test_ds, batch_size, shuffle=False, drop_last=False)"
   ],
   "metadata": {
    "collapsed": false,
    "pycharm": {
     "name": "#%%\n"
    }
   }
  },
  {
   "cell_type": "code",
   "execution_count": 14,
   "outputs": [],
   "source": [
    "def get_net():\n",
    "    num_classes = 10\n",
    "    net = d2l.resnet18(num_classes, 3)\n",
    "    return net\n",
    "\n",
    "loss = nn.CrossEntropyLoss(reduction='none')"
   ],
   "metadata": {
    "collapsed": false,
    "pycharm": {
     "name": "#%%\n"
    }
   }
  },
  {
   "cell_type": "code",
   "execution_count": 20,
   "outputs": [],
   "source": [
    "\"\"\"训练函数\"\"\"\n",
    "def train(net, train_iter, valid_iter, num_epochs, lr, wd, devices, lr_period, lr_decay):\n",
    "    trainer = torch.optim.SGD(net.parameters(), lr=lr, momentum=0.9, weight_decay=wd)\n",
    "    scheduler = torch.optim.lr_scheduler.StepLR(\n",
    "        trainer, lr_period, lr_decay\n",
    "    ) ### ，每隔lr_period次迭代后，对学习率进行lr_decay的衰减即lr=lr*lr_decay\n",
    "    num_batches, timer = len(train_iter), d2l.Timer()\n",
    "    legend = ['train loss', 'train acc']\n",
    "    if valid_iter is not None:\n",
    "        legend.append('valid acc')\n",
    "    animator = d2l.Animator(xlabel='epoch', xlim=[1, num_epochs], legend=legend)\n",
    "    net = nn.DataParallel(net, device_ids=devices).to(devices[0])\n",
    "    for epoch in range(num_epochs):\n",
    "        net.train()\n",
    "        metric = d2l.Accumulator(3)\n",
    "        for i, (features, labels) in enumerate(train_iter):\n",
    "            timer.start()\n",
    "            l, acc = d2l.train_batch_ch13(net, features, labels, loss, trainer, devices)\n",
    "            metric.add(l, acc, labels.shape[0])\n",
    "            timer.stop()\n",
    "            if (i + 1) % (num_batches //5) == 0 or i ==num_batches - 1:\n",
    "                animator.add(epoch + (i + 1) / num_batches,\n",
    "                             (metric[0] / metric[2], metric[1] / metric[2], None))\n",
    "        if valid_iter is not None:\n",
    "            valid_acc = d2l.evaluate_accuracy_gpu(net, valid_iter)\n",
    "            animator.add(epoch + 1, (None, None, valid_acc))\n",
    "        scheduler.step()\n",
    "    measures = (f'train loss:{metric[0] / metric[2]:.3f}, train acc:{metric[1] / metric[2]:.3f}')\n",
    "    if valid_iter is not None:\n",
    "        measures += f' valid acc:{valid_acc:.3f}'\n",
    "    print(measures + f'\\n {metric[2] * num_epochs / timer.sum():.1f} examples/sec on {str(devices)}')"
   ],
   "metadata": {
    "collapsed": false,
    "pycharm": {
     "name": "#%%\n"
    }
   }
  },
  {
   "cell_type": "code",
   "execution_count": 23,
   "outputs": [
    {
     "name": "stdout",
     "output_type": "stream",
     "text": [
      "train loss:0.690, train acc:0.754 valid acc:0.453\n",
      " 330.4 examples/sec on [device(type='cuda', index=0)]\n"
     ]
    },
    {
     "data": {
      "text/plain": "<Figure size 350x250 with 1 Axes>",
      "image/svg+xml": "<?xml version=\"1.0\" encoding=\"utf-8\" standalone=\"no\"?>\n<!DOCTYPE svg PUBLIC \"-//W3C//DTD SVG 1.1//EN\"\n  \"http://www.w3.org/Graphics/SVG/1.1/DTD/svg11.dtd\">\n<svg xmlns:xlink=\"http://www.w3.org/1999/xlink\" width=\"238.965625pt\" height=\"183.35625pt\" viewBox=\"0 0 238.965625 183.35625\" xmlns=\"http://www.w3.org/2000/svg\" version=\"1.1\">\n <metadata>\n  <rdf:RDF xmlns:dc=\"http://purl.org/dc/elements/1.1/\" xmlns:cc=\"http://creativecommons.org/ns#\" xmlns:rdf=\"http://www.w3.org/1999/02/22-rdf-syntax-ns#\">\n   <cc:Work>\n    <dc:type rdf:resource=\"http://purl.org/dc/dcmitype/StillImage\"/>\n    <dc:date>2023-03-28T15:40:11.001043</dc:date>\n    <dc:format>image/svg+xml</dc:format>\n    <dc:creator>\n     <cc:Agent>\n      <dc:title>Matplotlib v3.7.0, https://matplotlib.org/</dc:title>\n     </cc:Agent>\n    </dc:creator>\n   </cc:Work>\n  </rdf:RDF>\n </metadata>\n <defs>\n  <style type=\"text/css\">*{stroke-linejoin: round; stroke-linecap: butt}</style>\n </defs>\n <g id=\"figure_1\">\n  <g id=\"patch_1\">\n   <path d=\"M 0 183.35625 \nL 238.965625 183.35625 \nL 238.965625 0 \nL 0 0 \nz\n\" style=\"fill: #ffffff\"/>\n  </g>\n  <g id=\"axes_1\">\n   <g id=\"patch_2\">\n    <path d=\"M 30.103125 145.8 \nL 225.403125 145.8 \nL 225.403125 7.2 \nL 30.103125 7.2 \nz\n\" style=\"fill: #ffffff\"/>\n   </g>\n   <g id=\"matplotlib.axis_1\">\n    <g id=\"xtick_1\">\n     <g id=\"line2d_1\">\n      <path d=\"M 71.218914 145.8 \nL 71.218914 7.2 \n\" clip-path=\"url(#pbc750a478c)\" style=\"fill: none; stroke: #b0b0b0; stroke-width: 0.8; stroke-linecap: square\"/>\n     </g>\n     <g id=\"line2d_2\">\n      <defs>\n       <path id=\"mf440cc4540\" d=\"M 0 0 \nL 0 3.5 \n\" style=\"stroke: #000000; stroke-width: 0.8\"/>\n      </defs>\n      <g>\n       <use xlink:href=\"#mf440cc4540\" x=\"71.218914\" y=\"145.8\" style=\"stroke: #000000; stroke-width: 0.8\"/>\n      </g>\n     </g>\n     <g id=\"text_1\">\n      <!-- 5 -->\n      <g transform=\"translate(68.037664 160.398438) scale(0.1 -0.1)\">\n       <defs>\n        <path id=\"DejaVuSans-35\" d=\"M 691 4666 \nL 3169 4666 \nL 3169 4134 \nL 1269 4134 \nL 1269 2991 \nQ 1406 3038 1543 3061 \nQ 1681 3084 1819 3084 \nQ 2600 3084 3056 2656 \nQ 3513 2228 3513 1497 \nQ 3513 744 3044 326 \nQ 2575 -91 1722 -91 \nQ 1428 -91 1123 -41 \nQ 819 9 494 109 \nL 494 744 \nQ 775 591 1075 516 \nQ 1375 441 1709 441 \nQ 2250 441 2565 725 \nQ 2881 1009 2881 1497 \nQ 2881 1984 2565 2268 \nQ 2250 2553 1709 2553 \nQ 1456 2553 1204 2497 \nQ 953 2441 691 2322 \nL 691 4666 \nz\n\" transform=\"scale(0.015625)\"/>\n       </defs>\n       <use xlink:href=\"#DejaVuSans-35\"/>\n      </g>\n     </g>\n    </g>\n    <g id=\"xtick_2\">\n     <g id=\"line2d_3\">\n      <path d=\"M 122.613651 145.8 \nL 122.613651 7.2 \n\" clip-path=\"url(#pbc750a478c)\" style=\"fill: none; stroke: #b0b0b0; stroke-width: 0.8; stroke-linecap: square\"/>\n     </g>\n     <g id=\"line2d_4\">\n      <g>\n       <use xlink:href=\"#mf440cc4540\" x=\"122.613651\" y=\"145.8\" style=\"stroke: #000000; stroke-width: 0.8\"/>\n      </g>\n     </g>\n     <g id=\"text_2\">\n      <!-- 10 -->\n      <g transform=\"translate(116.251151 160.398438) scale(0.1 -0.1)\">\n       <defs>\n        <path id=\"DejaVuSans-31\" d=\"M 794 531 \nL 1825 531 \nL 1825 4091 \nL 703 3866 \nL 703 4441 \nL 1819 4666 \nL 2450 4666 \nL 2450 531 \nL 3481 531 \nL 3481 0 \nL 794 0 \nL 794 531 \nz\n\" transform=\"scale(0.015625)\"/>\n        <path id=\"DejaVuSans-30\" d=\"M 2034 4250 \nQ 1547 4250 1301 3770 \nQ 1056 3291 1056 2328 \nQ 1056 1369 1301 889 \nQ 1547 409 2034 409 \nQ 2525 409 2770 889 \nQ 3016 1369 3016 2328 \nQ 3016 3291 2770 3770 \nQ 2525 4250 2034 4250 \nz\nM 2034 4750 \nQ 2819 4750 3233 4129 \nQ 3647 3509 3647 2328 \nQ 3647 1150 3233 529 \nQ 2819 -91 2034 -91 \nQ 1250 -91 836 529 \nQ 422 1150 422 2328 \nQ 422 3509 836 4129 \nQ 1250 4750 2034 4750 \nz\n\" transform=\"scale(0.015625)\"/>\n       </defs>\n       <use xlink:href=\"#DejaVuSans-31\"/>\n       <use xlink:href=\"#DejaVuSans-30\" x=\"63.623047\"/>\n      </g>\n     </g>\n    </g>\n    <g id=\"xtick_3\">\n     <g id=\"line2d_5\">\n      <path d=\"M 174.008388 145.8 \nL 174.008388 7.2 \n\" clip-path=\"url(#pbc750a478c)\" style=\"fill: none; stroke: #b0b0b0; stroke-width: 0.8; stroke-linecap: square\"/>\n     </g>\n     <g id=\"line2d_6\">\n      <g>\n       <use xlink:href=\"#mf440cc4540\" x=\"174.008388\" y=\"145.8\" style=\"stroke: #000000; stroke-width: 0.8\"/>\n      </g>\n     </g>\n     <g id=\"text_3\">\n      <!-- 15 -->\n      <g transform=\"translate(167.645888 160.398438) scale(0.1 -0.1)\">\n       <use xlink:href=\"#DejaVuSans-31\"/>\n       <use xlink:href=\"#DejaVuSans-35\" x=\"63.623047\"/>\n      </g>\n     </g>\n    </g>\n    <g id=\"xtick_4\">\n     <g id=\"line2d_7\">\n      <path d=\"M 225.403125 145.8 \nL 225.403125 7.2 \n\" clip-path=\"url(#pbc750a478c)\" style=\"fill: none; stroke: #b0b0b0; stroke-width: 0.8; stroke-linecap: square\"/>\n     </g>\n     <g id=\"line2d_8\">\n      <g>\n       <use xlink:href=\"#mf440cc4540\" x=\"225.403125\" y=\"145.8\" style=\"stroke: #000000; stroke-width: 0.8\"/>\n      </g>\n     </g>\n     <g id=\"text_4\">\n      <!-- 20 -->\n      <g transform=\"translate(219.040625 160.398438) scale(0.1 -0.1)\">\n       <defs>\n        <path id=\"DejaVuSans-32\" d=\"M 1228 531 \nL 3431 531 \nL 3431 0 \nL 469 0 \nL 469 531 \nQ 828 903 1448 1529 \nQ 2069 2156 2228 2338 \nQ 2531 2678 2651 2914 \nQ 2772 3150 2772 3378 \nQ 2772 3750 2511 3984 \nQ 2250 4219 1831 4219 \nQ 1534 4219 1204 4116 \nQ 875 4013 500 3803 \nL 500 4441 \nQ 881 4594 1212 4672 \nQ 1544 4750 1819 4750 \nQ 2544 4750 2975 4387 \nQ 3406 4025 3406 3419 \nQ 3406 3131 3298 2873 \nQ 3191 2616 2906 2266 \nQ 2828 2175 2409 1742 \nQ 1991 1309 1228 531 \nz\n\" transform=\"scale(0.015625)\"/>\n       </defs>\n       <use xlink:href=\"#DejaVuSans-32\"/>\n       <use xlink:href=\"#DejaVuSans-30\" x=\"63.623047\"/>\n      </g>\n     </g>\n    </g>\n    <g id=\"text_5\">\n     <!-- epoch -->\n     <g transform=\"translate(112.525 174.076563) scale(0.1 -0.1)\">\n      <defs>\n       <path id=\"DejaVuSans-65\" d=\"M 3597 1894 \nL 3597 1613 \nL 953 1613 \nQ 991 1019 1311 708 \nQ 1631 397 2203 397 \nQ 2534 397 2845 478 \nQ 3156 559 3463 722 \nL 3463 178 \nQ 3153 47 2828 -22 \nQ 2503 -91 2169 -91 \nQ 1331 -91 842 396 \nQ 353 884 353 1716 \nQ 353 2575 817 3079 \nQ 1281 3584 2069 3584 \nQ 2775 3584 3186 3129 \nQ 3597 2675 3597 1894 \nz\nM 3022 2063 \nQ 3016 2534 2758 2815 \nQ 2500 3097 2075 3097 \nQ 1594 3097 1305 2825 \nQ 1016 2553 972 2059 \nL 3022 2063 \nz\n\" transform=\"scale(0.015625)\"/>\n       <path id=\"DejaVuSans-70\" d=\"M 1159 525 \nL 1159 -1331 \nL 581 -1331 \nL 581 3500 \nL 1159 3500 \nL 1159 2969 \nQ 1341 3281 1617 3432 \nQ 1894 3584 2278 3584 \nQ 2916 3584 3314 3078 \nQ 3713 2572 3713 1747 \nQ 3713 922 3314 415 \nQ 2916 -91 2278 -91 \nQ 1894 -91 1617 61 \nQ 1341 213 1159 525 \nz\nM 3116 1747 \nQ 3116 2381 2855 2742 \nQ 2594 3103 2138 3103 \nQ 1681 3103 1420 2742 \nQ 1159 2381 1159 1747 \nQ 1159 1113 1420 752 \nQ 1681 391 2138 391 \nQ 2594 391 2855 752 \nQ 3116 1113 3116 1747 \nz\n\" transform=\"scale(0.015625)\"/>\n       <path id=\"DejaVuSans-6f\" d=\"M 1959 3097 \nQ 1497 3097 1228 2736 \nQ 959 2375 959 1747 \nQ 959 1119 1226 758 \nQ 1494 397 1959 397 \nQ 2419 397 2687 759 \nQ 2956 1122 2956 1747 \nQ 2956 2369 2687 2733 \nQ 2419 3097 1959 3097 \nz\nM 1959 3584 \nQ 2709 3584 3137 3096 \nQ 3566 2609 3566 1747 \nQ 3566 888 3137 398 \nQ 2709 -91 1959 -91 \nQ 1206 -91 779 398 \nQ 353 888 353 1747 \nQ 353 2609 779 3096 \nQ 1206 3584 1959 3584 \nz\n\" transform=\"scale(0.015625)\"/>\n       <path id=\"DejaVuSans-63\" d=\"M 3122 3366 \nL 3122 2828 \nQ 2878 2963 2633 3030 \nQ 2388 3097 2138 3097 \nQ 1578 3097 1268 2742 \nQ 959 2388 959 1747 \nQ 959 1106 1268 751 \nQ 1578 397 2138 397 \nQ 2388 397 2633 464 \nQ 2878 531 3122 666 \nL 3122 134 \nQ 2881 22 2623 -34 \nQ 2366 -91 2075 -91 \nQ 1284 -91 818 406 \nQ 353 903 353 1747 \nQ 353 2603 823 3093 \nQ 1294 3584 2113 3584 \nQ 2378 3584 2631 3529 \nQ 2884 3475 3122 3366 \nz\n\" transform=\"scale(0.015625)\"/>\n       <path id=\"DejaVuSans-68\" d=\"M 3513 2113 \nL 3513 0 \nL 2938 0 \nL 2938 2094 \nQ 2938 2591 2744 2837 \nQ 2550 3084 2163 3084 \nQ 1697 3084 1428 2787 \nQ 1159 2491 1159 1978 \nL 1159 0 \nL 581 0 \nL 581 4863 \nL 1159 4863 \nL 1159 2956 \nQ 1366 3272 1645 3428 \nQ 1925 3584 2291 3584 \nQ 2894 3584 3203 3211 \nQ 3513 2838 3513 2113 \nz\n\" transform=\"scale(0.015625)\"/>\n      </defs>\n      <use xlink:href=\"#DejaVuSans-65\"/>\n      <use xlink:href=\"#DejaVuSans-70\" x=\"61.523438\"/>\n      <use xlink:href=\"#DejaVuSans-6f\" x=\"125\"/>\n      <use xlink:href=\"#DejaVuSans-63\" x=\"186.181641\"/>\n      <use xlink:href=\"#DejaVuSans-68\" x=\"241.162109\"/>\n     </g>\n    </g>\n   </g>\n   <g id=\"matplotlib.axis_2\">\n    <g id=\"ytick_1\">\n     <g id=\"line2d_9\">\n      <path d=\"M 30.103125 145.694144 \nL 225.403125 145.694144 \n\" clip-path=\"url(#pbc750a478c)\" style=\"fill: none; stroke: #b0b0b0; stroke-width: 0.8; stroke-linecap: square\"/>\n     </g>\n     <g id=\"line2d_10\">\n      <defs>\n       <path id=\"mcae349fb35\" d=\"M 0 0 \nL -3.5 0 \n\" style=\"stroke: #000000; stroke-width: 0.8\"/>\n      </defs>\n      <g>\n       <use xlink:href=\"#mcae349fb35\" x=\"30.103125\" y=\"145.694144\" style=\"stroke: #000000; stroke-width: 0.8\"/>\n      </g>\n     </g>\n     <g id=\"text_6\">\n      <!-- 0.0 -->\n      <g transform=\"translate(7.2 149.493363) scale(0.1 -0.1)\">\n       <defs>\n        <path id=\"DejaVuSans-2e\" d=\"M 684 794 \nL 1344 794 \nL 1344 0 \nL 684 0 \nL 684 794 \nz\n\" transform=\"scale(0.015625)\"/>\n       </defs>\n       <use xlink:href=\"#DejaVuSans-30\"/>\n       <use xlink:href=\"#DejaVuSans-2e\" x=\"63.623047\"/>\n       <use xlink:href=\"#DejaVuSans-30\" x=\"95.410156\"/>\n      </g>\n     </g>\n    </g>\n    <g id=\"ytick_2\">\n     <g id=\"line2d_11\">\n      <path d=\"M 30.103125 117.378057 \nL 225.403125 117.378057 \n\" clip-path=\"url(#pbc750a478c)\" style=\"fill: none; stroke: #b0b0b0; stroke-width: 0.8; stroke-linecap: square\"/>\n     </g>\n     <g id=\"line2d_12\">\n      <g>\n       <use xlink:href=\"#mcae349fb35\" x=\"30.103125\" y=\"117.378057\" style=\"stroke: #000000; stroke-width: 0.8\"/>\n      </g>\n     </g>\n     <g id=\"text_7\">\n      <!-- 0.5 -->\n      <g transform=\"translate(7.2 121.177275) scale(0.1 -0.1)\">\n       <use xlink:href=\"#DejaVuSans-30\"/>\n       <use xlink:href=\"#DejaVuSans-2e\" x=\"63.623047\"/>\n       <use xlink:href=\"#DejaVuSans-35\" x=\"95.410156\"/>\n      </g>\n     </g>\n    </g>\n    <g id=\"ytick_3\">\n     <g id=\"line2d_13\">\n      <path d=\"M 30.103125 89.061969 \nL 225.403125 89.061969 \n\" clip-path=\"url(#pbc750a478c)\" style=\"fill: none; stroke: #b0b0b0; stroke-width: 0.8; stroke-linecap: square\"/>\n     </g>\n     <g id=\"line2d_14\">\n      <g>\n       <use xlink:href=\"#mcae349fb35\" x=\"30.103125\" y=\"89.061969\" style=\"stroke: #000000; stroke-width: 0.8\"/>\n      </g>\n     </g>\n     <g id=\"text_8\">\n      <!-- 1.0 -->\n      <g transform=\"translate(7.2 92.861188) scale(0.1 -0.1)\">\n       <use xlink:href=\"#DejaVuSans-31\"/>\n       <use xlink:href=\"#DejaVuSans-2e\" x=\"63.623047\"/>\n       <use xlink:href=\"#DejaVuSans-30\" x=\"95.410156\"/>\n      </g>\n     </g>\n    </g>\n    <g id=\"ytick_4\">\n     <g id=\"line2d_15\">\n      <path d=\"M 30.103125 60.745882 \nL 225.403125 60.745882 \n\" clip-path=\"url(#pbc750a478c)\" style=\"fill: none; stroke: #b0b0b0; stroke-width: 0.8; stroke-linecap: square\"/>\n     </g>\n     <g id=\"line2d_16\">\n      <g>\n       <use xlink:href=\"#mcae349fb35\" x=\"30.103125\" y=\"60.745882\" style=\"stroke: #000000; stroke-width: 0.8\"/>\n      </g>\n     </g>\n     <g id=\"text_9\">\n      <!-- 1.5 -->\n      <g transform=\"translate(7.2 64.545101) scale(0.1 -0.1)\">\n       <use xlink:href=\"#DejaVuSans-31\"/>\n       <use xlink:href=\"#DejaVuSans-2e\" x=\"63.623047\"/>\n       <use xlink:href=\"#DejaVuSans-35\" x=\"95.410156\"/>\n      </g>\n     </g>\n    </g>\n    <g id=\"ytick_5\">\n     <g id=\"line2d_17\">\n      <path d=\"M 30.103125 32.429794 \nL 225.403125 32.429794 \n\" clip-path=\"url(#pbc750a478c)\" style=\"fill: none; stroke: #b0b0b0; stroke-width: 0.8; stroke-linecap: square\"/>\n     </g>\n     <g id=\"line2d_18\">\n      <g>\n       <use xlink:href=\"#mcae349fb35\" x=\"30.103125\" y=\"32.429794\" style=\"stroke: #000000; stroke-width: 0.8\"/>\n      </g>\n     </g>\n     <g id=\"text_10\">\n      <!-- 2.0 -->\n      <g transform=\"translate(7.2 36.229013) scale(0.1 -0.1)\">\n       <use xlink:href=\"#DejaVuSans-32\"/>\n       <use xlink:href=\"#DejaVuSans-2e\" x=\"63.623047\"/>\n       <use xlink:href=\"#DejaVuSans-30\" x=\"95.410156\"/>\n      </g>\n     </g>\n    </g>\n   </g>\n   <g id=\"line2d_19\">\n    <path d=\"M 21.659704 13.5 \nL 23.49523 15.016036 \nL 25.330757 17.938644 \nL 27.166283 19.231975 \nL 29.001809 21.556216 \nL 30.103125 21.59254 \nL 31.938651 26.875549 \nL 33.774178 25.183107 \nL 35.609704 27.119626 \nL 37.44523 29.235244 \nL 39.280757 31.508976 \nL 40.382072 32.094708 \nL 42.217599 36.564251 \nL 44.053125 35.728724 \nL 45.888651 38.173822 \nL 47.724178 36.663364 \nL 49.559704 36.863019 \nL 50.66102 37.214207 \nL 52.496546 36.246864 \nL 54.332072 41.401113 \nL 56.167599 41.899113 \nL 58.003125 42.019004 \nL 59.838651 42.441959 \nL 60.939967 42.341698 \nL 62.775493 38.372169 \nL 64.61102 46.879471 \nL 66.446546 48.149076 \nL 68.282072 48.373297 \nL 70.117599 51.240662 \nL 71.218914 52.418193 \nL 73.054441 59.523237 \nL 74.889967 57.796173 \nL 76.725493 57.040225 \nL 78.56102 56.717461 \nL 80.396546 56.302797 \nL 81.497862 57.543333 \nL 83.333388 71.961314 \nL 85.168914 67.297538 \nL 87.004441 65.185021 \nL 88.839967 63.500992 \nL 90.675493 61.808577 \nL 91.776809 60.798184 \nL 93.612336 72.410879 \nL 95.447862 68.526564 \nL 97.283388 70.080583 \nL 99.118914 68.291423 \nL 100.954441 66.893901 \nL 102.055757 66.238381 \nL 103.891283 71.002978 \nL 105.726809 71.3264 \nL 107.562336 72.602735 \nL 109.397862 74.841403 \nL 111.233388 74.292353 \nL 112.334704 74.1138 \nL 114.17023 79.774042 \nL 116.005757 82.291299 \nL 117.841283 80.258203 \nL 119.676809 78.066698 \nL 121.512336 76.076936 \nL 122.613651 74.341233 \nL 124.449178 75.760828 \nL 126.284704 78.726931 \nL 128.12023 76.299302 \nL 129.955757 75.210783 \nL 131.791283 73.83327 \nL 132.892599 74.129503 \nL 134.728125 76.462357 \nL 136.563651 78.511652 \nL 138.399178 77.605206 \nL 140.234704 79.744028 \nL 142.07023 79.149912 \nL 143.171546 78.101905 \nL 145.007072 84.187869 \nL 146.842599 86.64952 \nL 148.678125 84.938887 \nL 150.513651 84.637381 \nL 152.349178 84.463062 \nL 153.450493 84.096545 \nL 155.28602 83.081701 \nL 157.121546 83.672254 \nL 158.957072 86.392632 \nL 160.792599 87.466157 \nL 162.628125 86.820009 \nL 163.729441 87.055547 \nL 165.564967 94.576195 \nL 167.400493 95.451969 \nL 169.23602 96.20426 \nL 171.071546 96.307958 \nL 172.907072 95.019509 \nL 174.008388 94.566826 \nL 175.843914 104.451946 \nL 177.679441 104.111165 \nL 179.514967 99.592054 \nL 181.350493 97.867909 \nL 183.18602 97.866834 \nL 184.287336 97.112539 \nL 186.122862 102.930038 \nL 187.958388 100.65035 \nL 189.793914 101.12466 \nL 191.629441 102.366246 \nL 193.464967 98.893327 \nL 194.566283 99.440254 \nL 196.401809 104.703297 \nL 198.237336 102.067355 \nL 200.072862 102.242013 \nL 201.908388 103.161402 \nL 203.743914 103.071653 \nL 204.84523 102.406262 \nL 206.680757 98.242107 \nL 208.516283 99.03557 \nL 210.351809 101.606544 \nL 212.187336 101.022239 \nL 214.022862 101.808809 \nL 215.124178 102.523342 \nL 216.959704 113.254551 \nL 218.79523 111.548751 \nL 220.630757 109.07483 \nL 222.466283 108.780723 \nL 224.301809 106.991804 \nL 225.403125 106.609819 \n\" clip-path=\"url(#pbc750a478c)\" style=\"fill: none; stroke: #1f77b4; stroke-width: 1.5; stroke-linecap: square\"/>\n   </g>\n   <g id=\"line2d_20\">\n    <path d=\"M 21.659704 137.199318 \nL 23.49523 136.845367 \nL 25.330757 135.075611 \nL 27.166283 135.164099 \nL 29.001809 134.50929 \nL 30.103125 134.696378 \nL 31.938651 128.350541 \nL 33.774178 130.297272 \nL 35.609704 130.23828 \nL 37.44523 130.297272 \nL 39.280757 129.766345 \nL 40.382072 129.387112 \nL 42.217599 125.872883 \nL 44.053125 127.642638 \nL 45.888651 127.406671 \nL 47.724178 127.996589 \nL 49.559704 128.775282 \nL 50.66102 128.502234 \nL 52.496546 125.872883 \nL 54.332072 124.988005 \nL 56.167599 126.934736 \nL 58.003125 126.492297 \nL 59.838651 126.509995 \nL 60.939967 126.416451 \nL 62.775493 125.872883 \nL 64.61102 123.041274 \nL 66.446546 123.395225 \nL 68.282072 123.660689 \nL 70.117599 123.253645 \nL 71.218914 123.066556 \nL 73.054441 120.917568 \nL 74.889967 120.386641 \nL 76.725493 121.271519 \nL 78.56102 121.360006 \nL 80.396546 121.55468 \nL 81.497862 121.17039 \nL 83.333388 115.25435 \nL 85.168914 117.732008 \nL 87.004441 118.085959 \nL 88.839967 118.528398 \nL 90.675493 118.723071 \nL 91.776809 119.337429 \nL 93.612336 118.43991 \nL 95.447862 118.262934 \nL 97.283388 117.732008 \nL 99.118914 117.732008 \nL 100.954441 117.944378 \nL 102.055757 118.010112 \nL 103.891283 114.546448 \nL 105.726809 114.546448 \nL 107.562336 115.018383 \nL 109.397862 115.342838 \nL 111.233388 115.962252 \nL 112.334704 115.987535 \nL 114.17023 112.422741 \nL 116.005757 110.299035 \nL 117.841283 112.422741 \nL 119.676809 113.750058 \nL 121.512336 114.334077 \nL 122.613651 115.229068 \nL 124.449178 114.546448 \nL 126.284704 114.900399 \nL 128.12023 115.136366 \nL 129.955757 115.785277 \nL 131.791283 116.033043 \nL 132.892599 115.987535 \nL 134.728125 116.316203 \nL 136.563651 114.546448 \nL 138.399178 115.490318 \nL 140.234704 114.723424 \nL 142.07023 114.688028 \nL 143.171546 115.102657 \nL 145.007072 113.130644 \nL 146.842599 112.245766 \nL 148.678125 111.950807 \nL 150.513651 111.537864 \nL 152.349178 112.06879 \nL 153.450493 111.879174 \nL 155.28602 109.591133 \nL 157.121546 109.945084 \nL 158.957072 108.529279 \nL 160.792599 108.175328 \nL 162.628125 108.529279 \nL 163.729441 108.718896 \nL 165.564967 108.175328 \nL 167.400493 107.644402 \nL 169.23602 107.113475 \nL 171.071546 107.378938 \nL 172.907072 108.104538 \nL 174.008388 108.213252 \nL 175.843914 103.220013 \nL 177.679441 103.927915 \nL 179.514967 105.34372 \nL 181.350493 105.963134 \nL 183.18602 105.55609 \nL 184.287336 105.937852 \nL 186.122862 103.220013 \nL 187.958388 105.166744 \nL 189.793914 104.635817 \nL 191.629441 104.193378 \nL 193.464967 105.41451 \nL 194.566283 105.052974 \nL 196.401809 102.15816 \nL 198.237336 104.104891 \nL 200.072862 104.39985 \nL 201.908388 104.281866 \nL 203.743914 104.352656 \nL 204.84523 104.800152 \nL 206.680757 107.467426 \nL 208.516283 107.467426 \nL 210.351809 106.405573 \nL 212.187336 106.228597 \nL 214.022862 105.62688 \nL 215.124178 104.989768 \nL 216.959704 100.742355 \nL 218.79523 100.742355 \nL 220.630757 101.804209 \nL 222.466283 102.069672 \nL 224.301809 102.795272 \nL 225.403125 102.967191 \n\" clip-path=\"url(#pbc750a478c)\" style=\"fill: none; stroke-dasharray: 5.55,2.4; stroke-dashoffset: 0; stroke: #bf00bf; stroke-width: 1.5\"/>\n   </g>\n   <g id=\"line2d_21\">\n    <path d=\"M 30.103125 138.615122 \nL 40.382072 139.5 \nL 50.66102 132.420978 \nL 60.939967 130.651223 \nL 71.218914 126.226834 \nL 81.497862 129.766345 \nL 91.776809 127.111712 \nL 102.055757 131.5361 \nL 112.334704 127.996589 \nL 122.613651 119.147812 \nL 132.892599 120.917568 \nL 143.171546 128.881467 \nL 153.450493 128.881467 \nL 163.729441 124.457079 \nL 174.008388 120.917568 \nL 184.287336 120.917568 \nL 194.566283 122.687323 \nL 204.84523 120.917568 \nL 215.124178 125.341956 \nL 225.403125 120.03269 \n\" clip-path=\"url(#pbc750a478c)\" style=\"fill: none; stroke-dasharray: 9.6,2.4,1.5,2.4; stroke-dashoffset: 0; stroke: #008000; stroke-width: 1.5\"/>\n   </g>\n   <g id=\"patch_3\">\n    <path d=\"M 30.103125 145.8 \nL 30.103125 7.2 \n\" style=\"fill: none; stroke: #000000; stroke-width: 0.8; stroke-linejoin: miter; stroke-linecap: square\"/>\n   </g>\n   <g id=\"patch_4\">\n    <path d=\"M 225.403125 145.8 \nL 225.403125 7.2 \n\" style=\"fill: none; stroke: #000000; stroke-width: 0.8; stroke-linejoin: miter; stroke-linecap: square\"/>\n   </g>\n   <g id=\"patch_5\">\n    <path d=\"M 30.103125 145.8 \nL 225.403125 145.8 \n\" style=\"fill: none; stroke: #000000; stroke-width: 0.8; stroke-linejoin: miter; stroke-linecap: square\"/>\n   </g>\n   <g id=\"patch_6\">\n    <path d=\"M 30.103125 7.2 \nL 225.403125 7.2 \n\" style=\"fill: none; stroke: #000000; stroke-width: 0.8; stroke-linejoin: miter; stroke-linecap: square\"/>\n   </g>\n   <g id=\"legend_1\">\n    <g id=\"patch_7\">\n     <path d=\"M 140.634375 59.234375 \nL 218.403125 59.234375 \nQ 220.403125 59.234375 220.403125 57.234375 \nL 220.403125 14.2 \nQ 220.403125 12.2 218.403125 12.2 \nL 140.634375 12.2 \nQ 138.634375 12.2 138.634375 14.2 \nL 138.634375 57.234375 \nQ 138.634375 59.234375 140.634375 59.234375 \nz\n\" style=\"fill: #ffffff; opacity: 0.8; stroke: #cccccc; stroke-linejoin: miter\"/>\n    </g>\n    <g id=\"line2d_22\">\n     <path d=\"M 142.634375 20.298438 \nL 152.634375 20.298438 \nL 162.634375 20.298438 \n\" style=\"fill: none; stroke: #1f77b4; stroke-width: 1.5; stroke-linecap: square\"/>\n    </g>\n    <g id=\"text_11\">\n     <!-- train loss -->\n     <g transform=\"translate(170.634375 23.798438) scale(0.1 -0.1)\">\n      <defs>\n       <path id=\"DejaVuSans-74\" d=\"M 1172 4494 \nL 1172 3500 \nL 2356 3500 \nL 2356 3053 \nL 1172 3053 \nL 1172 1153 \nQ 1172 725 1289 603 \nQ 1406 481 1766 481 \nL 2356 481 \nL 2356 0 \nL 1766 0 \nQ 1100 0 847 248 \nQ 594 497 594 1153 \nL 594 3053 \nL 172 3053 \nL 172 3500 \nL 594 3500 \nL 594 4494 \nL 1172 4494 \nz\n\" transform=\"scale(0.015625)\"/>\n       <path id=\"DejaVuSans-72\" d=\"M 2631 2963 \nQ 2534 3019 2420 3045 \nQ 2306 3072 2169 3072 \nQ 1681 3072 1420 2755 \nQ 1159 2438 1159 1844 \nL 1159 0 \nL 581 0 \nL 581 3500 \nL 1159 3500 \nL 1159 2956 \nQ 1341 3275 1631 3429 \nQ 1922 3584 2338 3584 \nQ 2397 3584 2469 3576 \nQ 2541 3569 2628 3553 \nL 2631 2963 \nz\n\" transform=\"scale(0.015625)\"/>\n       <path id=\"DejaVuSans-61\" d=\"M 2194 1759 \nQ 1497 1759 1228 1600 \nQ 959 1441 959 1056 \nQ 959 750 1161 570 \nQ 1363 391 1709 391 \nQ 2188 391 2477 730 \nQ 2766 1069 2766 1631 \nL 2766 1759 \nL 2194 1759 \nz\nM 3341 1997 \nL 3341 0 \nL 2766 0 \nL 2766 531 \nQ 2569 213 2275 61 \nQ 1981 -91 1556 -91 \nQ 1019 -91 701 211 \nQ 384 513 384 1019 \nQ 384 1609 779 1909 \nQ 1175 2209 1959 2209 \nL 2766 2209 \nL 2766 2266 \nQ 2766 2663 2505 2880 \nQ 2244 3097 1772 3097 \nQ 1472 3097 1187 3025 \nQ 903 2953 641 2809 \nL 641 3341 \nQ 956 3463 1253 3523 \nQ 1550 3584 1831 3584 \nQ 2591 3584 2966 3190 \nQ 3341 2797 3341 1997 \nz\n\" transform=\"scale(0.015625)\"/>\n       <path id=\"DejaVuSans-69\" d=\"M 603 3500 \nL 1178 3500 \nL 1178 0 \nL 603 0 \nL 603 3500 \nz\nM 603 4863 \nL 1178 4863 \nL 1178 4134 \nL 603 4134 \nL 603 4863 \nz\n\" transform=\"scale(0.015625)\"/>\n       <path id=\"DejaVuSans-6e\" d=\"M 3513 2113 \nL 3513 0 \nL 2938 0 \nL 2938 2094 \nQ 2938 2591 2744 2837 \nQ 2550 3084 2163 3084 \nQ 1697 3084 1428 2787 \nQ 1159 2491 1159 1978 \nL 1159 0 \nL 581 0 \nL 581 3500 \nL 1159 3500 \nL 1159 2956 \nQ 1366 3272 1645 3428 \nQ 1925 3584 2291 3584 \nQ 2894 3584 3203 3211 \nQ 3513 2838 3513 2113 \nz\n\" transform=\"scale(0.015625)\"/>\n       <path id=\"DejaVuSans-20\" transform=\"scale(0.015625)\"/>\n       <path id=\"DejaVuSans-6c\" d=\"M 603 4863 \nL 1178 4863 \nL 1178 0 \nL 603 0 \nL 603 4863 \nz\n\" transform=\"scale(0.015625)\"/>\n       <path id=\"DejaVuSans-73\" d=\"M 2834 3397 \nL 2834 2853 \nQ 2591 2978 2328 3040 \nQ 2066 3103 1784 3103 \nQ 1356 3103 1142 2972 \nQ 928 2841 928 2578 \nQ 928 2378 1081 2264 \nQ 1234 2150 1697 2047 \nL 1894 2003 \nQ 2506 1872 2764 1633 \nQ 3022 1394 3022 966 \nQ 3022 478 2636 193 \nQ 2250 -91 1575 -91 \nQ 1294 -91 989 -36 \nQ 684 19 347 128 \nL 347 722 \nQ 666 556 975 473 \nQ 1284 391 1588 391 \nQ 1994 391 2212 530 \nQ 2431 669 2431 922 \nQ 2431 1156 2273 1281 \nQ 2116 1406 1581 1522 \nL 1381 1569 \nQ 847 1681 609 1914 \nQ 372 2147 372 2553 \nQ 372 3047 722 3315 \nQ 1072 3584 1716 3584 \nQ 2034 3584 2315 3537 \nQ 2597 3491 2834 3397 \nz\n\" transform=\"scale(0.015625)\"/>\n      </defs>\n      <use xlink:href=\"#DejaVuSans-74\"/>\n      <use xlink:href=\"#DejaVuSans-72\" x=\"39.208984\"/>\n      <use xlink:href=\"#DejaVuSans-61\" x=\"80.322266\"/>\n      <use xlink:href=\"#DejaVuSans-69\" x=\"141.601562\"/>\n      <use xlink:href=\"#DejaVuSans-6e\" x=\"169.384766\"/>\n      <use xlink:href=\"#DejaVuSans-20\" x=\"232.763672\"/>\n      <use xlink:href=\"#DejaVuSans-6c\" x=\"264.550781\"/>\n      <use xlink:href=\"#DejaVuSans-6f\" x=\"292.333984\"/>\n      <use xlink:href=\"#DejaVuSans-73\" x=\"353.515625\"/>\n      <use xlink:href=\"#DejaVuSans-73\" x=\"405.615234\"/>\n     </g>\n    </g>\n    <g id=\"line2d_23\">\n     <path d=\"M 142.634375 34.976563 \nL 152.634375 34.976563 \nL 162.634375 34.976563 \n\" style=\"fill: none; stroke-dasharray: 5.55,2.4; stroke-dashoffset: 0; stroke: #bf00bf; stroke-width: 1.5\"/>\n    </g>\n    <g id=\"text_12\">\n     <!-- train acc -->\n     <g transform=\"translate(170.634375 38.476563) scale(0.1 -0.1)\">\n      <use xlink:href=\"#DejaVuSans-74\"/>\n      <use xlink:href=\"#DejaVuSans-72\" x=\"39.208984\"/>\n      <use xlink:href=\"#DejaVuSans-61\" x=\"80.322266\"/>\n      <use xlink:href=\"#DejaVuSans-69\" x=\"141.601562\"/>\n      <use xlink:href=\"#DejaVuSans-6e\" x=\"169.384766\"/>\n      <use xlink:href=\"#DejaVuSans-20\" x=\"232.763672\"/>\n      <use xlink:href=\"#DejaVuSans-61\" x=\"264.550781\"/>\n      <use xlink:href=\"#DejaVuSans-63\" x=\"325.830078\"/>\n      <use xlink:href=\"#DejaVuSans-63\" x=\"380.810547\"/>\n     </g>\n    </g>\n    <g id=\"line2d_24\">\n     <path d=\"M 142.634375 49.654688 \nL 152.634375 49.654688 \nL 162.634375 49.654688 \n\" style=\"fill: none; stroke-dasharray: 9.6,2.4,1.5,2.4; stroke-dashoffset: 0; stroke: #008000; stroke-width: 1.5\"/>\n    </g>\n    <g id=\"text_13\">\n     <!-- valid acc -->\n     <g transform=\"translate(170.634375 53.154688) scale(0.1 -0.1)\">\n      <defs>\n       <path id=\"DejaVuSans-76\" d=\"M 191 3500 \nL 800 3500 \nL 1894 563 \nL 2988 3500 \nL 3597 3500 \nL 2284 0 \nL 1503 0 \nL 191 3500 \nz\n\" transform=\"scale(0.015625)\"/>\n       <path id=\"DejaVuSans-64\" d=\"M 2906 2969 \nL 2906 4863 \nL 3481 4863 \nL 3481 0 \nL 2906 0 \nL 2906 525 \nQ 2725 213 2448 61 \nQ 2172 -91 1784 -91 \nQ 1150 -91 751 415 \nQ 353 922 353 1747 \nQ 353 2572 751 3078 \nQ 1150 3584 1784 3584 \nQ 2172 3584 2448 3432 \nQ 2725 3281 2906 2969 \nz\nM 947 1747 \nQ 947 1113 1208 752 \nQ 1469 391 1925 391 \nQ 2381 391 2643 752 \nQ 2906 1113 2906 1747 \nQ 2906 2381 2643 2742 \nQ 2381 3103 1925 3103 \nQ 1469 3103 1208 2742 \nQ 947 2381 947 1747 \nz\n\" transform=\"scale(0.015625)\"/>\n      </defs>\n      <use xlink:href=\"#DejaVuSans-76\"/>\n      <use xlink:href=\"#DejaVuSans-61\" x=\"59.179688\"/>\n      <use xlink:href=\"#DejaVuSans-6c\" x=\"120.458984\"/>\n      <use xlink:href=\"#DejaVuSans-69\" x=\"148.242188\"/>\n      <use xlink:href=\"#DejaVuSans-64\" x=\"176.025391\"/>\n      <use xlink:href=\"#DejaVuSans-20\" x=\"239.501953\"/>\n      <use xlink:href=\"#DejaVuSans-61\" x=\"271.289062\"/>\n      <use xlink:href=\"#DejaVuSans-63\" x=\"332.568359\"/>\n      <use xlink:href=\"#DejaVuSans-63\" x=\"387.548828\"/>\n     </g>\n    </g>\n   </g>\n  </g>\n </g>\n <defs>\n  <clipPath id=\"pbc750a478c\">\n   <rect x=\"30.103125\" y=\"7.2\" width=\"195.3\" height=\"138.6\"/>\n  </clipPath>\n </defs>\n</svg>\n"
     },
     "metadata": {},
     "output_type": "display_data"
    }
   ],
   "source": [
    "devices, num_epochs, lr, wd = d2l.try_all_gpus(), 20, 2e-4, 5e-4\n",
    "lr_period, lr_decay, net = 4, 0.9, get_net()\n",
    "train(net, train_iter, valid_iter,num_epochs, lr, wd, devices, lr_period, lr_decay)"
   ],
   "metadata": {
    "collapsed": false,
    "pycharm": {
     "name": "#%%\n"
    }
   }
  },
  {
   "cell_type": "code",
   "execution_count": 25,
   "outputs": [
    {
     "name": "stdout",
     "output_type": "stream",
     "text": [
      "train loss:0.601, train acc:0.786\n",
      " 329.8 examples/sec on [device(type='cuda', index=0)]\n"
     ]
    },
    {
     "data": {
      "text/plain": "<Figure size 350x250 with 1 Axes>",
      "image/svg+xml": "<?xml version=\"1.0\" encoding=\"utf-8\" standalone=\"no\"?>\n<!DOCTYPE svg PUBLIC \"-//W3C//DTD SVG 1.1//EN\"\n  \"http://www.w3.org/Graphics/SVG/1.1/DTD/svg11.dtd\">\n<svg xmlns:xlink=\"http://www.w3.org/1999/xlink\" width=\"238.965625pt\" height=\"183.35625pt\" viewBox=\"0 0 238.965625 183.35625\" xmlns=\"http://www.w3.org/2000/svg\" version=\"1.1\">\n <metadata>\n  <rdf:RDF xmlns:dc=\"http://purl.org/dc/elements/1.1/\" xmlns:cc=\"http://creativecommons.org/ns#\" xmlns:rdf=\"http://www.w3.org/1999/02/22-rdf-syntax-ns#\">\n   <cc:Work>\n    <dc:type rdf:resource=\"http://purl.org/dc/dcmitype/StillImage\"/>\n    <dc:date>2023-03-28T16:01:24.839533</dc:date>\n    <dc:format>image/svg+xml</dc:format>\n    <dc:creator>\n     <cc:Agent>\n      <dc:title>Matplotlib v3.7.0, https://matplotlib.org/</dc:title>\n     </cc:Agent>\n    </dc:creator>\n   </cc:Work>\n  </rdf:RDF>\n </metadata>\n <defs>\n  <style type=\"text/css\">*{stroke-linejoin: round; stroke-linecap: butt}</style>\n </defs>\n <g id=\"figure_1\">\n  <g id=\"patch_1\">\n   <path d=\"M 0 183.35625 \nL 238.965625 183.35625 \nL 238.965625 0 \nL 0 0 \nz\n\" style=\"fill: #ffffff\"/>\n  </g>\n  <g id=\"axes_1\">\n   <g id=\"patch_2\">\n    <path d=\"M 30.103125 145.8 \nL 225.403125 145.8 \nL 225.403125 7.2 \nL 30.103125 7.2 \nz\n\" style=\"fill: #ffffff\"/>\n   </g>\n   <g id=\"matplotlib.axis_1\">\n    <g id=\"xtick_1\">\n     <g id=\"line2d_1\">\n      <path d=\"M 71.218914 145.8 \nL 71.218914 7.2 \n\" clip-path=\"url(#p4695e35bd0)\" style=\"fill: none; stroke: #b0b0b0; stroke-width: 0.8; stroke-linecap: square\"/>\n     </g>\n     <g id=\"line2d_2\">\n      <defs>\n       <path id=\"m186ff45e0f\" d=\"M 0 0 \nL 0 3.5 \n\" style=\"stroke: #000000; stroke-width: 0.8\"/>\n      </defs>\n      <g>\n       <use xlink:href=\"#m186ff45e0f\" x=\"71.218914\" y=\"145.8\" style=\"stroke: #000000; stroke-width: 0.8\"/>\n      </g>\n     </g>\n     <g id=\"text_1\">\n      <!-- 5 -->\n      <g transform=\"translate(68.037664 160.398438) scale(0.1 -0.1)\">\n       <defs>\n        <path id=\"DejaVuSans-35\" d=\"M 691 4666 \nL 3169 4666 \nL 3169 4134 \nL 1269 4134 \nL 1269 2991 \nQ 1406 3038 1543 3061 \nQ 1681 3084 1819 3084 \nQ 2600 3084 3056 2656 \nQ 3513 2228 3513 1497 \nQ 3513 744 3044 326 \nQ 2575 -91 1722 -91 \nQ 1428 -91 1123 -41 \nQ 819 9 494 109 \nL 494 744 \nQ 775 591 1075 516 \nQ 1375 441 1709 441 \nQ 2250 441 2565 725 \nQ 2881 1009 2881 1497 \nQ 2881 1984 2565 2268 \nQ 2250 2553 1709 2553 \nQ 1456 2553 1204 2497 \nQ 953 2441 691 2322 \nL 691 4666 \nz\n\" transform=\"scale(0.015625)\"/>\n       </defs>\n       <use xlink:href=\"#DejaVuSans-35\"/>\n      </g>\n     </g>\n    </g>\n    <g id=\"xtick_2\">\n     <g id=\"line2d_3\">\n      <path d=\"M 122.613651 145.8 \nL 122.613651 7.2 \n\" clip-path=\"url(#p4695e35bd0)\" style=\"fill: none; stroke: #b0b0b0; stroke-width: 0.8; stroke-linecap: square\"/>\n     </g>\n     <g id=\"line2d_4\">\n      <g>\n       <use xlink:href=\"#m186ff45e0f\" x=\"122.613651\" y=\"145.8\" style=\"stroke: #000000; stroke-width: 0.8\"/>\n      </g>\n     </g>\n     <g id=\"text_2\">\n      <!-- 10 -->\n      <g transform=\"translate(116.251151 160.398438) scale(0.1 -0.1)\">\n       <defs>\n        <path id=\"DejaVuSans-31\" d=\"M 794 531 \nL 1825 531 \nL 1825 4091 \nL 703 3866 \nL 703 4441 \nL 1819 4666 \nL 2450 4666 \nL 2450 531 \nL 3481 531 \nL 3481 0 \nL 794 0 \nL 794 531 \nz\n\" transform=\"scale(0.015625)\"/>\n        <path id=\"DejaVuSans-30\" d=\"M 2034 4250 \nQ 1547 4250 1301 3770 \nQ 1056 3291 1056 2328 \nQ 1056 1369 1301 889 \nQ 1547 409 2034 409 \nQ 2525 409 2770 889 \nQ 3016 1369 3016 2328 \nQ 3016 3291 2770 3770 \nQ 2525 4250 2034 4250 \nz\nM 2034 4750 \nQ 2819 4750 3233 4129 \nQ 3647 3509 3647 2328 \nQ 3647 1150 3233 529 \nQ 2819 -91 2034 -91 \nQ 1250 -91 836 529 \nQ 422 1150 422 2328 \nQ 422 3509 836 4129 \nQ 1250 4750 2034 4750 \nz\n\" transform=\"scale(0.015625)\"/>\n       </defs>\n       <use xlink:href=\"#DejaVuSans-31\"/>\n       <use xlink:href=\"#DejaVuSans-30\" x=\"63.623047\"/>\n      </g>\n     </g>\n    </g>\n    <g id=\"xtick_3\">\n     <g id=\"line2d_5\">\n      <path d=\"M 174.008388 145.8 \nL 174.008388 7.2 \n\" clip-path=\"url(#p4695e35bd0)\" style=\"fill: none; stroke: #b0b0b0; stroke-width: 0.8; stroke-linecap: square\"/>\n     </g>\n     <g id=\"line2d_6\">\n      <g>\n       <use xlink:href=\"#m186ff45e0f\" x=\"174.008388\" y=\"145.8\" style=\"stroke: #000000; stroke-width: 0.8\"/>\n      </g>\n     </g>\n     <g id=\"text_3\">\n      <!-- 15 -->\n      <g transform=\"translate(167.645888 160.398438) scale(0.1 -0.1)\">\n       <use xlink:href=\"#DejaVuSans-31\"/>\n       <use xlink:href=\"#DejaVuSans-35\" x=\"63.623047\"/>\n      </g>\n     </g>\n    </g>\n    <g id=\"xtick_4\">\n     <g id=\"line2d_7\">\n      <path d=\"M 225.403125 145.8 \nL 225.403125 7.2 \n\" clip-path=\"url(#p4695e35bd0)\" style=\"fill: none; stroke: #b0b0b0; stroke-width: 0.8; stroke-linecap: square\"/>\n     </g>\n     <g id=\"line2d_8\">\n      <g>\n       <use xlink:href=\"#m186ff45e0f\" x=\"225.403125\" y=\"145.8\" style=\"stroke: #000000; stroke-width: 0.8\"/>\n      </g>\n     </g>\n     <g id=\"text_4\">\n      <!-- 20 -->\n      <g transform=\"translate(219.040625 160.398438) scale(0.1 -0.1)\">\n       <defs>\n        <path id=\"DejaVuSans-32\" d=\"M 1228 531 \nL 3431 531 \nL 3431 0 \nL 469 0 \nL 469 531 \nQ 828 903 1448 1529 \nQ 2069 2156 2228 2338 \nQ 2531 2678 2651 2914 \nQ 2772 3150 2772 3378 \nQ 2772 3750 2511 3984 \nQ 2250 4219 1831 4219 \nQ 1534 4219 1204 4116 \nQ 875 4013 500 3803 \nL 500 4441 \nQ 881 4594 1212 4672 \nQ 1544 4750 1819 4750 \nQ 2544 4750 2975 4387 \nQ 3406 4025 3406 3419 \nQ 3406 3131 3298 2873 \nQ 3191 2616 2906 2266 \nQ 2828 2175 2409 1742 \nQ 1991 1309 1228 531 \nz\n\" transform=\"scale(0.015625)\"/>\n       </defs>\n       <use xlink:href=\"#DejaVuSans-32\"/>\n       <use xlink:href=\"#DejaVuSans-30\" x=\"63.623047\"/>\n      </g>\n     </g>\n    </g>\n    <g id=\"text_5\">\n     <!-- epoch -->\n     <g transform=\"translate(112.525 174.076563) scale(0.1 -0.1)\">\n      <defs>\n       <path id=\"DejaVuSans-65\" d=\"M 3597 1894 \nL 3597 1613 \nL 953 1613 \nQ 991 1019 1311 708 \nQ 1631 397 2203 397 \nQ 2534 397 2845 478 \nQ 3156 559 3463 722 \nL 3463 178 \nQ 3153 47 2828 -22 \nQ 2503 -91 2169 -91 \nQ 1331 -91 842 396 \nQ 353 884 353 1716 \nQ 353 2575 817 3079 \nQ 1281 3584 2069 3584 \nQ 2775 3584 3186 3129 \nQ 3597 2675 3597 1894 \nz\nM 3022 2063 \nQ 3016 2534 2758 2815 \nQ 2500 3097 2075 3097 \nQ 1594 3097 1305 2825 \nQ 1016 2553 972 2059 \nL 3022 2063 \nz\n\" transform=\"scale(0.015625)\"/>\n       <path id=\"DejaVuSans-70\" d=\"M 1159 525 \nL 1159 -1331 \nL 581 -1331 \nL 581 3500 \nL 1159 3500 \nL 1159 2969 \nQ 1341 3281 1617 3432 \nQ 1894 3584 2278 3584 \nQ 2916 3584 3314 3078 \nQ 3713 2572 3713 1747 \nQ 3713 922 3314 415 \nQ 2916 -91 2278 -91 \nQ 1894 -91 1617 61 \nQ 1341 213 1159 525 \nz\nM 3116 1747 \nQ 3116 2381 2855 2742 \nQ 2594 3103 2138 3103 \nQ 1681 3103 1420 2742 \nQ 1159 2381 1159 1747 \nQ 1159 1113 1420 752 \nQ 1681 391 2138 391 \nQ 2594 391 2855 752 \nQ 3116 1113 3116 1747 \nz\n\" transform=\"scale(0.015625)\"/>\n       <path id=\"DejaVuSans-6f\" d=\"M 1959 3097 \nQ 1497 3097 1228 2736 \nQ 959 2375 959 1747 \nQ 959 1119 1226 758 \nQ 1494 397 1959 397 \nQ 2419 397 2687 759 \nQ 2956 1122 2956 1747 \nQ 2956 2369 2687 2733 \nQ 2419 3097 1959 3097 \nz\nM 1959 3584 \nQ 2709 3584 3137 3096 \nQ 3566 2609 3566 1747 \nQ 3566 888 3137 398 \nQ 2709 -91 1959 -91 \nQ 1206 -91 779 398 \nQ 353 888 353 1747 \nQ 353 2609 779 3096 \nQ 1206 3584 1959 3584 \nz\n\" transform=\"scale(0.015625)\"/>\n       <path id=\"DejaVuSans-63\" d=\"M 3122 3366 \nL 3122 2828 \nQ 2878 2963 2633 3030 \nQ 2388 3097 2138 3097 \nQ 1578 3097 1268 2742 \nQ 959 2388 959 1747 \nQ 959 1106 1268 751 \nQ 1578 397 2138 397 \nQ 2388 397 2633 464 \nQ 2878 531 3122 666 \nL 3122 134 \nQ 2881 22 2623 -34 \nQ 2366 -91 2075 -91 \nQ 1284 -91 818 406 \nQ 353 903 353 1747 \nQ 353 2603 823 3093 \nQ 1294 3584 2113 3584 \nQ 2378 3584 2631 3529 \nQ 2884 3475 3122 3366 \nz\n\" transform=\"scale(0.015625)\"/>\n       <path id=\"DejaVuSans-68\" d=\"M 3513 2113 \nL 3513 0 \nL 2938 0 \nL 2938 2094 \nQ 2938 2591 2744 2837 \nQ 2550 3084 2163 3084 \nQ 1697 3084 1428 2787 \nQ 1159 2491 1159 1978 \nL 1159 0 \nL 581 0 \nL 581 4863 \nL 1159 4863 \nL 1159 2956 \nQ 1366 3272 1645 3428 \nQ 1925 3584 2291 3584 \nQ 2894 3584 3203 3211 \nQ 3513 2838 3513 2113 \nz\n\" transform=\"scale(0.015625)\"/>\n      </defs>\n      <use xlink:href=\"#DejaVuSans-65\"/>\n      <use xlink:href=\"#DejaVuSans-70\" x=\"61.523438\"/>\n      <use xlink:href=\"#DejaVuSans-6f\" x=\"125\"/>\n      <use xlink:href=\"#DejaVuSans-63\" x=\"186.181641\"/>\n      <use xlink:href=\"#DejaVuSans-68\" x=\"241.162109\"/>\n     </g>\n    </g>\n   </g>\n   <g id=\"matplotlib.axis_2\">\n    <g id=\"ytick_1\">\n     <g id=\"line2d_9\">\n      <path d=\"M 30.103125 117.753109 \nL 225.403125 117.753109 \n\" clip-path=\"url(#p4695e35bd0)\" style=\"fill: none; stroke: #b0b0b0; stroke-width: 0.8; stroke-linecap: square\"/>\n     </g>\n     <g id=\"line2d_10\">\n      <defs>\n       <path id=\"m63ef9d7ae6\" d=\"M 0 0 \nL -3.5 0 \n\" style=\"stroke: #000000; stroke-width: 0.8\"/>\n      </defs>\n      <g>\n       <use xlink:href=\"#m63ef9d7ae6\" x=\"30.103125\" y=\"117.753109\" style=\"stroke: #000000; stroke-width: 0.8\"/>\n      </g>\n     </g>\n     <g id=\"text_6\">\n      <!-- 0.5 -->\n      <g transform=\"translate(7.2 121.552328) scale(0.1 -0.1)\">\n       <defs>\n        <path id=\"DejaVuSans-2e\" d=\"M 684 794 \nL 1344 794 \nL 1344 0 \nL 684 0 \nL 684 794 \nz\n\" transform=\"scale(0.015625)\"/>\n       </defs>\n       <use xlink:href=\"#DejaVuSans-30\"/>\n       <use xlink:href=\"#DejaVuSans-2e\" x=\"63.623047\"/>\n       <use xlink:href=\"#DejaVuSans-35\" x=\"95.410156\"/>\n      </g>\n     </g>\n    </g>\n    <g id=\"ytick_2\">\n     <g id=\"line2d_11\">\n      <path d=\"M 30.103125 89.540926 \nL 225.403125 89.540926 \n\" clip-path=\"url(#p4695e35bd0)\" style=\"fill: none; stroke: #b0b0b0; stroke-width: 0.8; stroke-linecap: square\"/>\n     </g>\n     <g id=\"line2d_12\">\n      <g>\n       <use xlink:href=\"#m63ef9d7ae6\" x=\"30.103125\" y=\"89.540926\" style=\"stroke: #000000; stroke-width: 0.8\"/>\n      </g>\n     </g>\n     <g id=\"text_7\">\n      <!-- 1.0 -->\n      <g transform=\"translate(7.2 93.340144) scale(0.1 -0.1)\">\n       <use xlink:href=\"#DejaVuSans-31\"/>\n       <use xlink:href=\"#DejaVuSans-2e\" x=\"63.623047\"/>\n       <use xlink:href=\"#DejaVuSans-30\" x=\"95.410156\"/>\n      </g>\n     </g>\n    </g>\n    <g id=\"ytick_3\">\n     <g id=\"line2d_13\">\n      <path d=\"M 30.103125 61.328743 \nL 225.403125 61.328743 \n\" clip-path=\"url(#p4695e35bd0)\" style=\"fill: none; stroke: #b0b0b0; stroke-width: 0.8; stroke-linecap: square\"/>\n     </g>\n     <g id=\"line2d_14\">\n      <g>\n       <use xlink:href=\"#m63ef9d7ae6\" x=\"30.103125\" y=\"61.328743\" style=\"stroke: #000000; stroke-width: 0.8\"/>\n      </g>\n     </g>\n     <g id=\"text_8\">\n      <!-- 1.5 -->\n      <g transform=\"translate(7.2 65.127961) scale(0.1 -0.1)\">\n       <use xlink:href=\"#DejaVuSans-31\"/>\n       <use xlink:href=\"#DejaVuSans-2e\" x=\"63.623047\"/>\n       <use xlink:href=\"#DejaVuSans-35\" x=\"95.410156\"/>\n      </g>\n     </g>\n    </g>\n    <g id=\"ytick_4\">\n     <g id=\"line2d_15\">\n      <path d=\"M 30.103125 33.116559 \nL 225.403125 33.116559 \n\" clip-path=\"url(#p4695e35bd0)\" style=\"fill: none; stroke: #b0b0b0; stroke-width: 0.8; stroke-linecap: square\"/>\n     </g>\n     <g id=\"line2d_16\">\n      <g>\n       <use xlink:href=\"#m63ef9d7ae6\" x=\"30.103125\" y=\"33.116559\" style=\"stroke: #000000; stroke-width: 0.8\"/>\n      </g>\n     </g>\n     <g id=\"text_9\">\n      <!-- 2.0 -->\n      <g transform=\"translate(7.2 36.915778) scale(0.1 -0.1)\">\n       <use xlink:href=\"#DejaVuSans-32\"/>\n       <use xlink:href=\"#DejaVuSans-2e\" x=\"63.623047\"/>\n       <use xlink:href=\"#DejaVuSans-30\" x=\"95.410156\"/>\n      </g>\n     </g>\n    </g>\n   </g>\n   <g id=\"line2d_17\">\n    <path d=\"M 21.813651 13.5 \nL 23.803125 14.069657 \nL 25.792599 16.638594 \nL 27.782072 17.209109 \nL 29.771546 18.218009 \nL 30.103125 18.619321 \nL 32.092599 35.243873 \nL 34.082072 34.920027 \nL 36.071546 36.716468 \nL 38.06102 34.288666 \nL 40.050493 32.579978 \nL 40.382072 32.25261 \nL 42.371546 39.153135 \nL 44.36102 38.986935 \nL 46.350493 41.346017 \nL 48.339967 41.628759 \nL 50.329441 43.017925 \nL 50.66102 42.999232 \nL 52.650493 46.84131 \nL 54.639967 47.927862 \nL 56.629441 49.489453 \nL 58.618914 49.195173 \nL 60.608388 48.566522 \nL 60.939967 48.529753 \nL 62.929441 56.145297 \nL 64.918914 55.327126 \nL 66.908388 55.884272 \nL 68.897862 54.106853 \nL 70.887336 55.083849 \nL 71.218914 54.989186 \nL 73.208388 58.084468 \nL 75.197862 60.229569 \nL 77.187336 60.408026 \nL 79.176809 60.334026 \nL 81.166283 58.096506 \nL 81.497862 58.015066 \nL 83.487336 61.644241 \nL 85.476809 61.530235 \nL 87.466283 63.339797 \nL 89.455757 62.294207 \nL 91.44523 60.702236 \nL 91.776809 61.232305 \nL 93.766283 75.348508 \nL 95.755757 70.162811 \nL 97.74523 71.809791 \nL 99.734704 71.551514 \nL 101.724178 66.889977 \nL 102.055757 67.118601 \nL 104.04523 69.110852 \nL 106.034704 70.519972 \nL 108.024178 71.874462 \nL 110.013651 71.903235 \nL 112.003125 71.130182 \nL 112.334704 71.203621 \nL 114.324178 80.896449 \nL 116.313651 80.922403 \nL 118.303125 75.979818 \nL 120.292599 77.775456 \nL 122.282072 77.174853 \nL 122.613651 76.878173 \nL 124.603125 78.176646 \nL 126.592599 78.106897 \nL 128.582072 76.866059 \nL 130.571546 79.057699 \nL 132.56102 78.8247 \nL 132.892599 78.682558 \nL 134.882072 78.059826 \nL 136.871546 81.078158 \nL 138.86102 83.569203 \nL 140.850493 82.223996 \nL 142.839967 81.809465 \nL 143.171546 81.377758 \nL 145.16102 96.050051 \nL 147.150493 93.204343 \nL 149.139967 89.493293 \nL 151.129441 89.191015 \nL 153.118914 89.538386 \nL 153.450493 88.88532 \nL 155.439967 99.024728 \nL 157.429441 93.708982 \nL 159.418914 94.063995 \nL 161.408388 92.312295 \nL 163.397862 92.14747 \nL 163.729441 92.229765 \nL 165.718914 93.237712 \nL 167.708388 93.836127 \nL 169.697862 93.998893 \nL 171.687336 94.483685 \nL 173.676809 94.280847 \nL 174.008388 94.252102 \nL 175.997862 99.198678 \nL 177.987336 100.277411 \nL 179.976809 101.30593 \nL 181.966283 102.274192 \nL 183.955757 101.181928 \nL 184.287336 101.452349 \nL 186.276809 105.434251 \nL 188.266283 106.486045 \nL 190.255757 105.220343 \nL 192.24523 103.866443 \nL 194.234704 104.02344 \nL 194.566283 103.88302 \nL 196.555757 104.609325 \nL 198.54523 104.414393 \nL 200.534704 106.327251 \nL 202.524178 104.220559 \nL 204.513651 105.055756 \nL 204.84523 105.061128 \nL 206.834704 105.749251 \nL 208.824178 107.961318 \nL 210.813651 107.862591 \nL 212.803125 106.755606 \nL 214.792599 105.986274 \nL 215.124178 105.809778 \nL 217.113651 114.088598 \nL 219.103125 113.154048 \nL 221.092599 113.831382 \nL 223.082072 113.309104 \nL 225.071546 112.615326 \nL 225.403125 112.036702 \n\" clip-path=\"url(#p4695e35bd0)\" style=\"fill: none; stroke: #1f77b4; stroke-width: 1.5; stroke-linecap: square\"/>\n   </g>\n   <g id=\"line2d_18\">\n    <path d=\"M 21.813651 139.5 \nL 23.803125 138.471431 \nL 25.792599 137.63878 \nL 27.782072 136.267354 \nL 29.771546 135.855926 \nL 30.103125 135.499482 \nL 32.092599 131.271447 \nL 34.082072 130.683693 \nL 36.071546 129.508185 \nL 38.06102 129.875531 \nL 40.050493 130.742468 \nL 40.382072 130.835371 \nL 42.371546 129.214308 \nL 44.36102 129.949 \nL 46.350493 129.01839 \nL 48.339967 128.553085 \nL 50.329441 127.92125 \nL 50.66102 127.934522 \nL 52.650493 128.332678 \nL 54.639967 126.422478 \nL 56.629441 126.667375 \nL 58.618914 126.128601 \nL 60.608388 126.275539 \nL 60.939967 126.285019 \nL 62.929441 122.455139 \nL 64.918914 122.749016 \nL 66.908388 122.161262 \nL 68.897862 122.602078 \nL 70.887336 122.690241 \nL 71.218914 122.758496 \nL 73.208388 122.161262 \nL 75.197862 120.985755 \nL 77.187336 120.887796 \nL 79.176809 120.47147 \nL 81.166283 121.103306 \nL 81.497862 121.052114 \nL 83.487336 123.042893 \nL 85.476809 122.161262 \nL 87.466283 120.789837 \nL 89.455757 120.618409 \nL 91.44523 120.985755 \nL 91.776809 120.881476 \nL 93.766283 114.520463 \nL 95.755757 117.60617 \nL 97.74523 117.263314 \nL 99.734704 117.091886 \nL 101.724178 118.811066 \nL 102.055757 118.776938 \nL 104.04523 116.283724 \nL 106.034704 116.72454 \nL 108.024178 116.185765 \nL 110.013651 115.916378 \nL 112.003125 115.931072 \nL 112.334704 115.819209 \nL 114.324178 114.226586 \nL 116.313651 113.638832 \nL 118.303125 115.206176 \nL 120.292599 114.740871 \nL 122.282072 114.520463 \nL 122.613651 114.454104 \nL 124.603125 113.932709 \nL 126.592599 113.198017 \nL 128.582072 114.226586 \nL 130.571546 113.638832 \nL 132.56102 114.344137 \nL 132.892599 114.055948 \nL 134.882072 111.875571 \nL 136.871546 111.875571 \nL 138.86102 111.287817 \nL 140.850493 111.94904 \nL 142.839967 112.404549 \nL 143.171546 112.577083 \nL 145.16102 106.879663 \nL 147.150493 108.789863 \nL 149.139967 110.01435 \nL 151.129441 110.112309 \nL 153.118914 110.22986 \nL 153.450493 110.301907 \nL 155.439967 106.585786 \nL 157.429441 109.230678 \nL 159.418914 109.426596 \nL 161.408388 109.304148 \nL 163.397862 109.348229 \nL 163.729441 109.334957 \nL 165.718914 108.642925 \nL 167.708388 108.055171 \nL 169.697862 107.565376 \nL 171.687336 107.467417 \nL 173.676809 107.584968 \nL 174.008388 107.628575 \nL 175.997862 106.291909 \nL 177.987336 107.614356 \nL 179.976809 105.900074 \nL 181.966283 105.851094 \nL 183.955757 105.527829 \nL 184.287336 105.353399 \nL 186.276809 101.883756 \nL 188.266283 102.324571 \nL 190.255757 103.059263 \nL 192.24523 103.500079 \nL 194.234704 103.823343 \nL 194.566283 103.931414 \nL 196.555757 103.35314 \nL 198.54523 104.675586 \nL 200.534704 103.451099 \nL 202.524178 104.30824 \nL 204.513651 104.058445 \nL 204.84523 104.045173 \nL 206.834704 102.177633 \nL 208.824178 102.324571 \nL 210.813651 102.275592 \nL 212.803125 102.765387 \nL 214.792599 102.941713 \nL 215.124178 103.078223 \nL 217.113651 101.002125 \nL 219.103125 101.296002 \nL 221.092599 101.198043 \nL 223.082072 101.44294 \nL 225.071546 101.531104 \nL 225.403125 101.599359 \n\" clip-path=\"url(#p4695e35bd0)\" style=\"fill: none; stroke-dasharray: 5.55,2.4; stroke-dashoffset: 0; stroke: #bf00bf; stroke-width: 1.5\"/>\n   </g>\n   <g id=\"line2d_19\"/>\n   <g id=\"patch_3\">\n    <path d=\"M 30.103125 145.8 \nL 30.103125 7.2 \n\" style=\"fill: none; stroke: #000000; stroke-width: 0.8; stroke-linejoin: miter; stroke-linecap: square\"/>\n   </g>\n   <g id=\"patch_4\">\n    <path d=\"M 225.403125 145.8 \nL 225.403125 7.2 \n\" style=\"fill: none; stroke: #000000; stroke-width: 0.8; stroke-linejoin: miter; stroke-linecap: square\"/>\n   </g>\n   <g id=\"patch_5\">\n    <path d=\"M 30.103125 145.8 \nL 225.403125 145.8 \n\" style=\"fill: none; stroke: #000000; stroke-width: 0.8; stroke-linejoin: miter; stroke-linecap: square\"/>\n   </g>\n   <g id=\"patch_6\">\n    <path d=\"M 30.103125 7.2 \nL 225.403125 7.2 \n\" style=\"fill: none; stroke: #000000; stroke-width: 0.8; stroke-linejoin: miter; stroke-linecap: square\"/>\n   </g>\n   <g id=\"legend_1\">\n    <g id=\"patch_7\">\n     <path d=\"M 140.634375 44.55625 \nL 218.403125 44.55625 \nQ 220.403125 44.55625 220.403125 42.55625 \nL 220.403125 14.2 \nQ 220.403125 12.2 218.403125 12.2 \nL 140.634375 12.2 \nQ 138.634375 12.2 138.634375 14.2 \nL 138.634375 42.55625 \nQ 138.634375 44.55625 140.634375 44.55625 \nz\n\" style=\"fill: #ffffff; opacity: 0.8; stroke: #cccccc; stroke-linejoin: miter\"/>\n    </g>\n    <g id=\"line2d_20\">\n     <path d=\"M 142.634375 20.298438 \nL 152.634375 20.298438 \nL 162.634375 20.298438 \n\" style=\"fill: none; stroke: #1f77b4; stroke-width: 1.5; stroke-linecap: square\"/>\n    </g>\n    <g id=\"text_10\">\n     <!-- train loss -->\n     <g transform=\"translate(170.634375 23.798438) scale(0.1 -0.1)\">\n      <defs>\n       <path id=\"DejaVuSans-74\" d=\"M 1172 4494 \nL 1172 3500 \nL 2356 3500 \nL 2356 3053 \nL 1172 3053 \nL 1172 1153 \nQ 1172 725 1289 603 \nQ 1406 481 1766 481 \nL 2356 481 \nL 2356 0 \nL 1766 0 \nQ 1100 0 847 248 \nQ 594 497 594 1153 \nL 594 3053 \nL 172 3053 \nL 172 3500 \nL 594 3500 \nL 594 4494 \nL 1172 4494 \nz\n\" transform=\"scale(0.015625)\"/>\n       <path id=\"DejaVuSans-72\" d=\"M 2631 2963 \nQ 2534 3019 2420 3045 \nQ 2306 3072 2169 3072 \nQ 1681 3072 1420 2755 \nQ 1159 2438 1159 1844 \nL 1159 0 \nL 581 0 \nL 581 3500 \nL 1159 3500 \nL 1159 2956 \nQ 1341 3275 1631 3429 \nQ 1922 3584 2338 3584 \nQ 2397 3584 2469 3576 \nQ 2541 3569 2628 3553 \nL 2631 2963 \nz\n\" transform=\"scale(0.015625)\"/>\n       <path id=\"DejaVuSans-61\" d=\"M 2194 1759 \nQ 1497 1759 1228 1600 \nQ 959 1441 959 1056 \nQ 959 750 1161 570 \nQ 1363 391 1709 391 \nQ 2188 391 2477 730 \nQ 2766 1069 2766 1631 \nL 2766 1759 \nL 2194 1759 \nz\nM 3341 1997 \nL 3341 0 \nL 2766 0 \nL 2766 531 \nQ 2569 213 2275 61 \nQ 1981 -91 1556 -91 \nQ 1019 -91 701 211 \nQ 384 513 384 1019 \nQ 384 1609 779 1909 \nQ 1175 2209 1959 2209 \nL 2766 2209 \nL 2766 2266 \nQ 2766 2663 2505 2880 \nQ 2244 3097 1772 3097 \nQ 1472 3097 1187 3025 \nQ 903 2953 641 2809 \nL 641 3341 \nQ 956 3463 1253 3523 \nQ 1550 3584 1831 3584 \nQ 2591 3584 2966 3190 \nQ 3341 2797 3341 1997 \nz\n\" transform=\"scale(0.015625)\"/>\n       <path id=\"DejaVuSans-69\" d=\"M 603 3500 \nL 1178 3500 \nL 1178 0 \nL 603 0 \nL 603 3500 \nz\nM 603 4863 \nL 1178 4863 \nL 1178 4134 \nL 603 4134 \nL 603 4863 \nz\n\" transform=\"scale(0.015625)\"/>\n       <path id=\"DejaVuSans-6e\" d=\"M 3513 2113 \nL 3513 0 \nL 2938 0 \nL 2938 2094 \nQ 2938 2591 2744 2837 \nQ 2550 3084 2163 3084 \nQ 1697 3084 1428 2787 \nQ 1159 2491 1159 1978 \nL 1159 0 \nL 581 0 \nL 581 3500 \nL 1159 3500 \nL 1159 2956 \nQ 1366 3272 1645 3428 \nQ 1925 3584 2291 3584 \nQ 2894 3584 3203 3211 \nQ 3513 2838 3513 2113 \nz\n\" transform=\"scale(0.015625)\"/>\n       <path id=\"DejaVuSans-20\" transform=\"scale(0.015625)\"/>\n       <path id=\"DejaVuSans-6c\" d=\"M 603 4863 \nL 1178 4863 \nL 1178 0 \nL 603 0 \nL 603 4863 \nz\n\" transform=\"scale(0.015625)\"/>\n       <path id=\"DejaVuSans-73\" d=\"M 2834 3397 \nL 2834 2853 \nQ 2591 2978 2328 3040 \nQ 2066 3103 1784 3103 \nQ 1356 3103 1142 2972 \nQ 928 2841 928 2578 \nQ 928 2378 1081 2264 \nQ 1234 2150 1697 2047 \nL 1894 2003 \nQ 2506 1872 2764 1633 \nQ 3022 1394 3022 966 \nQ 3022 478 2636 193 \nQ 2250 -91 1575 -91 \nQ 1294 -91 989 -36 \nQ 684 19 347 128 \nL 347 722 \nQ 666 556 975 473 \nQ 1284 391 1588 391 \nQ 1994 391 2212 530 \nQ 2431 669 2431 922 \nQ 2431 1156 2273 1281 \nQ 2116 1406 1581 1522 \nL 1381 1569 \nQ 847 1681 609 1914 \nQ 372 2147 372 2553 \nQ 372 3047 722 3315 \nQ 1072 3584 1716 3584 \nQ 2034 3584 2315 3537 \nQ 2597 3491 2834 3397 \nz\n\" transform=\"scale(0.015625)\"/>\n      </defs>\n      <use xlink:href=\"#DejaVuSans-74\"/>\n      <use xlink:href=\"#DejaVuSans-72\" x=\"39.208984\"/>\n      <use xlink:href=\"#DejaVuSans-61\" x=\"80.322266\"/>\n      <use xlink:href=\"#DejaVuSans-69\" x=\"141.601562\"/>\n      <use xlink:href=\"#DejaVuSans-6e\" x=\"169.384766\"/>\n      <use xlink:href=\"#DejaVuSans-20\" x=\"232.763672\"/>\n      <use xlink:href=\"#DejaVuSans-6c\" x=\"264.550781\"/>\n      <use xlink:href=\"#DejaVuSans-6f\" x=\"292.333984\"/>\n      <use xlink:href=\"#DejaVuSans-73\" x=\"353.515625\"/>\n      <use xlink:href=\"#DejaVuSans-73\" x=\"405.615234\"/>\n     </g>\n    </g>\n    <g id=\"line2d_21\">\n     <path d=\"M 142.634375 34.976562 \nL 152.634375 34.976562 \nL 162.634375 34.976562 \n\" style=\"fill: none; stroke-dasharray: 5.55,2.4; stroke-dashoffset: 0; stroke: #bf00bf; stroke-width: 1.5\"/>\n    </g>\n    <g id=\"text_11\">\n     <!-- train acc -->\n     <g transform=\"translate(170.634375 38.476562) scale(0.1 -0.1)\">\n      <use xlink:href=\"#DejaVuSans-74\"/>\n      <use xlink:href=\"#DejaVuSans-72\" x=\"39.208984\"/>\n      <use xlink:href=\"#DejaVuSans-61\" x=\"80.322266\"/>\n      <use xlink:href=\"#DejaVuSans-69\" x=\"141.601562\"/>\n      <use xlink:href=\"#DejaVuSans-6e\" x=\"169.384766\"/>\n      <use xlink:href=\"#DejaVuSans-20\" x=\"232.763672\"/>\n      <use xlink:href=\"#DejaVuSans-61\" x=\"264.550781\"/>\n      <use xlink:href=\"#DejaVuSans-63\" x=\"325.830078\"/>\n      <use xlink:href=\"#DejaVuSans-63\" x=\"380.810547\"/>\n     </g>\n    </g>\n   </g>\n  </g>\n </g>\n <defs>\n  <clipPath id=\"p4695e35bd0\">\n   <rect x=\"30.103125\" y=\"7.2\" width=\"195.3\" height=\"138.6\"/>\n  </clipPath>\n </defs>\n</svg>\n"
     },
     "metadata": {},
     "output_type": "display_data"
    }
   ],
   "source": [
    "\"\"\"对测试集进行分类并提交结果\"\"\"\n",
    "net, preds = get_net(), []\n",
    "train(net, train_valid_iter, None, num_epochs, lr, wd, devices, lr_period, lr_decay)"
   ],
   "metadata": {
    "collapsed": false,
    "pycharm": {
     "name": "#%%\n"
    }
   }
  },
  {
   "cell_type": "code",
   "execution_count": 26,
   "outputs": [
    {
     "data": {
      "text/plain": "[8, 4, 7, 6, 3]"
     },
     "execution_count": 26,
     "metadata": {},
     "output_type": "execute_result"
    }
   ],
   "source": [
    "for X, _ in test_iter:\n",
    "    y_hat = net(X.to(devices[0]))\n",
    "    preds.extend(y_hat.argmax(dim=1).type(torch.int32).cpu().numpy())\n",
    "preds"
   ],
   "metadata": {
    "collapsed": false,
    "pycharm": {
     "name": "#%%\n"
    }
   }
  },
  {
   "cell_type": "code",
   "execution_count": 28,
   "outputs": [
    {
     "data": {
      "text/plain": "[1, 2, 3, 4, 5]"
     },
     "execution_count": 28,
     "metadata": {},
     "output_type": "execute_result"
    }
   ],
   "source": [
    "sorted_ids = list(range(1, len(test_ds)+1))\n",
    "sorted_ids"
   ],
   "metadata": {
    "collapsed": false,
    "pycharm": {
     "name": "#%%\n"
    }
   }
  },
  {
   "cell_type": "code",
   "execution_count": 29,
   "outputs": [
    {
     "data": {
      "text/plain": "[1, 2, 3, 4, 5]"
     },
     "execution_count": 29,
     "metadata": {},
     "output_type": "execute_result"
    }
   ],
   "source": [
    "sorted_ids.sort(key=lambda x:str(x))\n",
    "sorted_ids"
   ],
   "metadata": {
    "collapsed": false,
    "pycharm": {
     "name": "#%%\n"
    }
   }
  },
  {
   "cell_type": "code",
   "execution_count": 30,
   "outputs": [
    {
     "data": {
      "text/plain": "   id  label\n0   1      8\n1   2      4\n2   3      7\n3   4      6\n4   5      3",
      "text/html": "<div>\n<style scoped>\n    .dataframe tbody tr th:only-of-type {\n        vertical-align: middle;\n    }\n\n    .dataframe tbody tr th {\n        vertical-align: top;\n    }\n\n    .dataframe thead th {\n        text-align: right;\n    }\n</style>\n<table border=\"1\" class=\"dataframe\">\n  <thead>\n    <tr style=\"text-align: right;\">\n      <th></th>\n      <th>id</th>\n      <th>label</th>\n    </tr>\n  </thead>\n  <tbody>\n    <tr>\n      <th>0</th>\n      <td>1</td>\n      <td>8</td>\n    </tr>\n    <tr>\n      <th>1</th>\n      <td>2</td>\n      <td>4</td>\n    </tr>\n    <tr>\n      <th>2</th>\n      <td>3</td>\n      <td>7</td>\n    </tr>\n    <tr>\n      <th>3</th>\n      <td>4</td>\n      <td>6</td>\n    </tr>\n    <tr>\n      <th>4</th>\n      <td>5</td>\n      <td>3</td>\n    </tr>\n  </tbody>\n</table>\n</div>"
     },
     "execution_count": 30,
     "metadata": {},
     "output_type": "execute_result"
    }
   ],
   "source": [
    "df = pd.DataFrame({'id':sorted_ids, 'label':preds})\n",
    "df"
   ],
   "metadata": {
    "collapsed": false,
    "pycharm": {
     "name": "#%%\n"
    }
   }
  },
  {
   "cell_type": "code",
   "execution_count": 31,
   "outputs": [
    {
     "data": {
      "text/plain": "   id  label\n0   1   ship\n1   2   deer\n2   3  horse\n3   4   frog\n4   5    cat",
      "text/html": "<div>\n<style scoped>\n    .dataframe tbody tr th:only-of-type {\n        vertical-align: middle;\n    }\n\n    .dataframe tbody tr th {\n        vertical-align: top;\n    }\n\n    .dataframe thead th {\n        text-align: right;\n    }\n</style>\n<table border=\"1\" class=\"dataframe\">\n  <thead>\n    <tr style=\"text-align: right;\">\n      <th></th>\n      <th>id</th>\n      <th>label</th>\n    </tr>\n  </thead>\n  <tbody>\n    <tr>\n      <th>0</th>\n      <td>1</td>\n      <td>ship</td>\n    </tr>\n    <tr>\n      <th>1</th>\n      <td>2</td>\n      <td>deer</td>\n    </tr>\n    <tr>\n      <th>2</th>\n      <td>3</td>\n      <td>horse</td>\n    </tr>\n    <tr>\n      <th>3</th>\n      <td>4</td>\n      <td>frog</td>\n    </tr>\n    <tr>\n      <th>4</th>\n      <td>5</td>\n      <td>cat</td>\n    </tr>\n  </tbody>\n</table>\n</div>"
     },
     "execution_count": 31,
     "metadata": {},
     "output_type": "execute_result"
    }
   ],
   "source": [
    "df['label'] = df['label'].apply(lambda x:train_valid_ds.classes[x])\n",
    "df"
   ],
   "metadata": {
    "collapsed": false,
    "pycharm": {
     "name": "#%%\n"
    }
   }
  },
  {
   "cell_type": "code",
   "execution_count": null,
   "outputs": [],
   "source": [
    "df.to_csv('../results/CIFAR10(LiMu).csv', index=False)"
   ],
   "metadata": {
    "collapsed": false,
    "pycharm": {
     "name": "#%%\n"
    }
   }
  },
  {
   "cell_type": "code",
   "execution_count": 33,
   "outputs": [
    {
     "data": {
      "text/plain": "['airplane',\n 'automobile',\n 'bird',\n 'cat',\n 'deer',\n 'dog',\n 'frog',\n 'horse',\n 'ship',\n 'truck']"
     },
     "execution_count": 33,
     "metadata": {},
     "output_type": "execute_result"
    }
   ],
   "source": [
    "train_valid_ds.classes[:]"
   ],
   "metadata": {
    "collapsed": false,
    "pycharm": {
     "name": "#%%\n"
    }
   }
  },
  {
   "cell_type": "code",
   "execution_count": 34,
   "outputs": [
    {
     "data": {
      "text/plain": "Dataset ImageFolder\n    Number of datapoints: 1000\n    Root location: ..\\data\\kaggle_cifar10_tiny\\train_valid_test\\train_valid\n    StandardTransform\nTransform: Compose(\n               Resize(size=40, interpolation=bilinear, max_size=None, antialias=None)\n               RandomResizedCrop(size=(32, 32), scale=(0.64, 1.0), ratio=(1.0, 1.0), interpolation=bilinear)\n               RandomHorizontalFlip(p=0.5)\n               ToTensor()\n               Normalize(mean=[0.4914, 0.4822, 0.4465], std=[0.2023, 0.1994, 0.201])\n           )"
     },
     "execution_count": 34,
     "metadata": {},
     "output_type": "execute_result"
    }
   ],
   "source": [
    "train_valid_ds"
   ],
   "metadata": {
    "collapsed": false,
    "pycharm": {
     "name": "#%%\n"
    }
   }
  },
  {
   "cell_type": "code",
   "execution_count": null,
   "outputs": [],
   "source": [],
   "metadata": {
    "collapsed": false,
    "pycharm": {
     "name": "#%%\n"
    }
   }
  }
 ],
 "metadata": {
  "kernelspec": {
   "display_name": "Python 3",
   "language": "python",
   "name": "python3"
  },
  "language_info": {
   "codemirror_mode": {
    "name": "ipython",
    "version": 2
   },
   "file_extension": ".py",
   "mimetype": "text/x-python",
   "name": "python",
   "nbconvert_exporter": "python",
   "pygments_lexer": "ipython2",
   "version": "2.7.6"
  }
 },
 "nbformat": 4,
 "nbformat_minor": 0
}