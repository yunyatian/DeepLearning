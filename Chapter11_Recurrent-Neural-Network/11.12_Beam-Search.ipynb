{
 "cells": [
  {
   "cell_type": "markdown",
   "source": [
    "### 贪心搜索\n",
    "> * 在seq2seq中使用了贪心搜索来预测序列，但贪心很可能不是最优的\n",
    ">> * 贪心搜索时间当前时刻预测概率最大的词输出"
   ],
   "metadata": {
    "collapsed": false,
    "pycharm": {
     "name": "#%% md\n"
    }
   }
  },
  {
   "cell_type": "markdown",
   "source": [
    "### 穷举搜索\n",
    "> * 最优算法：对所有可能的序列，计算它的概率，然后选取最好的那个\n",
    "> * 如果出处字典大小为$n$，序列最长为$T$,那么需要考察$n^T$个序列\n",
    ">> * 计算上不可行"
   ],
   "metadata": {
    "collapsed": false,
    "pycharm": {
     "name": "#%% md\n"
    }
   }
  },
  {
   "cell_type": "markdown",
   "source": [
    "### 束搜索\n",
    "> * 保存最好的$k$个候选\n",
    "> * 在每个时刻，对每个候选新加一项（$n$种可能），在$kn$个选项中选出最好的$k$个,是上一时间的$k$个候选产生的所有$kn$个选项中选取$k$个\n",
    "> ![](../images/Beam-Search.png)\n",
    "> * 时间复杂度为$O(knT)$\n",
    "> * 每个候选的最终分数为：$\\frac{1}{L^\\alpha}log p(y_1,...,y_L)=\\frac{1}{L^\\alpha}\\sum_{t' =1}^{L}log p(y_{t^'}|y_1,...,y_{t^'-1})$\n",
    ">> * 通常$\\alpha=0.75,L$是最终候选序列的长度，$\\frac{1}{L^\\alpha}$在整个式子中可以算是对长序列的奖励"
   ],
   "metadata": {
    "collapsed": false,
    "pycharm": {
     "name": "#%% md\n"
    }
   }
  },
  {
   "cell_type": "code",
   "execution_count": null,
   "outputs": [],
   "source": [],
   "metadata": {
    "collapsed": false,
    "pycharm": {
     "name": "#%%\n"
    }
   }
  }
 ],
 "metadata": {
  "kernelspec": {
   "display_name": "Python 3",
   "language": "python",
   "name": "python3"
  },
  "language_info": {
   "codemirror_mode": {
    "name": "ipython",
    "version": 2
   },
   "file_extension": ".py",
   "mimetype": "text/x-python",
   "name": "python",
   "nbconvert_exporter": "python",
   "pygments_lexer": "ipython2",
   "version": "2.7.6"
  }
 },
 "nbformat": 4,
 "nbformat_minor": 0
}