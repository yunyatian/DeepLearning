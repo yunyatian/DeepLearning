{
 "cells": [
  {
   "cell_type": "markdown",
   "source": [
    "### 提升CPU利用率I\n",
    "> * 在计算a+b之前，需要准备数据\n",
    ">> * 主内存 -> L3 -> L2 -> L1 -> 寄存器\n",
    ">>> * L1访问延时：0.5ns\n",
    ">>> * L2访问延时：7ns(14*L1)\n",
    ">>> * 主内存访问延时：100ns(200*L1)\n",
    "> * 提升空间和时间的内存本地性\n",
    ">> * 时间：重用数据使得保持它们在缓存里\n",
    ">> * 空间：按序读写数据使得可以预读取"
   ],
   "metadata": {
    "collapsed": false,
    "pycharm": {
     "name": "#%% md\n"
    }
   }
  },
  {
   "cell_type": "markdown",
   "source": [
    "### 提升CPU利用率II\n",
    "> * 高端CPU有几十个核\n",
    "> * 并行起来利用所有核\n",
    ">> * 超线程不一定提升性能， 因为它们共享寄存器"
   ],
   "metadata": {
    "collapsed": false,
    "pycharm": {
     "name": "#%% md\n"
    }
   }
  },
  {
   "cell_type": "markdown",
   "source": [
    "### CPU vs GPU (一般/ 高端)\n",
    "![](../images/CPUvsGPU.png)"
   ],
   "metadata": {
    "collapsed": false,
    "pycharm": {
     "name": "#%% md\n"
    }
   }
  },
  {
   "cell_type": "markdown",
   "source": [
    "### 提升GPU利用率\n",
    "> * 并行\n",
    ">> * 使用数千线程\n",
    "> * 内存本地性\n",
    ">> * 缓存更小，架构更简单\n",
    "> * 少用控制语句\n",
    ">> * 支持有限\n",
    ">> * 同步开销大"
   ],
   "metadata": {
    "collapsed": false,
    "pycharm": {
     "name": "#%% md\n"
    }
   }
  },
  {
   "cell_type": "markdown",
   "source": [
    "### CPU/GPU宽带\n",
    "> * 不要频繁在CPU和GPU之间传数据：带宽限制，同步开销"
   ],
   "metadata": {
    "collapsed": false,
    "pycharm": {
     "name": "#%% md\n"
    }
   }
  },
  {
   "cell_type": "markdown",
   "source": [
    "### CPU/GPU高性能计算编程\n",
    "> * CPU：C++或者任何高性能语言\n",
    ">> * 编译器成熟\n",
    "> * GPU\n",
    ">> * NVIDIA上使用CUDA\n",
    ">>> * 编译器和驱动成熟\n",
    ">> * 其他用OpenCL\n",
    ">>> * 质量取决于硬件厂商"
   ],
   "metadata": {
    "collapsed": false,
    "pycharm": {
     "name": "#%% md\n"
    }
   }
  },
  {
   "cell_type": "markdown",
   "source": [
    "### 总结\n",
    "> * CPU：可以处理通用计算。性能优化考虑数据读写效率和多线程\n",
    "> * GPU：使用更多的小核和更好的内存带宽，适合能大规模并行的计算任务"
   ],
   "metadata": {
    "collapsed": false,
    "pycharm": {
     "name": "#%% md\n"
    }
   }
  },
  {
   "cell_type": "code",
   "execution_count": null,
   "outputs": [],
   "source": [],
   "metadata": {
    "collapsed": false,
    "pycharm": {
     "name": "#%%\n"
    }
   }
  }
 ],
 "metadata": {
  "kernelspec": {
   "display_name": "Python 3",
   "language": "python",
   "name": "python3"
  },
  "language_info": {
   "codemirror_mode": {
    "name": "ipython",
    "version": 2
   },
   "file_extension": ".py",
   "mimetype": "text/x-python",
   "name": "python",
   "nbconvert_exporter": "python",
   "pygments_lexer": "ipython2",
   "version": "2.7.6"
  }
 },
 "nbformat": 4,
 "nbformat_minor": 0
}