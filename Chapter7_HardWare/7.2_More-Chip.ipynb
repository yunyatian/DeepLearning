{
 "cells": [
  {
   "cell_type": "markdown",
   "source": [
    "### DSP:数字信号处理\n",
    "> * 为数字图像处理算法设计：点积，卷积，FFT（快速傅里叶变换）\n",
    "> * 低功耗，高性能\n",
    ">> * 比移动GPU快5倍，功耗更低\n",
    "> * VLIW：Very long instruction word\n",
    ">> * 一条指令计算上百次乘累加\n",
    "> * 编程和调试困难\n",
    "> * 编译器质量良莠不齐"
   ],
   "metadata": {
    "collapsed": false,
    "pycharm": {
     "name": "#%% md\n"
    }
   }
  },
  {
   "cell_type": "markdown",
   "source": [
    "### 可编程阵列（FPGA）\n",
    "> * 有大量可以编程逻辑单元和可配置的连接\n",
    "> * 可以配置程计算复杂函数\n",
    ">> * 编程语言：VHDL，Verilog\n",
    "> * 通常比通用硬件更高效\n",
    "> * 工具链质量良莠不齐\n",
    "> * 一次“编译”需要数个小时"
   ],
   "metadata": {
    "collapsed": false,
    "pycharm": {
     "name": "#%% md\n"
    }
   }
  },
  {
   "cell_type": "markdown",
   "source": [
    "### AI ASIC\n",
    "> * 深度学习的热门领域\n",
    ">> * 大公司都在造自己的芯片（Intel，Qualcomm，Google， Amazon，Facebook，......）\n",
    "> * Google TPU是标志性芯片\n",
    ">> * 能够媲美Nvidia GPU性能\n",
    ">> * 在Google大量部署\n",
    ">> * 核心是systolic array"
   ],
   "metadata": {
    "collapsed": false,
    "pycharm": {
     "name": "#%% md\n"
    }
   }
  },
  {
   "cell_type": "markdown",
   "source": [
    "### Systolic Array\n",
    "> * 计算单元(PE)阵列\n",
    "> * 特别适合做矩阵乘法\n",
    "> * 设计和制造相对简单\n",
    "\n",
    "![](../images/Systolic_Array.png)\n",
    "> * 对于一般的矩阵乘法，通过切开和填充来匹配SA大小\n",
    "> * 批量输入来降低延时\n",
    "> * 通常有其他硬件单元来处理别的NN操作子，例如激活层"
   ],
   "metadata": {
    "collapsed": false,
    "pycharm": {
     "name": "#%% md\n"
    }
   }
  },
  {
   "cell_type": "markdown",
   "source": [],
   "metadata": {
    "collapsed": false,
    "pycharm": {
     "name": "#%% md\n"
    }
   }
  }
 ],
 "metadata": {
  "kernelspec": {
   "display_name": "Python 3",
   "language": "python",
   "name": "python3"
  },
  "language_info": {
   "codemirror_mode": {
    "name": "ipython",
    "version": 2
   },
   "file_extension": ".py",
   "mimetype": "text/x-python",
   "name": "python",
   "nbconvert_exporter": "python",
   "pygments_lexer": "ipython2",
   "version": "2.7.6"
  }
 },
 "nbformat": 4,
 "nbformat_minor": 0
}