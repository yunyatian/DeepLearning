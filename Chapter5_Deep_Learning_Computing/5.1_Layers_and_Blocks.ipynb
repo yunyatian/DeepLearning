{
 "nbformat": 4,
 "nbformat_minor": 0,
 "metadata": {
  "colab": {
   "provenance": [],
   "authorship_tag": "ABX9TyMSD4GOcgYJQ5yhT0GEKnXW"
  },
  "kernelspec": {
   "name": "python3",
   "display_name": "Python 3"
  },
  "language_info": {
   "name": "python"
  },
  "gpuClass": "standard"
 },
 "cells": [
  {
   "cell_type": "code",
   "execution_count": 7,
   "metadata": {
    "colab": {
     "base_uri": "https://localhost:8080/"
    },
    "id": "-tPo3CY02O71",
    "executionInfo": {
     "status": "ok",
     "timestamp": 1678944640000,
     "user_tz": -480,
     "elapsed": 692,
     "user": {
      "displayName": "yatian yun",
      "userId": "14499165712729714688"
     }
    },
    "outputId": "c756da6c-3189-4409-8ece-7a113104f2ed",
    "pycharm": {
     "name": "#%%\n"
    }
   },
   "outputs": [
    {
     "output_type": "execute_result",
     "data": {
      "text/plain": [
       "tensor([[-0.0943,  0.2088,  0.0693,  0.0480, -0.1652,  0.0269,  0.1009, -0.0070,\n",
       "         -0.1562, -0.0351],\n",
       "        [-0.0926,  0.1489,  0.1189,  0.1877, -0.0198, -0.0379,  0.0344, -0.1002,\n",
       "         -0.1274,  0.0230]], grad_fn=<AddmmBackward0>)"
      ]
     },
     "metadata": {},
     "execution_count": 7
    }
   ],
   "source": [
    "\"\"\"多层感知机\"\"\"\n",
    "import torch\n",
    "from torch import nn\n",
    "from torch.nn import functional as F\n",
    "\n",
    "net = nn.Sequential(nn.Linear(20, 256), nn.ReLU(), nn.Linear(256, 10))\n",
    "\n",
    "X = torch.rand(2, 20)\n",
    "net(X)"
   ]
  },
  {
   "cell_type": "code",
   "source": [
    "\"\"\"自定义块\"\"\"\n",
    "class MLP(nn.Module):\n",
    "  def __init__(self):\n",
    "   super().__init__()\n",
    "   self.hidden = nn.Linear(20, 256)\n",
    "   self.out = nn.Linear(256, 10)\n",
    "\n",
    "  def forward(self, X):\n",
    "   return self.out(F.relu(self.hidden(X))) "
   ],
   "metadata": {
    "id": "tp4zRbyk3RqB",
    "executionInfo": {
     "status": "ok",
     "timestamp": 1678944601315,
     "user_tz": -480,
     "elapsed": 982,
     "user": {
      "displayName": "yatian yun",
      "userId": "14499165712729714688"
     }
    },
    "pycharm": {
     "name": "#%%\n"
    }
   },
   "execution_count": 5,
   "outputs": []
  },
  {
   "cell_type": "code",
   "source": [
    "\"\"\"实例化多层感知机的层，然后再每次调用正向传播函数时调用这些层\"\"\"\n",
    "net = MLP()\n",
    "net(X) ## python语法糖，net实际上调用了net.__call__()方法，而__call__()调用了forward（）"
   ],
   "metadata": {
    "colab": {
     "base_uri": "https://localhost:8080/"
    },
    "id": "dS3wskNY4ftn",
    "executionInfo": {
     "status": "ok",
     "timestamp": 1678944644271,
     "user_tz": -480,
     "elapsed": 529,
     "user": {
      "displayName": "yatian yun",
      "userId": "14499165712729714688"
     }
    },
    "outputId": "2a90ef88-d40b-4257-8104-12c91579164e",
    "pycharm": {
     "name": "#%%\n"
    }
   },
   "execution_count": 8,
   "outputs": [
    {
     "output_type": "execute_result",
     "data": {
      "text/plain": [
       "tensor([[-0.1041, -0.0833, -0.0232,  0.0491, -0.3226, -0.1230,  0.1440,  0.0560,\n",
       "         -0.1342, -0.0602],\n",
       "        [-0.0658, -0.1549, -0.0260,  0.0518, -0.2402, -0.1128,  0.0375,  0.0902,\n",
       "         -0.1117, -0.0742]], grad_fn=<AddmmBackward0>)"
      ]
     },
     "metadata": {},
     "execution_count": 8
    }
   ]
  },
  {
   "cell_type": "code",
   "source": [
    "\"\"\"顺序块\"\"\"\n",
    "class MySequential(nn.Module):\n",
    "  def __init__(self, *args):\n",
    "    super().__init__()\n",
    "    for block in args:\n",
    "      self._modules[block] = block\n",
    "\n",
    "  def forward(self, X):\n",
    "    for block in self._modules.values():\n",
    "      X = block(X)\n",
    "    return X\n",
    "\n",
    "net = MySequential(nn.Linear(20, 256), nn.ReLU(), nn.Linear(256, 10))\n",
    "net(X)"
   ],
   "metadata": {
    "colab": {
     "base_uri": "https://localhost:8080/"
    },
    "id": "92_U4bG65vnk",
    "executionInfo": {
     "status": "ok",
     "timestamp": 1678945143667,
     "user_tz": -480,
     "elapsed": 412,
     "user": {
      "displayName": "yatian yun",
      "userId": "14499165712729714688"
     }
    },
    "outputId": "a08fd58b-4f74-4d95-ca89-5c908bf455e7",
    "pycharm": {
     "name": "#%%\n"
    }
   },
   "execution_count": 9,
   "outputs": [
    {
     "output_type": "execute_result",
     "data": {
      "text/plain": [
       "tensor([[ 0.0286, -0.0107,  0.0640,  0.0506,  0.1969, -0.0147,  0.1441,  0.0127,\n",
       "         -0.1519,  0.1404],\n",
       "        [-0.0264, -0.1142,  0.0057,  0.0882,  0.1192, -0.1239, -0.0300,  0.0339,\n",
       "         -0.1740,  0.1343]], grad_fn=<AddmmBackward0>)"
      ]
     },
     "metadata": {},
     "execution_count": 9
    }
   ]
  },
  {
   "cell_type": "code",
   "source": [
    "\"\"\"在正向传播函数中执行代码\"\"\"\n",
    "class FixedHiddenMLP(nn.Module):\n",
    "  def __init__(self):\n",
    "    super().__init__()\n",
    "    self.rand_weight = torch.rand((20,20), requires_grad=False)\n",
    "    self.linear = nn.Linear(20, 20)\n",
    "\n",
    "  def forward(self, X):\n",
    "    X = self.linear(X)\n",
    "    X = F.relu(torch.mm(X, self.rand_weight) + 1)\n",
    "    X = self.linear(X)\n",
    "    while X.abs().sum() > 1:\n",
    "      X /= 2\n",
    "    return X.sum()\n",
    "\n",
    "net = FixedHiddenMLP()\n",
    "net(X)"
   ],
   "metadata": {
    "colab": {
     "base_uri": "https://localhost:8080/"
    },
    "id": "eEQoy2c670td",
    "executionInfo": {
     "status": "ok",
     "timestamp": 1678945644912,
     "user_tz": -480,
     "elapsed": 917,
     "user": {
      "displayName": "yatian yun",
      "userId": "14499165712729714688"
     }
    },
    "outputId": "d8ff94c7-644a-49be-f4c1-34c1b1e44dd3",
    "pycharm": {
     "name": "#%%\n"
    }
   },
   "execution_count": 10,
   "outputs": [
    {
     "output_type": "execute_result",
     "data": {
      "text/plain": [
       "tensor(0.0749, grad_fn=<SumBackward0>)"
      ]
     },
     "metadata": {},
     "execution_count": 10
    }
   ]
  },
  {
   "cell_type": "code",
   "source": [
    "\"\"\"混合搭配各种组合的方法\"\"\"\n",
    "class NestMLP(nn.Module):\n",
    "  def __init__(self):\n",
    "    super().__init__()\n",
    "    self.net = nn.Sequential(nn.Linear(20, 64), nn.ReLU(),\n",
    "                  nn.Linear(64, 32), nn.ReLU())\n",
    "    self.linear = nn.Linear(32, 16)\n",
    "\n",
    "  def forward(self, X):\n",
    "    return self.linear(self.net(X))\n",
    "\n",
    "chimera = nn.Sequential(NestMLP(), nn.Linear(16, 20), FixedHiddenMLP())\n",
    "chimera(X)"
   ],
   "metadata": {
    "colab": {
     "base_uri": "https://localhost:8080/"
    },
    "id": "NInoaQQi_Tgw",
    "executionInfo": {
     "status": "ok",
     "timestamp": 1678946663476,
     "user_tz": -480,
     "elapsed": 999,
     "user": {
      "displayName": "yatian yun",
      "userId": "14499165712729714688"
     }
    },
    "outputId": "bdace317-da1a-44b5-9f03-7255950e4f41",
    "pycharm": {
     "name": "#%%\n"
    }
   },
   "execution_count": 12,
   "outputs": [
    {
     "output_type": "execute_result",
     "data": {
      "text/plain": [
       "tensor(0.1777, grad_fn=<SumBackward0>)"
      ]
     },
     "metadata": {},
     "execution_count": 12
    }
   ]
  }
 ]
}