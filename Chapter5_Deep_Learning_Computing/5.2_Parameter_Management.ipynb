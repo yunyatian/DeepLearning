{
 "nbformat": 4,
 "nbformat_minor": 0,
 "metadata": {
  "colab": {
   "provenance": [],
   "authorship_tag": "ABX9TyOaEylPcmcM/cKzAKSKlxlI"
  },
  "kernelspec": {
   "name": "python3",
   "display_name": "Python 3"
  },
  "language_info": {
   "name": "python"
  }
 },
 "cells": [
  {
   "cell_type": "code",
   "execution_count": 1,
   "metadata": {
    "colab": {
     "base_uri": "https://localhost:8080/"
    },
    "id": "aBTUtqwICZ9z",
    "executionInfo": {
     "status": "ok",
     "timestamp": 1678947119817,
     "user_tz": -480,
     "elapsed": 5174,
     "user": {
      "displayName": "yatian yun",
      "userId": "14499165712729714688"
     }
    },
    "outputId": "e07540bb-1ecc-48dd-85e3-056f4f422726",
    "pycharm": {
     "name": "#%%\n"
    }
   },
   "outputs": [
    {
     "output_type": "execute_result",
     "data": {
      "text/plain": [
       "tensor([[-0.1429],\n",
       "        [-0.0247]], grad_fn=<AddmmBackward0>)"
      ]
     },
     "metadata": {},
     "execution_count": 1
    }
   ],
   "source": [
    "import torch\n",
    "from torch import nn\n",
    "\n",
    "net = nn.Sequential(nn.Linear(4, 8), nn.ReLU(), nn.Linear(8, 1))\n",
    "X = torch.rand(size=(2, 4))\n",
    "net(X)"
   ]
  },
  {
   "cell_type": "code",
   "source": [
    "\"\"\"参数访问\"\"\"\n",
    "print(net[2].state_dict()) ## net[i]拿到的是对应序列i的模块block"
   ],
   "metadata": {
    "colab": {
     "base_uri": "https://localhost:8080/"
    },
    "id": "6LzSnYlEDIyN",
    "executionInfo": {
     "status": "ok",
     "timestamp": 1678947194572,
     "user_tz": -480,
     "elapsed": 301,
     "user": {
      "displayName": "yatian yun",
      "userId": "14499165712729714688"
     }
    },
    "outputId": "c6ea4f78-9536-4d2d-c0ac-022f077113e0",
    "pycharm": {
     "name": "#%%\n"
    }
   },
   "execution_count": 2,
   "outputs": [
    {
     "output_type": "stream",
     "name": "stdout",
     "text": [
      "OrderedDict([('weight', tensor([[ 0.3316, -0.0687, -0.1680, -0.2119,  0.3420, -0.0318, -0.2327,  0.2489]])), ('bias', tensor([-0.0736]))])\n"
     ]
    }
   ]
  },
  {
   "cell_type": "code",
   "source": [
    "\"\"\"目标参数\"\"\"\n",
    "print(type(net[2].bias))\n",
    "print(net[2].bias)\n",
    "print(net[2].bias.data)"
   ],
   "metadata": {
    "colab": {
     "base_uri": "https://localhost:8080/"
    },
    "id": "IaZZROp2D48W",
    "executionInfo": {
     "status": "ok",
     "timestamp": 1678947416670,
     "user_tz": -480,
     "elapsed": 5,
     "user": {
      "displayName": "yatian yun",
      "userId": "14499165712729714688"
     }
    },
    "outputId": "6e4a64f6-97e8-48ea-f9d2-a8b0d22cd1e4",
    "pycharm": {
     "name": "#%%\n"
    }
   },
   "execution_count": 3,
   "outputs": [
    {
     "output_type": "stream",
     "name": "stdout",
     "text": [
      "<class 'torch.nn.parameter.Parameter'>\n",
      "Parameter containing:\n",
      "tensor([-0.0736], requires_grad=True)\n",
      "tensor([-0.0736])\n"
     ]
    }
   ]
  },
  {
   "cell_type": "code",
   "source": [
    "net[2].weight.grad == None"
   ],
   "metadata": {
    "colab": {
     "base_uri": "https://localhost:8080/"
    },
    "id": "z7D9nIHxESQY",
    "executionInfo": {
     "status": "ok",
     "timestamp": 1678947482155,
     "user_tz": -480,
     "elapsed": 367,
     "user": {
      "displayName": "yatian yun",
      "userId": "14499165712729714688"
     }
    },
    "outputId": "a6f962e3-7c1f-4b14-a480-10283f48ba0e",
    "pycharm": {
     "name": "#%%\n"
    }
   },
   "execution_count": 4,
   "outputs": [
    {
     "output_type": "execute_result",
     "data": {
      "text/plain": [
       "True"
      ]
     },
     "metadata": {},
     "execution_count": 4
    }
   ]
  },
  {
   "cell_type": "code",
   "source": [
    "\"\"\"一次性访问所有参数\"\"\"\n",
    "print(*[(name, param.shape, param.data) for name, param in net[0].named_parameters()])\n",
    "print(*[(name, param.shape) for name, param in net.named_parameters()])\n",
    "net[0].named_parameters()"
   ],
   "metadata": {
    "colab": {
     "base_uri": "https://localhost:8080/"
    },
    "id": "PfM-JYDnEcTL",
    "executionInfo": {
     "status": "ok",
     "timestamp": 1678950996380,
     "user_tz": -480,
     "elapsed": 4,
     "user": {
      "displayName": "yatian yun",
      "userId": "14499165712729714688"
     }
    },
    "outputId": "6960b3cf-664d-427f-8dea-2bb78475d93d",
    "pycharm": {
     "name": "#%%\n"
    }
   },
   "execution_count": 35,
   "outputs": [
    {
     "output_type": "stream",
     "name": "stdout",
     "text": [
      "('weight', torch.Size([8, 4]), tensor([[-0.5752,  0.3208,  0.3112,  0.0353],\n",
      "        [ 0.1366,  0.3840, -0.7018,  0.4492],\n",
      "        [ 0.3155, -0.1341, -0.3769,  0.5234],\n",
      "        [ 0.0316, -0.3087,  0.1451, -0.6890],\n",
      "        [-0.2893, -0.2196,  0.5288, -0.0881],\n",
      "        [ 0.4657, -0.0887,  0.1366,  0.4966],\n",
      "        [-0.2594, -0.1668,  0.6835, -0.1681],\n",
      "        [-0.5482, -0.0947,  0.4899,  0.0138]])) ('bias', torch.Size([8]), tensor([0., 0., 0., 0., 0., 0., 0., 0.]))\n",
      "('0.weight', torch.Size([8, 4])) ('0.bias', torch.Size([8])) ('2.weight', torch.Size([1, 8])) ('2.bias', torch.Size([1]))\n"
     ]
    },
    {
     "output_type": "execute_result",
     "data": {
      "text/plain": [
       "<generator object Module.named_parameters at 0x7facac3afb30>"
      ]
     },
     "metadata": {},
     "execution_count": 35
    }
   ]
  },
  {
   "cell_type": "code",
   "source": [
    "net.state_dict()['2.bias'].data"
   ],
   "metadata": {
    "colab": {
     "base_uri": "https://localhost:8080/"
    },
    "id": "6is2SBv7FMJq",
    "executionInfo": {
     "status": "ok",
     "timestamp": 1678947728217,
     "user_tz": -480,
     "elapsed": 305,
     "user": {
      "displayName": "yatian yun",
      "userId": "14499165712729714688"
     }
    },
    "outputId": "acc01cf2-7d27-4043-e5bf-8eb019a5c37b",
    "pycharm": {
     "name": "#%%\n"
    }
   },
   "execution_count": 6,
   "outputs": [
    {
     "output_type": "execute_result",
     "data": {
      "text/plain": [
       "tensor([-0.0736])"
      ]
     },
     "metadata": {},
     "execution_count": 6
    }
   ]
  },
  {
   "cell_type": "code",
   "source": [
    "\"\"\"从嵌套块手机参数\"\"\"\n",
    "def block1():\n",
    "  return nn.Sequential(nn.Linear(4, 8), nn.ReLU(), nn.Linear(8, 4), nn.ReLU())\n",
    "\n",
    "def block2():\n",
    "  net = nn.Sequential()\n",
    "  for i in range(4):\n",
    "    net.add_module(f'block {i}', block1())\n",
    "  return net\n",
    "\n",
    "rgnet = nn.Sequential(block2(), nn.Linear(4, 1))\n",
    "rgnet(X)"
   ],
   "metadata": {
    "colab": {
     "base_uri": "https://localhost:8080/"
    },
    "id": "REi0RULkGFVq",
    "executionInfo": {
     "status": "ok",
     "timestamp": 1678948202902,
     "user_tz": -480,
     "elapsed": 355,
     "user": {
      "displayName": "yatian yun",
      "userId": "14499165712729714688"
     }
    },
    "outputId": "f9f0e5f7-77e3-4396-8332-dae7deda1a5f",
    "pycharm": {
     "name": "#%%\n"
    }
   },
   "execution_count": 14,
   "outputs": [
    {
     "output_type": "execute_result",
     "data": {
      "text/plain": [
       "tensor([[0.3375],\n",
       "        [0.3375]], grad_fn=<AddmmBackward0>)"
      ]
     },
     "metadata": {},
     "execution_count": 14
    }
   ]
  },
  {
   "cell_type": "code",
   "source": [
    "print(rgnet)"
   ],
   "metadata": {
    "colab": {
     "base_uri": "https://localhost:8080/"
    },
    "id": "OhtT9OLqHS_n",
    "executionInfo": {
     "status": "ok",
     "timestamp": 1678948274956,
     "user_tz": -480,
     "elapsed": 2,
     "user": {
      "displayName": "yatian yun",
      "userId": "14499165712729714688"
     }
    },
    "outputId": "5335f3cc-3087-4b87-effc-d24248f8bfe2",
    "pycharm": {
     "name": "#%%\n"
    }
   },
   "execution_count": 15,
   "outputs": [
    {
     "output_type": "stream",
     "name": "stdout",
     "text": [
      "Sequential(\n",
      "  (0): Sequential(\n",
      "    (block 0): Sequential(\n",
      "      (0): Linear(in_features=4, out_features=8, bias=True)\n",
      "      (1): ReLU()\n",
      "      (2): Linear(in_features=8, out_features=4, bias=True)\n",
      "      (3): ReLU()\n",
      "    )\n",
      "    (block 1): Sequential(\n",
      "      (0): Linear(in_features=4, out_features=8, bias=True)\n",
      "      (1): ReLU()\n",
      "      (2): Linear(in_features=8, out_features=4, bias=True)\n",
      "      (3): ReLU()\n",
      "    )\n",
      "    (block 2): Sequential(\n",
      "      (0): Linear(in_features=4, out_features=8, bias=True)\n",
      "      (1): ReLU()\n",
      "      (2): Linear(in_features=8, out_features=4, bias=True)\n",
      "      (3): ReLU()\n",
      "    )\n",
      "    (block 3): Sequential(\n",
      "      (0): Linear(in_features=4, out_features=8, bias=True)\n",
      "      (1): ReLU()\n",
      "      (2): Linear(in_features=8, out_features=4, bias=True)\n",
      "      (3): ReLU()\n",
      "    )\n",
      "  )\n",
      "  (1): Linear(in_features=4, out_features=1, bias=True)\n",
      ")\n"
     ]
    }
   ]
  },
  {
   "cell_type": "code",
   "source": [
    "rgnet[0][0][2].weight.data"
   ],
   "metadata": {
    "colab": {
     "base_uri": "https://localhost:8080/"
    },
    "id": "uMhFJK-8HjrN",
    "executionInfo": {
     "status": "ok",
     "timestamp": 1678948416753,
     "user_tz": -480,
     "elapsed": 2,
     "user": {
      "displayName": "yatian yun",
      "userId": "14499165712729714688"
     }
    },
    "outputId": "33c757ce-bbec-47b5-b579-3c4da84b5ba1",
    "pycharm": {
     "name": "#%%\n"
    }
   },
   "execution_count": 21,
   "outputs": [
    {
     "output_type": "execute_result",
     "data": {
      "text/plain": [
       "tensor([[ 0.2371, -0.1546, -0.1348, -0.0928,  0.3040,  0.1513, -0.2240, -0.1547],\n",
       "        [-0.0568,  0.1286, -0.2953, -0.0942, -0.1726, -0.0738,  0.1667, -0.3012],\n",
       "        [-0.0322,  0.1578,  0.0162, -0.0721,  0.2224, -0.0513,  0.2186,  0.3337],\n",
       "        [-0.2613, -0.1571, -0.1570, -0.1131, -0.1295, -0.2694, -0.2706,  0.0908]])"
      ]
     },
     "metadata": {},
     "execution_count": 21
    }
   ]
  },
  {
   "cell_type": "code",
   "source": [
    "\"\"\"内置初始化\"\"\"\n",
    "def init_normal(m):\n",
    "  if type(m) == nn.Linear: ## 这里可以使用isinstance进行比较\n",
    "    nn.init.normal_(m.weight, mean=0, std=0.01)\n",
    "    nn.init.zeros_(m.bias)\n",
    "print(net[0].bias.shape)\n",
    "net.apply(init_normal)\n",
    "net[0].weight.data[0], net[0].bias.data[0]"
   ],
   "metadata": {
    "colab": {
     "base_uri": "https://localhost:8080/"
    },
    "id": "RIMn8bHkIE3e",
    "executionInfo": {
     "status": "ok",
     "timestamp": 1678948844997,
     "user_tz": -480,
     "elapsed": 333,
     "user": {
      "displayName": "yatian yun",
      "userId": "14499165712729714688"
     }
    },
    "outputId": "5aba6d19-b710-4971-8828-4454f33aff0e",
    "pycharm": {
     "name": "#%%\n"
    }
   },
   "execution_count": 24,
   "outputs": [
    {
     "output_type": "stream",
     "name": "stdout",
     "text": [
      "torch.Size([8])\n"
     ]
    },
    {
     "output_type": "execute_result",
     "data": {
      "text/plain": [
       "(tensor([ 0.0116,  0.0197, -0.0086, -0.0236]), tensor(0.))"
      ]
     },
     "metadata": {},
     "execution_count": 24
    }
   ]
  },
  {
   "cell_type": "code",
   "source": [
    "def init_constant(m):\n",
    "  if type(m) == nn.Linear:\n",
    "    nn.init.constant_(m.weight, 1)\n",
    "    nn.init.zeros_(m.bias)\n",
    "\n",
    "net.apply(init_constant)\n",
    "net[0].weight.data[0], net[0].bias.data[0]"
   ],
   "metadata": {
    "colab": {
     "base_uri": "https://localhost:8080/"
    },
    "id": "rxuVMso_J1Zj",
    "executionInfo": {
     "status": "ok",
     "timestamp": 1678949050475,
     "user_tz": -480,
     "elapsed": 3,
     "user": {
      "displayName": "yatian yun",
      "userId": "14499165712729714688"
     }
    },
    "outputId": "ad906e3c-06bd-4921-d878-dec3439ec809",
    "pycharm": {
     "name": "#%%\n"
    }
   },
   "execution_count": 26,
   "outputs": [
    {
     "output_type": "execute_result",
     "data": {
      "text/plain": [
       "(tensor([1., 1., 1., 1.]), tensor(0.))"
      ]
     },
     "metadata": {},
     "execution_count": 26
    }
   ]
  },
  {
   "cell_type": "code",
   "source": [
    "Y = torch.rand(3, 4)\n",
    "net(Y)\n",
    "net[0].bias.shape"
   ],
   "metadata": {
    "colab": {
     "base_uri": "https://localhost:8080/"
    },
    "id": "h5iqhXVWKY3Z",
    "executionInfo": {
     "status": "ok",
     "timestamp": 1678949122438,
     "user_tz": -480,
     "elapsed": 3,
     "user": {
      "displayName": "yatian yun",
      "userId": "14499165712729714688"
     }
    },
    "outputId": "1d5c5074-51b3-43d1-be7a-3dfaff98364e",
    "pycharm": {
     "name": "#%%\n"
    }
   },
   "execution_count": 27,
   "outputs": [
    {
     "output_type": "execute_result",
     "data": {
      "text/plain": [
       "torch.Size([8])"
      ]
     },
     "metadata": {},
     "execution_count": 27
    }
   ]
  },
  {
   "cell_type": "code",
   "source": [
    "w = torch.arange(4, dtype=torch.float32).reshape((2,2))\n",
    "x = torch.ones(2, 2, dtype=torch.float32)\n",
    "b = torch.tensor([1,1], dtype= torch.float32)\n",
    "w,x, torch.mm(w, x) + b"
   ],
   "metadata": {
    "colab": {
     "base_uri": "https://localhost:8080/"
    },
    "id": "PLwlZArBLKTv",
    "executionInfo": {
     "status": "ok",
     "timestamp": 1678949724069,
     "user_tz": -480,
     "elapsed": 3,
     "user": {
      "displayName": "yatian yun",
      "userId": "14499165712729714688"
     }
    },
    "outputId": "ddb1552b-7d7d-4277-8500-60d3c41a85be",
    "pycharm": {
     "name": "#%%\n"
    }
   },
   "execution_count": 33,
   "outputs": [
    {
     "output_type": "execute_result",
     "data": {
      "text/plain": [
       "(tensor([[0., 1.],\n",
       "         [2., 3.]]), tensor([[1., 1.],\n",
       "         [1., 1.]]), tensor([[2., 2.],\n",
       "         [6., 6.]]))"
      ]
     },
     "metadata": {},
     "execution_count": 33
    }
   ]
  },
  {
   "cell_type": "code",
   "source": [
    "\"\"\"对某些块应用不同的初始化方法\"\"\"\n",
    "def xavier(m):\n",
    "  if type(m) == nn.Linear:\n",
    "    nn.init.xavier_uniform_(m.weight)\n",
    "\n",
    "def init_42(m):\n",
    "  if type(m) == nn.Linear:\n",
    "    nn.init.constant_(m.weight, 42)\n",
    "\n",
    "net[0].apply(xavier)\n",
    "net[2].apply(init_42)\n",
    "print(net[0].weight.data[0])\n",
    "print(net[2].weight.data)"
   ],
   "metadata": {
    "colab": {
     "base_uri": "https://localhost:8080/"
    },
    "id": "W7R4CEXDPaOy",
    "executionInfo": {
     "status": "ok",
     "timestamp": 1678950622021,
     "user_tz": -480,
     "elapsed": 320,
     "user": {
      "displayName": "yatian yun",
      "userId": "14499165712729714688"
     }
    },
    "outputId": "14692c70-3295-44f2-ce91-d8d57906dbb9",
    "pycharm": {
     "name": "#%%\n"
    }
   },
   "execution_count": 34,
   "outputs": [
    {
     "output_type": "stream",
     "name": "stdout",
     "text": [
      "tensor([-0.5752,  0.3208,  0.3112,  0.0353])\n",
      "tensor([[42., 42., 42., 42., 42., 42., 42., 42.]])\n"
     ]
    }
   ]
  },
  {
   "cell_type": "code",
   "source": [
    "def my_init(m):\n",
    "  if type(m) == nn.Linear:\n",
    "    print('Init', *[(name, param.shape) for name, param in m.named_parameters()][0]) ## 这里0表示取weight，1表示取bias\n",
    "    nn.init.uniform_(m.weight, -10, 10)\n",
    "    m.weight.data *= m.weight.data.abs() >= 5 ## 将权重值不大于等于的5值置0\n",
    "\n",
    "net.apply(my_init)\n",
    "net[0].weight[:2]"
   ],
   "metadata": {
    "colab": {
     "base_uri": "https://localhost:8080/"
    },
    "id": "W91m9EKsRG3J",
    "executionInfo": {
     "status": "ok",
     "timestamp": 1678951319981,
     "user_tz": -480,
     "elapsed": 3,
     "user": {
      "displayName": "yatian yun",
      "userId": "14499165712729714688"
     }
    },
    "outputId": "77d01f15-d113-4c65-ecce-15f38d7880f7",
    "pycharm": {
     "name": "#%%\n"
    }
   },
   "execution_count": 41,
   "outputs": [
    {
     "output_type": "stream",
     "name": "stdout",
     "text": [
      "Init weight torch.Size([8, 4])\n",
      "Init weight torch.Size([1, 8])\n"
     ]
    },
    {
     "output_type": "execute_result",
     "data": {
      "text/plain": [
       "tensor([[ 8.1215, -0.0000, -0.0000, -7.2906],\n",
       "        [-0.0000, -0.0000,  7.3965, -0.0000]], grad_fn=<SliceBackward0>)"
      ]
     },
     "metadata": {},
     "execution_count": 41
    }
   ]
  },
  {
   "cell_type": "code",
   "source": [
    "net[0].weight.data[:] += 1\n",
    "net[0].weight.data[0, 0] = 42\n",
    "net[0].weight.data[0]"
   ],
   "metadata": {
    "colab": {
     "base_uri": "https://localhost:8080/"
    },
    "id": "tpTVmC1GTIds",
    "executionInfo": {
     "status": "ok",
     "timestamp": 1678951419837,
     "user_tz": -480,
     "elapsed": 628,
     "user": {
      "displayName": "yatian yun",
      "userId": "14499165712729714688"
     }
    },
    "outputId": "3e16143c-5bb8-4940-e207-f6a193f5906b",
    "pycharm": {
     "name": "#%%\n"
    }
   },
   "execution_count": 42,
   "outputs": [
    {
     "output_type": "execute_result",
     "data": {
      "text/plain": [
       "tensor([42.0000,  1.0000,  1.0000, -6.2906])"
      ]
     },
     "metadata": {},
     "execution_count": 42
    }
   ]
  },
  {
   "cell_type": "code",
   "source": [
    "\"\"\"参数绑定\"\"\"\n",
    "shared = nn.Linear(8, 8)\n",
    "net = nn.Sequential(nn.Linear(4, 8), nn.ReLU(), shared, nn.ReLU(), shared,\n",
    "           nn.ReLU(), nn.Linear(8, 1))\n",
    "net(X)\n",
    "print(net[2].weight.data[0] == net[4].weight.data[0])\n",
    "net[2].weight.data[0, 0] = 100\n",
    "print(net[2].weight.data[0] == net[4].weight.data[0])"
   ],
   "metadata": {
    "colab": {
     "base_uri": "https://localhost:8080/"
    },
    "id": "BmZq3jPATike",
    "executionInfo": {
     "status": "ok",
     "timestamp": 1678951707370,
     "user_tz": -480,
     "elapsed": 318,
     "user": {
      "displayName": "yatian yun",
      "userId": "14499165712729714688"
     }
    },
    "outputId": "2c012219-769e-41ab-d124-9fb561114de3",
    "pycharm": {
     "name": "#%%\n"
    }
   },
   "execution_count": 45,
   "outputs": [
    {
     "output_type": "stream",
     "name": "stdout",
     "text": [
      "tensor([True, True, True, True, True, True, True, True])\n",
      "tensor([True, True, True, True, True, True, True, True])\n"
     ]
    }
   ]
  }
 ]
}