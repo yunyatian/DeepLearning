{
 "nbformat": 4,
 "nbformat_minor": 0,
 "metadata": {
  "colab": {
   "provenance": [],
   "authorship_tag": "ABX9TyPtaKXoOxBmlQYpfY3MSVap"
  },
  "kernelspec": {
   "name": "python3",
   "display_name": "Python 3"
  },
  "language_info": {
   "name": "python"
  }
 },
 "cells": [
  {
   "cell_type": "code",
   "execution_count": 2,
   "metadata": {
    "colab": {
     "base_uri": "https://localhost:8080/"
    },
    "id": "O5_Kx0IWVTwq",
    "executionInfo": {
     "status": "ok",
     "timestamp": 1678952840062,
     "user_tz": -480,
     "elapsed": 340,
     "user": {
      "displayName": "yatian yun",
      "userId": "14499165712729714688"
     }
    },
    "outputId": "5caf85ee-7267-4925-86cc-3ccf2ed780b6",
    "pycharm": {
     "name": "#%%\n"
    }
   },
   "outputs": [
    {
     "output_type": "execute_result",
     "data": {
      "text/plain": [
       "tensor([-2., -1.,  0.,  1.,  2.])"
      ]
     },
     "metadata": {},
     "execution_count": 2
    }
   ],
   "source": [
    "\"\"\"构建一个没有任何参数的自定义层\"\"\"\n",
    "import torch\n",
    "import torch.nn.functional as F\n",
    "from torch import nn\n",
    "\n",
    "class CenterLayer(nn.Module):\n",
    "  def __init__(self):\n",
    "    super().__init__()\n",
    "\n",
    "  def forward(self, X):\n",
    "    return X - X.mean()\n",
    "\n",
    "layer =  CenterLayer()\n",
    "layer(torch.FloatTensor([1, 2, 3, 4, 5]))"
   ]
  },
  {
   "cell_type": "code",
   "source": [
    "\"\"\"将层作为组件合并到构建更复杂的模型中\"\"\"\n",
    "net = nn.Sequential(nn.Linear(8, 128), CenterLayer())\n",
    "\n",
    "Y = net(torch.rand(4, 8)) ## torch.rand符合均匀分布[0,1]\n",
    "Y.mean()"
   ],
   "metadata": {
    "colab": {
     "base_uri": "https://localhost:8080/"
    },
    "id": "gOVWZB-JZJWa",
    "executionInfo": {
     "status": "ok",
     "timestamp": 1678953053749,
     "user_tz": -480,
     "elapsed": 424,
     "user": {
      "displayName": "yatian yun",
      "userId": "14499165712729714688"
     }
    },
    "outputId": "a6d55a34-35f1-41ca-ff6e-f8abe6c95928",
    "pycharm": {
     "name": "#%%\n"
    }
   },
   "execution_count": 3,
   "outputs": [
    {
     "output_type": "execute_result",
     "data": {
      "text/plain": [
       "tensor(2.7940e-09, grad_fn=<MeanBackward0>)"
      ]
     },
     "metadata": {},
     "execution_count": 3
    }
   ]
  },
  {
   "cell_type": "code",
   "source": [
    "\"\"\"带参数的图层\"\"\"\n",
    "class MyLinear(nn.Module):\n",
    "  def __init__(self, in_units, units):\n",
    "    super().__init__()\n",
    "    self.weight = nn.Parameter(torch.randn(in_units, units)) ## torch.randn符合正态分布[0,1]\n",
    "    self.bias = nn.Parameter(torch.randn(units, ))\n",
    "\n",
    "  def forward(self, X):\n",
    "    linear = torch.matmul(X, self.weight.data) + self.bias.data\n",
    "    return F.relu(linear)\n",
    "\n",
    "dense = MyLinear(5, 3) ## 只是进行了初始化，调用forward函数\n",
    "dense.weight"
   ],
   "metadata": {
    "colab": {
     "base_uri": "https://localhost:8080/"
    },
    "id": "s6b13JA_ay_S",
    "executionInfo": {
     "status": "ok",
     "timestamp": 1678954471035,
     "user_tz": -480,
     "elapsed": 381,
     "user": {
      "displayName": "yatian yun",
      "userId": "14499165712729714688"
     }
    },
    "outputId": "aeb8c52d-98c7-43da-d345-2a3e201f48d4",
    "pycharm": {
     "name": "#%%\n"
    }
   },
   "execution_count": 15,
   "outputs": [
    {
     "output_type": "execute_result",
     "data": {
      "text/plain": [
       "Parameter containing:\n",
       "tensor([[-0.0931,  1.3423, -1.9284],\n",
       "        [ 0.5786, -0.0748, -0.0039],\n",
       "        [ 2.0042,  0.1722, -0.0890],\n",
       "        [-1.3341, -0.4915, -1.2662],\n",
       "        [ 0.5106,  0.0814,  1.5259]], requires_grad=True)"
      ]
     },
     "metadata": {},
     "execution_count": 15
    }
   ]
  },
  {
   "cell_type": "code",
   "source": [
    "\"\"\"使用自定义层直接执行正向传播计算\"\"\"\n",
    "dense(torch.rand(2,5))"
   ],
   "metadata": {
    "colab": {
     "base_uri": "https://localhost:8080/"
    },
    "id": "GXVNLauueKDa",
    "executionInfo": {
     "status": "ok",
     "timestamp": 1678954474788,
     "user_tz": -480,
     "elapsed": 803,
     "user": {
      "displayName": "yatian yun",
      "userId": "14499165712729714688"
     }
    },
    "outputId": "7ad3984d-004b-4765-9c29-e43c8f125469",
    "pycharm": {
     "name": "#%%\n"
    }
   },
   "execution_count": 16,
   "outputs": [
    {
     "output_type": "execute_result",
     "data": {
      "text/plain": [
       "tensor([[1.9410, 2.1140, 0.7889],\n",
       "        [0.0000, 1.6737, 0.0000]])"
      ]
     },
     "metadata": {},
     "execution_count": 16
    }
   ]
  },
  {
   "cell_type": "code",
   "source": [
    "\"\"\"使用自定义层构建模块\"\"\"\n",
    "net = nn.Sequential(MyLinear(64, 8), MyLinear(8, 1))\n",
    "net(torch.rand(2, 64))"
   ],
   "metadata": {
    "colab": {
     "base_uri": "https://localhost:8080/"
    },
    "id": "8cjBSZZHefp2",
    "executionInfo": {
     "status": "ok",
     "timestamp": 1678954477797,
     "user_tz": -480,
     "elapsed": 379,
     "user": {
      "displayName": "yatian yun",
      "userId": "14499165712729714688"
     }
    },
    "outputId": "a95ff799-2399-43c8-de32-38c73abfd69d",
    "pycharm": {
     "name": "#%%\n"
    }
   },
   "execution_count": 17,
   "outputs": [
    {
     "output_type": "execute_result",
     "data": {
      "text/plain": [
       "tensor([[0.0000],\n",
       "        [1.9819]])"
      ]
     },
     "metadata": {},
     "execution_count": 17
    }
   ]
  }
 ]
}